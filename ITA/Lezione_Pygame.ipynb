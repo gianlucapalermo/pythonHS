{
 "cells": [
  {
   "cell_type": "markdown",
   "metadata": {},
   "source": [
    "# Pygame: Creiamo un piccolo gioco in Python!\n",
    "\n",
    "Pygame è una libreria pensata per il supporto allo sviluppo di giochi usando python. In realtà il supporto di pygame è relativo alla gestione della grafica che ovviamente è parte importante di un videogioco.\n",
    "\n",
    "Come già visto in precedenza, per poter usare le potenzialità del modulo pygame devo importarlo nel primo programma python. Per farlo devo usare `import pygame`.\n",
    "\n",
    "Inoltre per porter usare le funzionalità di pygame, prima devo inizializzare il modulo pygame. Per farlo devo usare il comando `pygame.init()`\n"
   ]
  },
  {
   "cell_type": "code",
   "execution_count": null,
   "metadata": {},
   "outputs": [],
   "source": [
    "import pygame\n",
    "\n",
    "pygame.init()\n"
   ]
  },
  {
   "cell_type": "markdown",
   "metadata": {},
   "source": [
    "Ottimo, Siamo ora pronti per fare il nostro primo gioco! ... ma prima ci manca ancora qualcosa.\n",
    "\n",
    "Come faccio ad avere uno schermo di gioco?! Pygame fornisce una funzione per definire lo schermo di gioco: `pygame.display.set_mode((SizeX,SizeY))`\n",
    "\n",
    "La funzione mi restituisce un oggetto che userò successivamente per animarlo e configurarlo a mio piacere.\n"
   ]
  },
  {
   "cell_type": "code",
   "execution_count": null,
   "metadata": {},
   "outputs": [],
   "source": [
    "import pygame\n",
    "import time\n",
    "\n",
    "pygame.init()\n",
    "\n",
    "schermoDiGioco = pygame.display.set_mode((400,300))\n",
    "pygame.display.set_caption(\"Test Game\")\n",
    "\n",
    "\n",
    "time.sleep(3)\n",
    "pygame.quit()\n",
    "#quit()\n"
   ]
  },
  {
   "cell_type": "markdown",
   "metadata": {},
   "source": [
    "Perfetto! ... Adesso dobbiamo incominciare a mettere dentro al nostro schermo di gioco qualcosa di utile. \n",
    "\n",
    "Prima di fare questo dobbiamo ragionare sulla logica di un gioco, ed in particolare sul fatto che il gioco non è un programma che elabora dei dati e finisce. Infatti un gioco è un particolare programma che continua a girare aspettando interazioni con l'utente.\n",
    "\n",
    "Per implementare questo meccanismo, dobbiamo introdurre un nuovo costrutto di controllo per l'implementazione di cicli: il WHILE.\n"
   ]
  },
  {
   "cell_type": "markdown",
   "metadata": {},
   "source": [
    "Il ciclo while itera l'esecuzione delle istruzioni che fanno parte del corpo del ciclo fintanto che una condizione è vera.\n",
    "\n",
    "Il ciclo while è introdotto dalla keyword `while`, seguita da una condizione (detta condizione di permanenza nel ciclo) e dai due punti `:`; dopo i due punti è presente un blocco di codice indentato (che può anche essere formato da più righe). \n",
    "\n",
    "Vediamo un esempio:\n",
    "\n",
    "- In questo semplice esempio le istruzioni all'interno del corpo del ciclo sono eseguite fino a che il valore della variabile *i* rimane <10. Quando la condizione non è più vera, *i=10*, allora si esce dal ciclo (il ciclo termina) e si esegue l'istruzione successiva."
   ]
  },
  {
   "cell_type": "code",
   "execution_count": null,
   "metadata": {},
   "outputs": [],
   "source": [
    "i = 0\n",
    "\n",
    "while (i<10):\n",
    "    print(\"[\" + str(i)+\"] sono ancora dentro al ciclo\")\n",
    "    i = i+1\n",
    "\n",
    "print(\"Ora sono fuori dal ciclo, i=\" + str(i))"
   ]
  },
  {
   "cell_type": "markdown",
   "metadata": {},
   "source": [
    "Una volta compreso il funzionamento del `while`, ci accorgiamo che esso è alternativo al `for` poichè mentre quest'ultimo itera su un insieme di elementi (tendenzialmente noti all'entrata nel ciclo), il `while`lo fa fino al verificarsi di una condizione. La permanenza del ciclo può non essere a priori nota.\n",
    "\n",
    "Proprio questa caratteristica è quella che andremo ad usare nell'implementazione del nostro gioco. Infatti noi vogliamo continuare a interagire con l'utente fino a che quest'ultimo non andrà a decidere di chiudere l'applicazione (condizione di terminazione).\n",
    "\n",
    "Quello che è mostrato qui sotto è lo scheletro di base di un gioco con PyGame. Principalmente è composto da 3 elementi:\n",
    "\n",
    "- Viene usata una variabile, che è inizializzata a VERO, che determina se il gioco è attivo. Fino a che il gioco è attivo (`giocoAttivo==True`), si continua ad eseguire il corpo del ciclo.\n",
    "- Ad ogni iterazione vengono letti (usando una funzione specifica di PyGame) tutti gli eventi che possono interessare l'evoluzione del gioco. Eventi che tengono conto della presenza del mouse in una determinata posizione, della pressione del bottone del mouse o di un tasto della tastiera, oppure la chiusura della finestra di gioco. Proprio questo è il tipo di evento che viene qui usato per decretare che il gioco non è più attivo (`giocoAttivo=False`), quindi uscire dal ciclo, e chiudere il gioco (`pygame.quit()`).\n",
    "    - Per vedere tutti gli eventi che sono catturati dalla funzione `pygame.event.get()`, si commenti la linea con `print(event)`"
   ]
  },
  {
   "cell_type": "code",
   "execution_count": null,
   "metadata": {},
   "outputs": [],
   "source": [
    "import pygame\n",
    "import time\n",
    "\n",
    "pygame.init()\n",
    "\n",
    "dimensioniSchermoX = 400\n",
    "dimensioniSchermoY = 300\n",
    "\n",
    "schermoDiGioco = pygame.display.set_mode((dimensioniSchermoX,dimensioniSchermoY))\n",
    "pygame.display.set_caption(\"Test Game\")\n",
    "\n",
    "giocoAttivo = True\n",
    "\n",
    "while (giocoAttivo==True):\n",
    "    \n",
    "    #Identificazione di eventi\n",
    "    for event in pygame.event.get():\n",
    "        #print(event)\n",
    "        if event.type==pygame.QUIT:\n",
    "            giocoAttivo = False\n",
    "            \n",
    "pygame.quit()\n"
   ]
  },
  {
   "cell_type": "markdown",
   "metadata": {},
   "source": [
    "Se mi hai seguito fino a qui, siamo a buon punto perchè ora è solo questione di conoscere qualche funzione particolare di pygame per poter iniziare a creare il tuo gioco. Non dimenticare che ti servirà tutto ciò che abbiamo imparato anche nelle lezioni precedenti.\n",
    "\n",
    "- *TEMPO*\n",
    "    - PyGame, ma in generale i giochi, hanno la nozione del tempo. Questa è una cosa che fino ad ora non hai mai visto... in realtà non è vero perchè poco qui sopra abbiamo usato la funzione `time.sleep(3)` che metteva in pausa per 3 secondi il gioco. \n",
    "    - Il concetto di tempo in un primo gioco lo useremo solo per definire ogni quanto far avanzare il gioco, cioè ogni quanto *aggiornare lo stato dello schermo di gioco*. Questo concetto si chiama anche *frame rate*, cioè quanti aggiornamenti al secondo verranno fatti sullo schermo. \n",
    "    - Dichiareremo un *orologio* usando la funzione di pygame `pygame.time.Clock()`. L'oggetto restituito può essere usato per stabilire appunto il frame rate. Ad esempio `clock.tick(50)` definisce che quella istruzione non può essere chiamata più di 50 volte al secondo, ed in particolare definisce che tra due chiamate successive alla funzione *tick* non possono passare più di 20ms.\n",
    "\n",
    "- *DISEGNO DI UNA FORMA GEOMETRICA*\n",
    "    - PyGame ha delle funzioni predefinite che possono essere usate per disegnere delle forme geometriche (vedi https://www.pygame.org/docs/ref/draw.html). Ad esempio\n",
    "        - Cerchio `pygame.draw.circle(schermoDiGioco, colore, (x,y), radius, thickness)`. La variabile *schermoDiGioco* è lo schermo dichiarato in fase di inizializzazione; il *colore* è una tripletta di valori RGB (Red, Green, Blue) che determina il colore del cerchio; (x,y) sono le coordinate del centro del cerchio; *radius* è il raggio della circonferenza; La variabile *thickness* rappresenta lo spessore del rettangolo (se assente il rettangolo è pieno).\n",
    "        - Rettangolo: `pygame.draw.rect(schermoDiGioco, colore, Rect, thickness)`. La variabile schermoDiGioco è lo schermo dichiarato in fase di inizializzazione; il colore è la tripletta RGB vista anche per il cerchio; Rect è una lista di 4 valori che compongono il rettangolo come l'angolo in alto a sinistra e la lunghezza dei due lati su x e y. Ad esempio `[100, 50, 15, 10]` rappresenta un rettangolo con un angolo nelle coordinate (100,50) e lati 15 e 10. La variabile *thickness* rappresenta lo spessore del rettangolo (se assente il rettangolo è pieno).\n",
    "        - Alcuni esempi di colori in RGB: red = (255,0,0); green = (0,255,0); blue = (0,0,255); darkBlue = (0,0,128); white = (255,255,255); black = (0,0,0); pink = (255,200,200)\n",
    "\n",
    "- *AGGIORNAMENTO DELLO SCHERMO*\n",
    "    -  PyGame non aggiorna immediatamente lo schermo con tutte le forme che sono state istanziate, ma il tutto deve essere esplicitamente fatto usando la funzione `pygame.display.update()` che viene chiamata una volta ad ogni iterazione del ciclo di gioco.\n"
   ]
  },
  {
   "cell_type": "code",
   "execution_count": null,
   "metadata": {},
   "outputs": [],
   "source": [
    "import pygame\n",
    "import time\n",
    "\n",
    "pygame.init()\n",
    "\n",
    "dimensioniSchermoX = 400\n",
    "dimensioniSchermoY = 300\n",
    "\n",
    "schermoDiGioco = pygame.display.set_mode((dimensioniSchermoX,dimensioniSchermoY))\n",
    "pygame.display.set_caption(\"Test Game\")\n",
    "\n",
    "giocoAttivo = True\n",
    "clock = pygame.time.Clock()\n",
    "\n",
    "#nero in RGB\n",
    "red = (255,0,0)\n",
    "green = (0,255,0)\n",
    "black = (0,0,0)\n",
    "\n",
    "\n",
    "while (giocoAttivo==True):\n",
    "    \n",
    "    pygame.draw.circle(schermoDiGioco, red, (240,60), 30)\n",
    "    pygame.draw.rect(schermoDiGioco, green, [100, 150, 50, 35], 2)\n",
    "\n",
    "    #Identificazione di eventi\n",
    "    for event in pygame.event.get():\n",
    "        #print(event)\n",
    "        if event.type==pygame.QUIT:\n",
    "            giocoAttivo = False\n",
    "\n",
    "    pygame.display.update()\n",
    "    #Limita il massimo Frame Rate al secondo\n",
    "    clock.tick(50)\n",
    "\n",
    "pygame.quit()\n",
    "\n",
    "#quit()"
   ]
  },
  {
   "cell_type": "markdown",
   "metadata": {},
   "source": [
    "Finora abbiamo solo disegnato sullo schermo ma non abbiamo nessuna dinamicità in ciò che abbiamo fatto. In pratica continuiamo a \"disengare\" nello stesso punto il cerchio e il rettangolo usati come esempi. Come faccio a rendere il tutto più dinamico e ad animarli? \n",
    "\n",
    "La risposta è semplice, proviamo a spostarli dalla posizione attuale o a cambiarne la dimensione. Per farlo ci basta usare una variabile per le coordinate x e y del centro del cerchio o dell'angolo in alto a sinistra del rettangolo. Ad ogni iterazione possiamo aggiornarne il valore e provare a vedere l'effetto.\n",
    "\n",
    "Attenzione però, se vuoi \"cancellare quello che c'era prima disegnato\" sullo *schermoDiGioco*, devi usare la funzione `schermoDiGioco.fill(colore)`, dove colore è la solita tripletta di valori RGB - (0,0,0) per lo schermo nero. "
   ]
  },
  {
   "cell_type": "code",
   "execution_count": null,
   "metadata": {},
   "outputs": [],
   "source": [
    "import pygame\n",
    "import time\n",
    "\n",
    "pygame.init()\n",
    "\n",
    "dimensioniSchermoX = 400\n",
    "dimensioniSchermoY = 300\n",
    "\n",
    "schermoDiGioco = pygame.display.set_mode((dimensioniSchermoX,dimensioniSchermoY))\n",
    "pygame.display.set_caption(\"Test Game\")\n",
    "\n",
    "giocoAttivo = True\n",
    "clock = pygame.time.Clock()\n",
    "\n",
    "#nero in RGB\n",
    "red = (255,0,0)\n",
    "green = (0,255,0)\n",
    "black = (0,0,0)\n",
    "\n",
    "xCerchio = 240\n",
    "dimYRettangolo = 35\n",
    "\n",
    "while (giocoAttivo==True):\n",
    "    schermoDiGioco.fill(black)\n",
    "    pygame.draw.circle(schermoDiGioco, red, (xCerchio,60), 30)\n",
    "    pygame.draw.rect(schermoDiGioco, green, [100, 150, 50, dimYRettangolo], 2)\n",
    "\n",
    "    #Identificazione di eventi\n",
    "    for event in pygame.event.get():\n",
    "        #print(event)\n",
    "        if event.type==pygame.QUIT:\n",
    "            giocoAttivo = False\n",
    "            \n",
    "    xCerchio = xCerchio +1\n",
    "    dimYRettangolo = dimYRettangolo +1\n",
    "    \n",
    "    pygame.display.update()\n",
    "    #Limita il massimo Frame Rate al secondo\n",
    "    clock.tick(50)\n",
    "\n",
    "pygame.quit()\n",
    "#quit()"
   ]
  },
  {
   "cell_type": "markdown",
   "metadata": {},
   "source": [
    "Ora abbiamo tutti gli elementi per poter animare qualcosa a video. Proviamo come primo esempio a creare una animazione che faccia rimbalzare un cerchio da destra a sx dello schermo. Una volta fatto questo possiamo anche animare il cerchio in modo da farlo muovere all'interno dello schermo sempre rimbalzando sulle pareti come se fosse una palla magica."
   ]
  },
  {
   "cell_type": "code",
   "execution_count": null,
   "metadata": {},
   "outputs": [],
   "source": [
    "# Soluzione: Suggerimento\n",
    "# considerando updateX la variabile di aggiornamento schermo\n",
    "# e xCerchio \n",
    "# xCerchio= xCerchio + updateX\n",
    "# if (xCerchio >= dimSchermoX) or (xCerchio <= 0):\n",
    "#     updateX = -1*updateX\n",
    "\n"
   ]
  },
  {
   "cell_type": "markdown",
   "metadata": {},
   "source": [
    "Si inserisca anche un rettangolo all'interno dello schermo che devo far scomparire nel momento in cui viene colpito dalla palla."
   ]
  },
  {
   "cell_type": "code",
   "execution_count": null,
   "metadata": {},
   "outputs": [],
   "source": [
    "# Inserisci qui la soluzione:\n",
    "# Suggerimento\n",
    "\n",
    "# If colpito == False:\n",
    "#       pygame.draw.rect(...)\n",
    "\n",
    "\n"
   ]
  },
  {
   "cell_type": "markdown",
   "metadata": {},
   "source": [
    "Possiamo ora aggiungere altre cose al gioco, come per esempio scritte che possono apparire in determinati momenti (o per sempre): "
   ]
  },
  {
   "cell_type": "code",
   "execution_count": null,
   "metadata": {},
   "outputs": [],
   "source": [
    "font = pygame.font.Font(None, 60)\n",
    "text = font.render(\"Scritta di prova\", True, colore)\n",
    "schermoDiGioco.blit(text, (400 - text.get_width() // 2, 300 - text.get_height() // 2))"
   ]
  },
  {
   "cell_type": "markdown",
   "metadata": {},
   "source": [
    "Oppure possiamo catturare degli eventi per rendere il tutto più interessate e interattivo. Qui sotto vedete due esempi in cui si aggiunge una azione ad un evento di pressione del bottone del Mouse o delle frecce Destra e Sinistra sulla tastiera..."
   ]
  },
  {
   "cell_type": "code",
   "execution_count": null,
   "metadata": {},
   "outputs": [],
   "source": [
    "    for event in pygame.event.get():\n",
    "        # ...\n",
    "        if (event.type == pygame.MOUSEBUTTONDOWN):\n",
    "                mouse_pos = pygame.mouse.get_pos()\n",
    "                mouse_xPos=mouse_pos[0]\n",
    "                mouse_yPos=mouse_pos[1]\n",
    "                                \n",
    "        if event.type == pygame.KEYDOWN:\n",
    "                if event.key == pygame.K_LEFT:\n",
    "                    posizioneX = -5\n",
    "                if event.key == pygame.K_RIGHT:\n",
    "                    posizioneX = 5"
   ]
  },
  {
   "cell_type": "markdown",
   "metadata": {},
   "source": [
    "... Ora puoi divertirti quanto vuoi a creare il tuo giochino preferito!"
   ]
  }
 ],
 "metadata": {
  "kernelspec": {
   "display_name": "Python 3",
   "language": "python",
   "name": "python3"
  },
  "language_info": {
   "codemirror_mode": {
    "name": "ipython",
    "version": 3
   },
   "file_extension": ".py",
   "mimetype": "text/x-python",
   "name": "python",
   "nbconvert_exporter": "python",
   "pygments_lexer": "ipython3",
   "version": "3.6.4"
  }
 },
 "nbformat": 4,
 "nbformat_minor": 2
}
