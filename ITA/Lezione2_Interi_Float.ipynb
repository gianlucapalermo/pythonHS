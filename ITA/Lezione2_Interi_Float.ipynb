{
 "cells": [
  {
   "cell_type": "markdown",
   "metadata": {},
   "source": [
    "# Numeri in con la virgola (Virgola mobile)\n",
    "Abbiamo già visto operatori che possoo essere applicati ai numeri quali: +, -, /, //, * and **. \n",
    "\n",
    "Mentre il risultato della maggior parte di questi operatori usati su numeri interi danno un risultato intero, esistono casi in cui questo non è vero. Gli esempi classici sono la divisione e l'elevamento a potenza con potenza negativa.\n",
    "    \n",
    "    Il risultato di una operazione di divisione / è di tipo float (virgola mobile).\n",
    "    Lo stesso vale per l'operazione di elevamento a potenza con potenza negativa.\n"
   ]
  },
  {
   "cell_type": "code",
   "execution_count": null,
   "metadata": {},
   "outputs": [],
   "source": [
    "print(17 / 3)\n",
    "print(2 ** -2)"
   ]
  },
  {
   "cell_type": "markdown",
   "metadata": {},
   "source": [
    "Quando vogliamo leggere un valore intero usando la funzione `input( )`, dobbiamo applicare la funzione di conversione di tipo int(). Lo stesso viene applicato nel momento in cui il valore che vogliamo leggere non è di tipo intero ma in virgola mobile. Per farlo è sufficiente usare la funzione `float( )`. Attenzione che in tutti gli ambienti scientifici la virgola è rappresentata da un PUNTO (.)."
   ]
  },
  {
   "cell_type": "code",
   "execution_count": null,
   "metadata": {},
   "outputs": [],
   "source": [
    "x = float(input())\n",
    "print(x)"
   ]
  },
  {
   "cell_type": "markdown",
   "metadata": {},
   "source": [
    "I numeri in virgola mobile (Float) sono anche usati per rappresentare valori assoluti molto grandi o molto piccoli, usando la notazione scientifica composta dalla Mantissa del numero moltiplicata per 10 alla Esponente: \n",
    "\n",
    "    MANTISSA * 10^ESPONENTE \n",
    "\n",
    "Esempi sono la distanza Terra-Sole 1.496·10^11 metri, anche scritta come 1.496e11 in Python; o la massa di una molecola di acqua 2.99·10^-23 grammi, anche scritta come 2.99e-23 in Python.\n",
    "\n",
    "Come per le stringhe, possiamo anche fare una conversione di tipo tra un valore float e un intero. Questa volta però se usiamo la funzione `int()` succede qualcosa di strano:"
   ]
  },
  {
   "cell_type": "code",
   "execution_count": null,
   "metadata": {},
   "outputs": [],
   "source": [
    "# Uso della funzione che fa il cast ad intero\n",
    "print(int(1.3))\n",
    "print(int(1.7))\n",
    "print(int(-1.3))\n",
    "print(int(-1.7)) "
   ]
  },
  {
   "cell_type": "markdown",
   "metadata": {},
   "source": [
    "Qualcosa di simile può essere ottenuta con un'altra funzione di Python `round()` che serve per \"arrotondare\" all'intero più vicino.  "
   ]
  },
  {
   "cell_type": "code",
   "execution_count": null,
   "metadata": {},
   "outputs": [],
   "source": [
    "# Uso della funzione round \n",
    "print(round(1.3))\n",
    "print(round(1.7))\n",
    "print(round(-1.3))\n",
    "print(round(-1.7))"
   ]
  },
  {
   "cell_type": "markdown",
   "metadata": {},
   "source": [
    "Attenzione! \n",
    "I numeri float non sono sempre rappresentati in maniera precisa. Questo è dovuto al fatto che internamente essi sono memorizzati usando un numero finito di bit.\n",
    "A volte questo può portare a dei problemi particolari. \n",
    "\n",
    "Quale è il risultato della seguente operazione?"
   ]
  },
  {
   "cell_type": "code",
   "execution_count": null,
   "metadata": {},
   "outputs": [],
   "source": [
    "print(0.1 + 0.2)"
   ]
  },
  {
   "cell_type": "markdown",
   "metadata": {},
   "source": [
    "# Altre funzioni matematiche\n",
    "Python ha molti operatori e funzioni matematiche ma molti altri non sono \"nativamente\" supportati e richiedono l'aiuto di funzioni scritte da altri e salvate in \"librerie\" chiamate moduli.\n",
    "\n",
    "Infatti, Python ha molte funzioni per calcolara con i float che possono essere trovati nella libreria/modulo `math`.\n",
    "\n",
    "Per usare questo modulo è sufficiente scrivere all'inizio del programma la seguente istruzione:\n",
    "\n",
    "`import math`\n",
    "\n",
    "Per esempio se si vuole arrotondare un valore x con la virgola all'intero superiore, possiamo uusare una funzione del modulo math: `math.ceil(x)`\n",
    "\n",
    "La sintssi per chiamare le funzioni all'interno dei moduli è sempre la stessa:\n",
    "\n",
    "    nome_del_modulo.nome_della_funzione(parametro_1, parametro_2, ...)\n"
   ]
  },
  {
   "cell_type": "code",
   "execution_count": null,
   "metadata": {},
   "outputs": [],
   "source": [
    "import math\n",
    "\n",
    "x = math.ceil(4.2)\n",
    "print(x)\n",
    "print(math.ceil(1 + 3.8))"
   ]
  },
  {
   "cell_type": "markdown",
   "metadata": {},
   "source": [
    "Per ridurre la quantità di testo da dover scrivere per richiamare una funzione di un modulo, in Python esiste anche una modalità alternativa. In questo secondo modo, si dichiara esplicitamente quali funzioni verranno usate all'interno del codice che state scrivendo, rendendo non necessario dichiarare il nome del modulo ogni qual volta si voglia usare la funzione."
   ]
  },
  {
   "cell_type": "code",
   "execution_count": null,
   "metadata": {},
   "outputs": [],
   "source": [
    "from math import ceil\n",
    " \n",
    "x = 7 / 2\n",
    "y = ceil(x)\n",
    "print(y)"
   ]
  },
  {
   "cell_type": "markdown",
   "metadata": {},
   "source": [
    "Come detto in precedenza, alcune delle funzioni che hanno a che fare con i numeri (ad esempio `int()`, `round()`, `abs()` che restutuische il valore assoluto...), sono native (built-in) in Python e non richiedono nessun import.\n",
    "\n",
    "Esistono moltissimi moduli standard Python e per sapere cosa è possibile fare bisogna guardare la documentazione disponibile nel website ufficiale di Python.\n",
    "\n",
    "Come esempio qui possiamo vedere la descrizione di alcune funzioni del modulo `math`:"
   ]
  },
  {
   "cell_type": "markdown",
   "metadata": {},
   "source": [
    "Rounding\n",
    "\n",
    "    floor(x)\tReturn the floor of x, the largest integer less than or equal to x.\n",
    "    ceil(x)     Return the ceiling of x, the smallest integer greater than or equal to x.\n",
    "\n",
    "Roots and logarithms\n",
    "    \n",
    "    sqrt(x)\t    Return the square root of x\n",
    "    log(x)\t    With one argument, return the natural logarithm of x (to base e). With two arguments, return the logarithm of x to the given base\n",
    "    e\t        The mathematical constant e = 2,71828...\n",
    "\n",
    "Trigonometry\n",
    "    \n",
    "    sin(x)\t    Return the sine of x radians\n",
    "    asin(x)\t    Return the arcsine of x, in radians\n",
    "    pi\t        The mathematical constant π = 3.1415...\n",
    "    \n",
    "[others ...]"
   ]
  },
  {
   "cell_type": "code",
   "execution_count": null,
   "metadata": {},
   "outputs": [],
   "source": [
    "import math\n",
    "print(math.e)\n",
    "print(math.pi)\n",
    "print(math.sin(math.pi/2))"
   ]
  }
 ],
 "metadata": {
  "kernelspec": {
   "display_name": "Python 3",
   "language": "python",
   "name": "python3"
  },
  "language_info": {
   "codemirror_mode": {
    "name": "ipython",
    "version": 3
   },
   "file_extension": ".py",
   "mimetype": "text/x-python",
   "name": "python",
   "nbconvert_exporter": "python",
   "pygments_lexer": "ipython3",
   "version": "3.6.4"
  }
 },
 "nbformat": 4,
 "nbformat_minor": 2
}
