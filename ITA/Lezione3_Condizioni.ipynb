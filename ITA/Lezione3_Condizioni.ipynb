{
 "cells": [
  {
   "cell_type": "markdown",
   "metadata": {},
   "source": [
    "# Condizioni: Costrutti if, (then,) else\n",
    "Tutti i programmi che abbiamo analizzato e scritto fino ad ora sono eseguiti sequenzialmente, una riga dopo l'altra. Nessuna istruzione può essere saltata.\n",
    "\n",
    "Questa cosa però non sempre va bene. Proviamo a considerare il problema che, una volta letto un numero in ingresso, ne voglia determinare il valore assouto. In questo caso infatti noi vorremmo che se il numero X ricevuto fosse >0 allora il programma dovrebbe stampare il valore X così ricevuto, altrimenti dovrebbe stamparne l'opposto, -X.\n",
    "Questo comportamento non è implementabile usando un programma puramente sequenziale (a meno di usare la funzione `abs(x)`). Per farlo dobbiamo usare un nuovo costrutto detto condizionale chiamato \"if, (then,) else\".\n",
    "\n",
    "Vediamo qui sotto come possiamo risolvere il problema appena descritto:"
   ]
  },
  {
   "cell_type": "code",
   "execution_count": null,
   "metadata": {},
   "outputs": [],
   "source": [
    "x = int(input())\n",
    "if x > 0:\n",
    "    print(x)\n",
    "else:\n",
    "    print(-x)"
   ]
  },
  {
   "cell_type": "markdown",
   "metadata": {},
   "source": [
    "Questo programma usa il costrutto condizionale `if-else`. Infatti, poniamo una condizione `(x > 0)` per determinare quele delle due `print(.)` dovere eseguire.\n",
    "Se la condizione è vera eseguiremo il blocco di codice che segue i `:`, cioè la prima print, `print(x)`. Se è falsa invece eseguiremo il blocco di codice che segue il costrutto `else:`, cioè la seconda print, `print(-x)`. **Ogni blocco di codice deve essere indentatato usando gli stessi spazi**\n",
    "\n",
    "Riassimendo, il blocco condizionale in Python ha la seguente sintassi:"
   ]
  },
  {
   "cell_type": "markdown",
   "metadata": {},
   "source": [
    "    if condizione:\n",
    "        blocco-vero\n",
    "        una o diverse istruzioni da eseguite \n",
    "        se la condizione da valutare è vera (True)\n",
    "    else:\n",
    "        blocco-falso\n",
    "        una o diverse istruzioni da eseguite \n",
    "        se la condizione da valutare è falsa (False)"
   ]
  },
  {
   "cell_type": "markdown",
   "metadata": {},
   "source": [
    "La parola chiave (keyword) `else` può essere omessa, insieme al \"blocco-falso\", se non sono interessato alla condizione \"falsa\". Per esempio, posso riscrivere il problema di prima usando solo la keyword `if` come segue:"
   ]
  },
  {
   "cell_type": "code",
   "execution_count": null,
   "metadata": {},
   "outputs": [],
   "source": [
    "x = int(input())\n",
    "if x < 0:\n",
    "    x = -x\n",
    "print(x)"
   ]
  },
  {
   "cell_type": "markdown",
   "metadata": {},
   "source": [
    "In questo semplice esempio, la variabile x è assegnata a -x solo se il valore ricevuto è negativo `(x<0)`. \n",
    "Rispetto a prima, userò una unica istruzione di print `print(x)` che verrà sempre eseguita. Essa infatti non fa prte del blocco-vero, dato che non rispetta l'indentazione della precedente istruzione `x = -x`.\n",
    "\n",
    "L'indentazione è il modo con cui in Python si effettua la separazione tra blocchi di codice. Tutte le istruzioni appartenenti allo stesso blocco, verranno eseguite nello stesso modo (cioè seguiranno le stesse condizioni) e devono essere indentate allo stesso modo. E' suggerito di usare 4 spazi per l'indentazione o il TAB.\n",
    "\n",
    "Il concetto di indentazione forzata è una delle principali differenze di Python rispetto alla maggior parte degli altri linguaggi che suggeriscono l'indentazione per facilitare la \"leggibilità\" del codice ma che usano le parentesi graffe { e } per separare i blocchi di istruzioni."
   ]
  },
  {
   "cell_type": "markdown",
   "metadata": {},
   "source": [
    "# Operatori di Confronto\n",
    "Gli operatori usati solitemante all'interno di un costrutto condizionale `if-else`sono quelli di confronto. Qui di seguito trovate i simboli da usare nel caso si voglia confrontare due variabili:\n",
    "\n",
    "    <      minore — Il risultato è vero se il valore a sinistra del simbolo di confronto è minore di quello a destra.\n",
    "    >      maggiore — Il risultato è vero se il valore a sinistra del simbolo di confronto è maggiore di quello a destra.\n",
    "    <=     minore o uguale — Il risultato è vero se il valore a sinistra del simbolo di confronto è minore o uguale di quello a destra.\n",
    "    >=     maggiore o uguale — Il risultato è vero se il valore a sinistra del simbolo di confronto è maggiore o uguale di quello a destra. \n",
    "    ==     uguale — Il risultato è vero se il valore a sinistra del simbolo di confronto è uguale a quello a destra.\n",
    "    !=     diverso — Il risultato è vero se il valore a sinistra del simbolo di confronto è diverso (non uguale) a quello a destra.\n",
    "    \n",
    "Per esempio, la condizione `x * x < 1000` significa *“Verifica se il valore della espressione x\\*x è minore di 1000\"*, oppure la condizione `2 * x != y` significa *“Verifica se il doppio del valore di x (2\\*x) è diverso dal valore della variabile y\"*."
   ]
  },
  {
   "cell_type": "markdown",
   "metadata": {},
   "source": [
    "# Condizioni annidate\n",
    "Ogni istruzione Python può essere inserita in un blocco-vero o in un blocco-falso. Questo è vero anche per le istruzioni condizionali a loro volta. In pratica è possibile avere condizioni annidate in altre condizioni.\n",
    "Questo non crea alcun problema, anzi è un modo ampiamente utilizzato nei programmi che però richiede attenzione specialmente in Python a causa della indentazione \"forzata\" dei blocchi di istruzioni. Infatti, le condizioni annidate richiedono il doppio dello spazio delle istruzioni condizionali semplici. \n",
    "\n",
    "Vediamo un semplice esempio per capire megio. Vogliamo identificare in quale quadrante si trova il punto che viene letto in ingresso.\n",
    "\n",
    "In questo esempio il primo elemento del blocco di istruzioni non è una istruzione ma è un commento che viene usato solo per spiegare le condizioni che ci portano dentro quello specifico blocco di codice.\n",
    "Il commento è tutto cio che segue il simbolo hash/\"cancelletto\" `#` fino alla fine della riga."
   ]
  },
  {
   "cell_type": "code",
   "execution_count": null,
   "metadata": {},
   "outputs": [],
   "source": [
    "x = int(input())\n",
    "y = int(input())\n",
    "if x > 0:\n",
    "    if y > 0:\n",
    "        # x > 0, y > 0\n",
    "        print(\"Quadrante I\")\n",
    "    else:    \n",
    "        # x > 0, y < 0\n",
    "        print(\"Quadrante IV\")\n",
    "else:\n",
    "    if y > 0:\n",
    "        # x < o = 0, y > 0\n",
    "        print(\"Quadrante II\")\n",
    "    else:    \n",
    "        # x < o = 0, y < o = 0\n",
    "        print(\"Quadrante III\")"
   ]
  },
  {
   "cell_type": "markdown",
   "metadata": {},
   "source": [
    "# Più di 2 opzioni: 'elif'\n",
    "\n",
    "Se si hanno più di 2 condizioni da verificare, e non solo il vero e il falso, è possibile usare un costrutto che \"completa\" il classico if-else: `if-elif-else`. \n",
    "\n",
    "Proviamo a riscrivere il problema che determina il quadrante dato il punto di coordinate (x,y):"
   ]
  },
  {
   "cell_type": "code",
   "execution_count": null,
   "metadata": {},
   "outputs": [],
   "source": [
    "x = int(input())\n",
    "y = int(input())\n",
    "if (x > 0 and y > 0):\n",
    "    print(\"Quadrante I\")\n",
    "elif (x > 0 and y < 0):\n",
    "    print(\"Quadrante IV\")\n",
    "elif (x < 0 and y > 0):\n",
    "    print(\"Quadrante II\")\n",
    "else:\n",
    "    print(\"Quadrante III\")"
   ]
  },
  {
   "cell_type": "markdown",
   "metadata": {},
   "source": [
    "In questo caso le condizioni `if` e `elif` vengono controllate una dopo l'altra fino a che la PRIMA condizione vera non viene trovata. Se nessuna condizione vera viene trovata allora viene eseguita la condizione `else`."
   ]
  },
  {
   "cell_type": "markdown",
   "metadata": {},
   "source": [
    "# Oggetti booleani e operatori logici\n",
    "\n",
    "Quanto facciamo operazioni su interi, ad esempio una somma, il risultato dell'operazione è un intero. Allo stesso modo, quando compariamo due inter il risultato è un tipo speciale chiamato booleano (Bool). Ad esempio, 3 < 5 è uguale a True."
   ]
  },
  {
   "cell_type": "code",
   "execution_count": null,
   "metadata": {},
   "outputs": [],
   "source": [
    "print(2 < 5)\n",
    "print(2 > 5)"
   ]
  },
  {
   "cell_type": "markdown",
   "metadata": {},
   "source": [
    "Il tipo booleano ha come valori True e False. Come ogni tipo anche per il booleano esiste l'operatore di cast che trasforma un oggetto in un tipo booleano: `bool()`. Vediamo quali sono i risultati di questi cast let's see what this cast gives for numbers:"
   ]
  },
  {
   "cell_type": "code",
   "execution_count": null,
   "metadata": {},
   "outputs": [],
   "source": [
    "# True\n",
    "print(bool(-10))    \n",
    "# False - zero è l'unico numero che viene convertito in False\n",
    "print(bool(0))      \n",
    "# True\n",
    "print(bool(10))     \n",
    "\n",
    "# False - empty string is the only false string\n",
    "print(bool(''))     \n",
    "# True\n",
    "print(bool('abc'))  "
   ]
  },
  {
   "cell_type": "markdown",
   "metadata": {},
   "source": [
    "Il numero zero e la stringa vuota sono i due unici casi di intero e stringa che una volta convertiti ad un tipo booleano, daranno il valore False.\n",
    "\n",
    "Analiziamo un attimo meglio i casi (non così rari) in cui vogliamo condizionare l'esecuzione di alcune blocchi di istruzioni a più condizioni. Un esempio è quello che abbiamo visto precedentemente per i quadranti: `(x > 0 and y > 0)`.\n",
    "In questo caso è stato usato un un operatore di unione (AND) delle condizioni che permette di verificare se il blocco di istruzioni deve essere eseguito o meno. \n",
    "\n",
    "Python ha degli operatori binari logici (`and` e `or`) e un operatore unario di negazione (`not`).\n",
    "    \n",
    "    AND: Il risultato dell'unione è vero se entrambe le condizioni unite sono vere;\n",
    "    OR: Il risultato dell'unione è vero se almeno una delle due condizioni unite è vera;\n",
    "    NOT: Il risultato dell'operatore di negazione è vero se la condizione è falsa, e vice versa.\n",
    "\n",
    "Vediamo il seguente esempio. Scriviamo un programma che controlla se almeno uno dei 2 numeri presi in ingresso, termina con 0:"
   ]
  },
  {
   "cell_type": "code",
   "execution_count": null,
   "metadata": {},
   "outputs": [],
   "source": [
    "a = int(input())\n",
    "b = int(input())\n",
    "if ((a%10) == 0) or ((b%10) == 0):\n",
    "    print('YES')\n",
    "else:\n",
    "    print('NO')"
   ]
  },
  {
   "cell_type": "markdown",
   "metadata": {},
   "source": [
    "Oppure posso anche scriverlo in un altro modo, considerando il fatto che verifico che non tutti e due siano con 0."
   ]
  },
  {
   "cell_type": "code",
   "execution_count": null,
   "metadata": {},
   "outputs": [],
   "source": [
    "a = int(input())\n",
    "b = int(input())\n",
    "if ((a%10) != 0) and ((b%10) != 0):\n",
    "    print('NO')\n",
    "else:\n",
    "    print('YES')"
   ]
  },
  {
   "cell_type": "markdown",
   "metadata": {},
   "source": [
    "***... DONE! ... Andiamo a fare qualche esercizio ora! ***"
   ]
  }
 ],
 "metadata": {
  "kernelspec": {
   "display_name": "Python 3",
   "language": "python",
   "name": "python3"
  },
  "language_info": {
   "codemirror_mode": {
    "name": "ipython",
    "version": 3
   },
   "file_extension": ".py",
   "mimetype": "text/x-python",
   "name": "python",
   "nbconvert_exporter": "python",
   "pygments_lexer": "ipython3",
   "version": "3.6.4"
  }
 },
 "nbformat": 4,
 "nbformat_minor": 2
}
