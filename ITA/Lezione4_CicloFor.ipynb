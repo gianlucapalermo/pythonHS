{
 "cells": [
  {
   "cell_type": "markdown",
   "metadata": {},
   "source": [
    "# Il ciclo For - Iterazione su di una sequenza (e le liste).\n",
    "Fin'ora abbiamo visto come eseguire in sequenza una serie di istruzioni o come eventualmente eseguirne alcune in maniera condizionata. Ora vedremo come sia possibile ripetere alcune istruzioni diverse volte. \n",
    "\n",
    "In Python esistono diversi modi per farlo, in questa lezione vedremo come si usa il cosiddetto ciclo FOR che ci permette di iterare su di una sequenza predefinita, che sia essa di numeri, di caratteri o di qualsiasi tipo di elementi.\n",
    "\n",
    "Vediamo come possiamo stampare una dopo l'altra tutte le lettere della parola *MILANO*:"
   ]
  },
  {
   "cell_type": "code",
   "execution_count": null,
   "metadata": {},
   "outputs": [],
   "source": [
    "for carattere in 'MILANO':\n",
    "    print(carattere)\n",
    "print('Fine!')"
   ]
  },
  {
   "cell_type": "markdown",
   "metadata": {},
   "source": [
    "Il costrutto **for** ha fatto assumere alla variabile di nome **carattere** il valore di un carattere per volta della parola MILANO. In pratica ho eseguito il *corpo del ciclo* (le istruzioni che ripeterò più volte) ogni volta cambiando il valore della variabile carattere, all'interno della sequenza che segue l'altra parola chiave **in**.\n",
    "\n",
    "Come per il costrutto `if-else`, il corpo del ciclo deve essere correttamente indentato (allineato), altrimenti si possono compiere errori su quali istruzioni vanno ripetute e quali no.\n",
    "\n",
    "Un altro modo con il quale posso usare il ciclo for è quello di farlo iterare su una sequenza numerica. In Python per creare una sequenza numerica basta usare una funzione chiamata `range()`. \n",
    "La funzione se usata con un solo parametro `range(numero)`, ritorna una sequenza che parte da 0 e arriva a *numero* con incremento unitario.\n",
    "\n",
    "*Attenzione, la funzione range genera una sequenza in cui l'ultimo numero non è incluso*. Vediamo il seguente esempio:"
   ]
  },
  {
   "cell_type": "code",
   "execution_count": null,
   "metadata": {},
   "outputs": [],
   "source": [
    "for i in range(3):\n",
    "    print(i)"
   ]
  },
  {
   "cell_type": "markdown",
   "metadata": {},
   "source": [
    "Posso usare anche la funzione range con due valori, `range(min_value, max_value)`. In questo modo genero una sequenza sempre ad incremento unitario, che va da min_value a max_value. Anche in questo caso la sequenza includerà il valore minimo ma non quello massimo. L'ultimo numero *max_value* non è incluso.\n",
    "\n",
    "Vediamo un semplice esempio"
   ]
  },
  {
   "cell_type": "code",
   "execution_count": null,
   "metadata": {},
   "outputs": [],
   "source": [
    "for i in range(5, 8):\n",
    "    print(i, i ** 2)\n",
    "print('Fine!')"
   ]
  },
  {
   "cell_type": "markdown",
   "metadata": {},
   "source": [
    "Esiste anche un terzo modo per usare range in cui specifichiamo anche un parametro che determina l'incremento della sequenza. In tutti i casi visti fino ad ora, l'incremento infatti era sempre unitario. Usando `range(start_value, end_value, step)`, posso variare l'incremento da 1 a 2 o un qualsiasi N ma anche impostare un decremento. Per impostare un decremento è sufficiente usare un numero negativo come step.\n",
    "\n",
    "Vediamo un esempio\n"
   ]
  },
  {
   "cell_type": "code",
   "execution_count": null,
   "metadata": {},
   "outputs": [],
   "source": [
    "for i in range(10, 0, -2):\n",
    "    print(i)"
   ]
  },
  {
   "cell_type": "markdown",
   "metadata": {},
   "source": [
    "Così come per il costrutto `if-else` in caso di sequenza vuota, il corpo del ciclo non viene mai eseguito. Ed esempio usando parametri come range(-5) o range(7, 3), la sequenza sarebbe vuota."
   ]
  },
  {
   "cell_type": "code",
   "execution_count": null,
   "metadata": {},
   "outputs": [],
   "source": [
    "for i in range(-5):\n",
    "    print('Hello, world!')"
   ]
  },
  {
   "cell_type": "markdown",
   "metadata": {},
   "source": [
    "Facciamo ora un semplice esercizio in cui vogliamo stampare la somma di tutti i primi N numeri. \n",
    "\n",
    "Per farlo ci basta usare il ciclo FOR facendo attenzione al valore massimo:"
   ]
  },
  {
   "cell_type": "code",
   "execution_count": null,
   "metadata": {},
   "outputs": [],
   "source": [
    "result = 0\n",
    "n = int(input())\n",
    "for i in range(1, n + 1):\n",
    "    result = result+i\n",
    "print(result)"
   ]
  },
  {
   "cell_type": "markdown",
   "metadata": {},
   "source": [
    "Il ciclo for è solitamente usato quando si vogliono ripetere delle istruzioni per un numero di volte definito all'inizio, per esempio dalla funzione range o dalla lunghezza della stringa. Esiste però un modo per \"uscire\" dal ciclo for senza eseguire tutte le iterazioni definite all'inizio. Per farlo posso usare la parola chiave `break`. \n",
    "\n",
    "L'istruzione **break** \"rompe\" il ciclo e mi fa eseguire subito la prima istruzione fuori dal corpo del ciclo.\n"
   ]
  },
  {
   "cell_type": "code",
   "execution_count": null,
   "metadata": {},
   "outputs": [],
   "source": [
    "for character in 'ciao gianluca':\n",
    "    if character == ' ':\n",
    "        break\n",
    "    print(character)    "
   ]
  },
  {
   "cell_type": "markdown",
   "metadata": {},
   "source": [
    "# Liste\n",
    "\n",
    "Prima di terminare con il ciclo for, voglio introdurre il concetto di lista perchè il ciclo for è uno dei metodi più usati per iterare su di essa.\n",
    "\n",
    "Una lista è un insieme di elementi (tendenzialmente dello stesso tipo) che vengono messi insieme perchè rappresentano qualcosa di comune. In altri linguaggi vengono anche detti *array*."
   ]
  },
  {
   "cell_type": "code",
   "execution_count": null,
   "metadata": {},
   "outputs": [],
   "source": [
    "lista_della_strega=[\"occhi di rana\", \"lingua di gatto\", \"zampe di_ragno\"]\n",
    "print(lista_della_strega)"
   ]
  },
  {
   "cell_type": "markdown",
   "metadata": {},
   "source": [
    "Stampando una lista in quel modo però ci si trova a stampare tutta la lista compresa le parentesi quadre e i separatori. Se però io volessi stampare singolarmente tutti gli elementi di una lista, posso usare il ciclo for appena visto."
   ]
  },
  {
   "cell_type": "code",
   "execution_count": null,
   "metadata": {},
   "outputs": [],
   "source": [
    "lista_della_strega=[\"occhi di rana\", \"lingua di gatto\", \"zampe di ragno\"]\n",
    "for ingrediente in lista_della_strega:\n",
    "    print(ingrediente)"
   ]
  },
  {
   "cell_type": "markdown",
   "metadata": {},
   "source": [
    "Le liste sono ampiamente usate e possono essere estese o ridotte usando delle funzioni o comandi dedicati. Per aggiungere un elemento alla lista mi basta usare la funzione `append()`alla lista stessa. Il nuovo elemento verrà aggiunto in coda a tutti i precedenti."
   ]
  },
  {
   "cell_type": "code",
   "execution_count": null,
   "metadata": {},
   "outputs": [],
   "source": [
    "lista_della_strega=[\"occhi di rana\", \"lingua di gatto\", \"zampe di_ragno\"]\n",
    "nuovo_ingrediente = \"bava di lumaca\"\n",
    "lista_della_strega.append(nuovo_ingrediente)\n",
    "print(lista_della_strega)"
   ]
  },
  {
   "cell_type": "markdown",
   "metadata": {},
   "source": [
    "Prima di vedere come si rimuove un elemento da una lista, dobbiamo capire come possiamo accedere/leggere/scrivere, ad un unico elemento della lista.\n",
    "\n",
    "Per farlo, occorre usare la posizione dell'elemento nella lista. Ad esempio se voglio stampare solo *lingua di gatto* nel precedente esempio e so che si trova in seconda posizione... devo usare `lista_della_trega[1]`!!!\n",
    "\n",
    "COME?!? Perchè 1 se è in seconda (2a) posizione?... Beh il motivo è semplice, Python parte a numerare dallo 0. Il primo elemento è in posizione 0 e non 1."
   ]
  },
  {
   "cell_type": "code",
   "execution_count": null,
   "metadata": {},
   "outputs": [],
   "source": [
    "lista_della_strega=[\"occhi di rana\", \"lingua di gatto\", \"zampe di_ragno\"]\n",
    "print(\"Posizione 1 (2o elemento): \" + lista_della_strega[1])\n",
    "\n",
    "lista_della_strega[1] = \"cervello di coccodrillo\"\n",
    "print(\"Nuova posizione 1 (2o elemento): \" + lista_della_strega[1])"
   ]
  },
  {
   "cell_type": "markdown",
   "metadata": {},
   "source": [
    "Ora che abbiamo capito come accedere ad un singolo elemento possiamo anche  vedere come rimuovere un elemento. Per farlo, basta anteporre la parola chiave `del` all'elemento da rimuovere: ad esempio `del lista_della_strega[posizione]`. Un metodo alternativo e silimle a quello è anche quello di usare la funzione `pop()` alla lista stessa specificando la posizione da eliminare."
   ]
  },
  {
   "cell_type": "code",
   "execution_count": null,
   "metadata": {},
   "outputs": [],
   "source": [
    "lista_della_strega=[\"occhi di rana\", \"lingua di gatto\", \"zampe di_ragno\"]\n",
    "#del lista_della_strega[1]\n",
    "print(lista_della_strega.pop(1))\n",
    "print(lista_della_strega)\n",
    "print(\"Posizione 1 (2o elemento): \" + lista_della_strega[1])"
   ]
  },
  {
   "cell_type": "markdown",
   "metadata": {},
   "source": [
    "Usando l'accesso a singolo elemento possiamo anche fare un inserimento in lista non per forza in ultima posizione. Per farlo posso usare la funzione `insert(posizione,elemento)` che inserisce in una certa *posizione* un nuovo *elemento*, spostando in avanti quello che si trovava precedentemente nella *posizione* e tutti i suoi successivi. "
   ]
  },
  {
   "cell_type": "code",
   "execution_count": null,
   "metadata": {},
   "outputs": [],
   "source": [
    "lista_della_strega=[\"occhi di rana\", \"lingua di gatto\", \"zampe di_ragno\"]\n",
    "lista_della_strega.insert(1,\"coda di rospo\")\n",
    "print(lista_della_strega)"
   ]
  },
  {
   "cell_type": "markdown",
   "metadata": {},
   "source": [
    "Anche sulle liste sono definiti alcuni operatori. Possiamo menzionare al momento quello di somma tra due liste (+) o quello di prodotto (\\*) tra una lista e un intero. Vediamo come si comportano:"
   ]
  },
  {
   "cell_type": "code",
   "execution_count": null,
   "metadata": {},
   "outputs": [],
   "source": [
    "lista1 = ['a', 'b', 'c']\n",
    "lista2 = ['e', 'f', 'g']\n",
    "\n",
    "print(lista1+lista2)\n",
    "print(lista1*3)"
   ]
  },
  {
   "cell_type": "markdown",
   "metadata": {},
   "source": [
    "Le liste viste fin ora sono sempre state liste di stringhe. Allo stesso modo esistono liste di interi o float in cui gli elementi sono numeri e non stringhe.\n",
    "\n",
    "Esistono ancora altre funzioni che posso usare per operare sulle liste... se voglio saperli tutti mi basta scrivere \n",
    "`help([])`"
   ]
  },
  {
   "cell_type": "code",
   "execution_count": null,
   "metadata": {},
   "outputs": [],
   "source": [
    "listaNum = [56, 76, 33, 56]\n",
    "print(listaNum)\n",
    "#copio la lista\n",
    "nuova_lista=listaNum\n",
    "print(nuova_lista)\n",
    "#ordino la lista\n",
    "nuova_lista.sort()\n",
    "print(nuova_lista)\n",
    "#ordino in maniera opposta\n",
    "nuova_lista.reverse()\n",
    "print(nuova_lista)\n",
    "#conto quante occorrenze di 56 ci sono\n",
    "print(nuova_lista.count(56))"
   ]
  },
  {
   "cell_type": "code",
   "execution_count": null,
   "metadata": {},
   "outputs": [],
   "source": []
  }
 ],
 "metadata": {
  "kernelspec": {
   "display_name": "Python 3",
   "language": "python",
   "name": "python3"
  },
  "language_info": {
   "codemirror_mode": {
    "name": "ipython",
    "version": 3
   },
   "file_extension": ".py",
   "mimetype": "text/x-python",
   "name": "python",
   "nbconvert_exporter": "python",
   "pygments_lexer": "ipython3",
   "version": "3.6.4"
  }
 },
 "nbformat": 4,
 "nbformat_minor": 2
}
