{
 "cells": [
  {
   "cell_type": "markdown",
   "metadata": {},
   "source": [
    "# PARADOSSO DEL COMPLEANNO"
   ]
  },
  {
   "cell_type": "markdown",
   "metadata": {},
   "source": [
    "Quello che volgiamo presentare ora è chiamato il _paradosso del compleanno_, un classico problema, di calcolo della probabilità. La domanda al quale vogliamo rispondere è: **scommetteresti che, in una classe di 25 persone, almeno due compiono gli anni lo stesso giorno?**"
   ]
  },
  {
   "cell_type": "markdown",
   "metadata": {},
   "source": [
    "Prima di farlo introduciamo il concetto di FUNZIONE PYTHON che potrebbe esserci utile in questa soluzione.\n",
    "\n",
    "Per definire una funzione devo usare la parola chiave `def`. Ogni funzione è poi caratterizzata da un nome e da i parametri in ingresso sul quale elaborare: `def nomeFunzione(parametro1,...,parametroN)`. La funzione inoltre può ritornare un valore usando la parola chiave `return`. Vediamo un esempio:\n"
   ]
  },
  {
   "cell_type": "code",
   "execution_count": 10,
   "metadata": {},
   "outputs": [
    {
     "name": "stdout",
     "output_type": "stream",
     "text": [
      "['a', 'ffff', 'dddd', 'ddsfdsf']\n",
      "la dimensione del vettore è: 4\n"
     ]
    }
   ],
   "source": [
    "def stampaVettore(vettoreIngresso):\n",
    "    print(vettoreIngresso)\n",
    "    lunghezzaVettore = len(vettoreIngresso)\n",
    "    return lunghezzaVettore\n",
    "    \n",
    "    \n",
    "    \n",
    "href_temp = ['a', 'ffff', 'dddd', 'ddsfdsf']\n",
    "\n",
    "size = stampaVettore(href_temp)\n",
    "print(\"la dimensione del vettore è: \" + str(size))\n"
   ]
  },
  {
   "cell_type": "markdown",
   "metadata": {},
   "source": [
    "Proviamo ora ad usare il concetto di funzione per ritornare TRUE o FALSE in base al fatto che preso un vettore in ingresso, nello stesso vettore ci sono 2 elementi (date) uguali."
   ]
  },
  {
   "cell_type": "code",
   "execution_count": null,
   "metadata": {},
   "outputs": [],
   "source": [
    "\n",
    "\n",
    "\n",
    "\n",
    "\n"
   ]
  },
  {
   "cell_type": "markdown",
   "metadata": {},
   "source": [
    "Come posso ora cercare di ottenere un valore che sia statisticamente valido per decidere se scommettere o meno?\n",
    "La prima cosa che posso fare è provare a ripetere più volte su diverse \"classi\" il mio esperimento in modo da renderlo valido... Proviamo a cambiare il vettore sul quale faccio la verifica"
   ]
  },
  {
   "cell_type": "code",
   "execution_count": null,
   "metadata": {},
   "outputs": [],
   "source": [
    "\n",
    "\n",
    "\n",
    "\n",
    "\n"
   ]
  },
  {
   "cell_type": "markdown",
   "metadata": {},
   "source": [
    "Bene, ma non benissimo. Per prendere una decisione devo girare per le classi in modo da vedere quale è la probabilità. Esiste un modo per poterlo fare in maniera automatica? \n",
    "\n",
    "Per farlo posso usare quello che viene chiamato un Metodo Montecarlo, cioè usare un campionamento \"casuale\" per verificare delle proprietà.\n",
    "\n",
    "Per farlo possiamo usare un modulo di libreria chiamato `random` che espone delle funzionalità di generazione casuale di numeri. "
   ]
  },
  {
   "cell_type": "code",
   "execution_count": 14,
   "metadata": {},
   "outputs": [
    {
     "name": "stdout",
     "output_type": "stream",
     "text": [
      "1\n"
     ]
    }
   ],
   "source": [
    "import random \n",
    "vector = []\n",
    "value = random.randint(1,10)\n",
    "\n",
    "print(value)\n",
    "vector.append(value)"
   ]
  },
  {
   "cell_type": "markdown",
   "metadata": {},
   "source": [
    "Proviamo ora e generare una classe con compleanni casuali!"
   ]
  },
  {
   "cell_type": "code",
   "execution_count": null,
   "metadata": {},
   "outputs": [],
   "source": [
    "\n",
    "\n",
    "\n"
   ]
  },
  {
   "cell_type": "markdown",
   "metadata": {},
   "source": [
    "Posso dunque ora verificare se nella classe ci sono 2 compleanni contemporanei."
   ]
  },
  {
   "cell_type": "code",
   "execution_count": null,
   "metadata": {},
   "outputs": [],
   "source": [
    "\n",
    "\n",
    "\n",
    "\n"
   ]
  },
  {
   "cell_type": "markdown",
   "metadata": {},
   "source": [
    "Come posso verificare in più classi se ho compleanni contemporanei?"
   ]
  },
  {
   "cell_type": "code",
   "execution_count": null,
   "metadata": {},
   "outputs": [],
   "source": [
    "\n",
    "\n",
    "\n"
   ]
  },
  {
   "cell_type": "markdown",
   "metadata": {},
   "source": [
    "Bene ora posso calcolare anche la probabilità di avere 2 compleanni contemporanei in un numero arbirariamente grande di classi."
   ]
  },
  {
   "cell_type": "code",
   "execution_count": null,
   "metadata": {},
   "outputs": [],
   "source": [
    "\n",
    "\n",
    "\n",
    "\n"
   ]
  },
  {
   "cell_type": "markdown",
   "metadata": {},
   "source": [
    "Posso scoprire ora quale è il numero minimo di studenti che devo avere in classe per avere una probabilità maggiore del 50%?"
   ]
  },
  {
   "cell_type": "code",
   "execution_count": null,
   "metadata": {},
   "outputs": [],
   "source": [
    "\n",
    "\n",
    "\n",
    "\n"
   ]
  }
 ],
 "metadata": {
  "kernelspec": {
   "display_name": "Python 3",
   "language": "python",
   "name": "python3"
  },
  "language_info": {
   "codemirror_mode": {
    "name": "ipython",
    "version": 3
   },
   "file_extension": ".py",
   "mimetype": "text/x-python",
   "name": "python",
   "nbconvert_exporter": "python",
   "pygments_lexer": "ipython3",
   "version": "3.6.4"
  }
 },
 "nbformat": 4,
 "nbformat_minor": 2
}
