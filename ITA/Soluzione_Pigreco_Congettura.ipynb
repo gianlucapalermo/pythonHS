{
 "cells": [
  {
   "cell_type": "markdown",
   "metadata": {},
   "source": [
    "# Lo calcolo io il valore del PIGRECO!\n",
    "Si vuole scrivere un programma che calcoli il valore del pigreco in maniera più precisa di \"3.14\", simulando usando ancora il metodo montecarlo la situazione di una persona dispersa nel deserto che come ultimo desiderio abbia quello di conoscere il valore del pigreco in maniera più precisa. La persona nel deserto ha a disposizione solo una stringa per le scarpe e un bastone (spezzabile) lungo quanto quanto la stringa."
   ]
  },
  {
   "cell_type": "code",
   "execution_count": null,
   "metadata": {},
   "outputs": [],
   "source": [
    "import random\n",
    "import math\n",
    "\n",
    "lanci=int(input(\"Quanti lanci vuoi fare? \"))\n",
    "inCerchio=0\n",
    "for i in range(lanci):\n",
    "    x= random.random()\n",
    "    y= random.random()\n",
    "    if x**2+y**2<=1:\n",
    "        inCerchio=inCerchio+1\n",
    "\n",
    "pigreco=4*inCerchio/lanci\n",
    "print(\"Il valore approssimato del pigreco è \" + str(pigreco))\n"
   ]
  },
  {
   "cell_type": "markdown",
   "metadata": {},
   "source": [
    "# La congettura di Goldbach\n",
    "In matematica, la congettura di Goldbach è uno dei più vecchi problemi irrisolti nella teoria dei numeri. Essa afferma che ogni numero pari maggiore di 2 può essere scritto come somma di due numeri primi (che possono essere anche uguali)."
   ]
  },
  {
   "cell_type": "markdown",
   "metadata": {},
   "source": [
    "Si scriva un programma che preso in ingresso un numero che rispetti la condizione >2 e pari, stampi a video tutte le coppie di numeri primi che sommate lo generano.\n",
    "\n",
    "Per risolverlo si faccia prima uso di una funzione da implementare che verifichi dato un numero che il numero sia primo."
   ]
  },
  {
   "cell_type": "code",
   "execution_count": null,
   "metadata": {},
   "outputs": [],
   "source": [
    "\n",
    "def isPrime(n):\n",
    "    for i in range(2,n):\n",
    "        if n%i==0:\n",
    "            return False\n",
    "    return True\n",
    "\n",
    "print(isPrime(10))\n",
    "print(isPrime(13))\n",
    "print(isPrime(41))\n",
    "print(isPrime(48))\n"
   ]
  },
  {
   "cell_type": "markdown",
   "metadata": {},
   "source": [
    "Si usi ora la funzione definita in precedenza per determinare se un numero è primo per trovare tutte le possibili coppiè di numeri primi che sommati danno il numero dato."
   ]
  },
  {
   "cell_type": "code",
   "execution_count": null,
   "metadata": {
    "scrolled": true
   },
   "outputs": [],
   "source": [
    "\n",
    "numero = int(input(\"Dammi il numero: \"))\n",
    "\n",
    "for a in range(2, numero):\n",
    "    if isPrime(a)==True and isPrime(numero-a)==True:\n",
    "        print(a, numero-a)        "
   ]
  },
  {
   "cell_type": "markdown",
   "metadata": {},
   "source": [
    "Si scriva un programma che preso in ingresso un numero, verifichi se la congettura di Goldbach è vera per tutti i numeri inferiori a quello dato. (Attenzione a non dare numeri troppo grandi)."
   ]
  },
  {
   "cell_type": "code",
   "execution_count": null,
   "metadata": {},
   "outputs": [],
   "source": [
    "# Da risolvere: Suggerimento si crei una funzione che \n",
    "# verifichi la presenza di almeno una coppia di numeri primi\n",
    "# e poi si iteri su tutti i numeri pari >2 e <N \n",
    "\n",
    "\n"
   ]
  }
 ],
 "metadata": {
  "kernelspec": {
   "display_name": "Python 3",
   "language": "python",
   "name": "python3"
  },
  "language_info": {
   "codemirror_mode": {
    "name": "ipython",
    "version": 3
   },
   "file_extension": ".py",
   "mimetype": "text/x-python",
   "name": "python",
   "nbconvert_exporter": "python",
   "pygments_lexer": "ipython3",
   "version": "3.6.4"
  }
 },
 "nbformat": 4,
 "nbformat_minor": 2
}
