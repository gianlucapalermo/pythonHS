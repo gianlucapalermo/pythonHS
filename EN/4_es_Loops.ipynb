{
 "cells": [
  {
   "cell_type": "markdown",
   "metadata": {},
   "source": [
    "# 4.1 - Esercizio: Tabelline\n",
    "Scrivi un programma che prende un numero a ne scriva la tabellina.\n",
    "      "
   ]
  },
  {
   "cell_type": "code",
   "execution_count": null,
   "metadata": {},
   "outputs": [],
   "source": [
    "# Inserisci qui la soluzione\n",
    "\n",
    "\n",
    " \n",
    "   \n"
   ]
  },
  {
   "cell_type": "markdown",
   "metadata": {},
   "source": [
    "# 4.2 - Esercizio: Conta fino a N\n",
    "Scrivi un programma che prende un numero N in ingresso e stampi a video tutti i numeri fino N compreso.\n"
   ]
  },
  {
   "cell_type": "code",
   "execution_count": null,
   "metadata": {},
   "outputs": [],
   "source": [
    "# Inserisci qui la soluzione\n",
    "\n",
    "\n",
    "\n",
    "\n"
   ]
  },
  {
   "cell_type": "markdown",
   "metadata": {},
   "source": [
    "# 4.3 - Esercizio: Numero Primo\n",
    "Scrivi un programma che prende un numero N in ingresso determini se questo è primo o no."
   ]
  },
  {
   "cell_type": "code",
   "execution_count": null,
   "metadata": {},
   "outputs": [],
   "source": [
    "# Inserisci qui la soluzione\n",
    "\n",
    "\n",
    "\n",
    "\n",
    "\n"
   ]
  },
  {
   "cell_type": "markdown",
   "metadata": {},
   "source": [
    "\n",
    "# 4.4 - Esercizio: Numeri Primi <N\n",
    "Scrivi un programma che dato un numero N stampi tutti i numeri primi <N."
   ]
  },
  {
   "cell_type": "code",
   "execution_count": null,
   "metadata": {},
   "outputs": [],
   "source": [
    "# Inserisci qui la soluzione\n",
    "\n",
    "\n",
    "\n",
    "\n",
    "\n"
   ]
  },
  {
   "cell_type": "markdown",
   "metadata": {},
   "source": [
    "# 4.5 - Esercizio: Su o Giù\n",
    "Scrivi un programma che dati due numeri A e B, conti da A a B in ordine crescente se A è minore di B o in ordine decrescente se A è maggiore di B."
   ]
  },
  {
   "cell_type": "code",
   "execution_count": null,
   "metadata": {},
   "outputs": [],
   "source": [
    "# Inserisci qui la soluzione\n",
    "\n",
    "\n",
    "\n",
    "\n"
   ]
  },
  {
   "cell_type": "markdown",
   "metadata": {},
   "source": [
    "# 4.6 - Esercizio: Somma dei primi N numeri\n",
    "Scrivere un programma che dato un numero N, stampi a video la somma dei primi N numeri."
   ]
  },
  {
   "cell_type": "code",
   "execution_count": null,
   "metadata": {},
   "outputs": [],
   "source": [
    "# Inserisci qui la soluzione\n",
    "\n",
    "\n",
    "\n",
    "\n"
   ]
  },
  {
   "cell_type": "markdown",
   "metadata": {},
   "source": [
    "# 4.7 - Esercizio: Ripetizioni di una lettera\n",
    "Scrivere un programma che data una stringa conti quante volte una determinata lettera presa in ingresso è presente nella stringa stessa."
   ]
  },
  {
   "cell_type": "code",
   "execution_count": null,
   "metadata": {},
   "outputs": [],
   "source": [
    "# Inserisci qui la soluzione\n",
    "\n",
    "\n",
    "\n",
    "\n"
   ]
  },
  {
   "cell_type": "markdown",
   "metadata": {},
   "source": [
    "# 4.8 - Esercizio: Ripetizioni di un numero\n",
    "Scrivi un programma che data una lista di numeri, determini quanti istanze di un numero preso in ingresso ci siano. \n",
    "\n",
    "    Non si faccia uso delle funzioni sulle liste!"
   ]
  },
  {
   "cell_type": "code",
   "execution_count": null,
   "metadata": {},
   "outputs": [],
   "source": [
    "# Inserisci qui la soluzione\n",
    "listaNum = [55, 66, 77, 33, 33, 8943, 1, 6, 6, 6, 321]\n",
    "\n",
    "\n",
    "\n"
   ]
  },
  {
   "cell_type": "markdown",
   "metadata": {},
   "source": [
    "# 4.9 - Esercizio : Il più grande\n",
    "\n",
    "Si scriva un programma che presi in ingresso 10 numeri, ne stampi a video il più grande."
   ]
  },
  {
   "cell_type": "code",
   "execution_count": null,
   "metadata": {},
   "outputs": [],
   "source": [
    "# Inserisci qui la soluzione\n",
    "\n",
    "\n",
    "\n",
    "\n"
   ]
  },
  {
   "cell_type": "markdown",
   "metadata": {},
   "source": [
    "# 4.10 - Esercizio: Raddoppia contenuto lista\n",
    "Scrivi un programma che data una lista di 10 numeri, ne raddoppi i valori. "
   ]
  },
  {
   "cell_type": "code",
   "execution_count": null,
   "metadata": {},
   "outputs": [],
   "source": [
    "# Inserisci qui la soluzione\n",
    "listaNum = [55, 66, 77, 33, 33, 8943, 1, 6, 6, 321]\n",
    "\n",
    "\n",
    "\n"
   ]
  },
  {
   "cell_type": "markdown",
   "metadata": {},
   "source": [
    "# Esercizio Riassuntivo: Giorno dell'anno\n",
    "\n",
    "Si scriva un programma che preso in ingresso un numero tra 1 e 365, determini che giorno e che mese è all'interno dell'anno. Si consideri sempre un anno non bisestile.\n",
    "\n",
    "    Esempi: \n",
    "        Input 12, la risposta è 12 Gennaio (o 12-1)\n",
    "        Input 100, la risposta è il 10 Aprile (o 10-4)\n"
   ]
  },
  {
   "cell_type": "code",
   "execution_count": null,
   "metadata": {},
   "outputs": [],
   "source": [
    "# Inserisci qui la soluzione\n",
    "\n",
    "\n",
    "\n"
   ]
  }
 ],
 "metadata": {
  "kernelspec": {
   "display_name": "Python 3",
   "language": "python",
   "name": "python3"
  },
  "language_info": {
   "codemirror_mode": {
    "name": "ipython",
    "version": 3
   },
   "file_extension": ".py",
   "mimetype": "text/x-python",
   "name": "python",
   "nbconvert_exporter": "python",
   "pygments_lexer": "ipython3",
   "version": "3.6.4"
  }
 },
 "nbformat": 4,
 "nbformat_minor": 2
}
