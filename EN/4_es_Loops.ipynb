{
 "cells": [
  {
   "cell_type": "markdown",
   "metadata": {},
   "source": [
    "# 4.1 - Exercise\n",
    "Write a program that uses the input to define which multiplication table to print."
   ]
  },
  {
   "cell_type": "markdown",
   "metadata": {},
   "source": [
    "# 4.2 - Exercise\n",
    "Write a program that takes as input a number N and prints in output all the numbers from 0 up to N (included).\n"
   ]
  },
  {
   "cell_type": "markdown",
   "metadata": {},
   "source": [
    "# 4.3 - Exercise\n",
    "Write a program that takes in input a number and determine if the number is Prime or not."
   ]
  },
  {
   "cell_type": "markdown",
   "metadata": {},
   "source": [
    "\n",
    "# 4.4 - Exercise\n",
    "Write a program that takes in input a number and determine what are the prime numbers less than N"
   ]
  },
  {
   "cell_type": "markdown",
   "metadata": {},
   "source": [
    "# 4.5 - Exercise\n",
    "Write a program that receives in input two numbers A and B and counts from A to B in increasing order if A less than B or in decreasing order if A is larger than B. "
   ]
  },
  {
   "cell_type": "markdown",
   "metadata": {},
   "source": [
    "# 4.6 - Exercise\n",
    "Write a program that receives in input a number N, and prints the sum of the first N numbers."
   ]
  },
  {
   "cell_type": "markdown",
   "metadata": {},
   "source": [
    "# 4.7 - Exercise\n",
    "Write a program that takes in input a string and a character, and counts how many time that character is in the string."
   ]
  },
  {
   "cell_type": "markdown",
   "metadata": {},
   "source": [
    "# 4.8 - Exercise\n",
    "Write a program that determines how many time there is a number taken as input inside a predetermined list. \n",
    "\n",
    "    Do not use the function already provided by the lists!"
   ]
  },
  {
   "cell_type": "code",
   "execution_count": null,
   "metadata": {},
   "outputs": [],
   "source": [
    "numList = [55, 66, 77, 33, 33, 8943, 1, 6, 6, 321]\n",
    "\n",
    "#INSERT HERE THE SOLUTION"
   ]
  },
  {
   "cell_type": "markdown",
   "metadata": {},
   "source": [
    "# 4.9 - Exercise\n",
    "Write a program that takes in input 10 numbers, and prints in output the largest one."
   ]
  },
  {
   "cell_type": "markdown",
   "metadata": {},
   "source": [
    "# 4.10 - Exercise\n",
    "Write a program that given a list of 10 numbers, it duplicates their value."
   ]
  },
  {
   "cell_type": "code",
   "execution_count": null,
   "metadata": {},
   "outputs": [],
   "source": [
    "numList = [55, 66, 77, 33, 33, 8943, 1, 6, 6, 321]\n",
    "\n",
    "#INSERT HERE THE SOLUTION"
   ]
  },
  {
   "cell_type": "markdown",
   "metadata": {},
   "source": [
    "# Final Exercise\n",
    "\n",
    "Write a program that takes in input a number between 1 and 365, and determines which day of the year it is (number and month). Consider that it is not a leap year (i.e. Feb 28 days).\n",
    "\n",
    "    E.g.: \n",
    "        INPUT 12 - OUTPUT 12-1\n",
    "        INPUT 100 - OUTPUT 10-4\n",
    "        INPUT 365 - OUTPUT 31-12\n",
    "\n",
    "*Hint: The number of days for each month is known and it can be stored in a list* "
   ]
  }
 ],
 "metadata": {
  "kernelspec": {
   "display_name": "Python 3",
   "language": "python",
   "name": "python3"
  },
  "language_info": {
   "codemirror_mode": {
    "name": "ipython",
    "version": 3
   },
   "file_extension": ".py",
   "mimetype": "text/x-python",
   "name": "python",
   "nbconvert_exporter": "python",
   "pygments_lexer": "ipython3",
   "version": "3.6.4"
  }
 },
 "nbformat": 4,
 "nbformat_minor": 2
}
