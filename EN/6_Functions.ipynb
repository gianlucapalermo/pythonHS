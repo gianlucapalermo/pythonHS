{
 "cells": [
  {
   "cell_type": "markdown",
   "metadata": {},
   "source": [
    "# Python  Functions\n",
    "In Python, a function is a group of statements that perform a specific task.\n",
    "Functions help break our program into smaller and modular chunks. \n",
    "As our program grows larger and larger, functions make it more organized and manageable.\n",
    "Furthermore, it avoids repetition and makes code reusable.\n",
    "\n",
    "The syntax of function is the following:\n",
    "\n",
    "    def function_name(parameters):\n",
    "        body-of-the-function\n",
    "        return value\n",
    "        \n",
    "To define a function, there is the need to use the keyword `def` that *defines* the function interface (or *function header*). Then, it is needed to specify a unique *function_name* to identify the function in the future, and between parenthesis the function *parameters* (if any). Parameters (also called arguments) are the \"variables\" used to pass values to the function. As for the *if-else* and *while* statement the colon (:) is used to mark the end of the function header and the beginning of the code representing the *body of the function*.\n",
    "The function body is composed of one or more statements following the usual indentation rule.\n",
    "Finally, the `return` statement is used to (optionally) return values from the function.\n",
    "\n",
    "Overall, we can see a function as a small program where the parameters are used for the input data, while the return statement is used to return the results of the computation. Let's see a simple example:"
   ]
  },
  {
   "cell_type": "code",
   "execution_count": null,
   "metadata": {},
   "outputs": [],
   "source": [
    "def greetings(name):\n",
    "    print(\"Ciao \" + name + \". Good morning!\")\n",
    "    return"
   ]
  },
  {
   "cell_type": "markdown",
   "metadata": {},
   "source": [
    "Once we have defined a function, we can use it in our program. To *call* a function we have to simply use the function name with the appropriate parameters. If the function returns a value, it can be assigned to a variable or used for a condition evaluation. \n",
    "A *function call* implies that the next instruction that will be executed is the one inside the function. When the *return* statement will be reached, then the execution returns where it was the function call.\n",
    "\n",
    "First, let's see the simple usage of the previously defined function:"
   ]
  },
  {
   "cell_type": "code",
   "execution_count": null,
   "metadata": {},
   "outputs": [],
   "source": [
    "greetings(\"Gianluca\")"
   ]
  },
  {
   "cell_type": "code",
   "execution_count": null,
   "metadata": {},
   "outputs": [],
   "source": [
    "myName = input(\"What is your name? \")\n",
    "greetings(myName)"
   ]
  },
  {
   "cell_type": "markdown",
   "metadata": {},
   "source": [
    "Then, Let's see a simple example that returns a value:"
   ]
  },
  {
   "cell_type": "code",
   "execution_count": null,
   "metadata": {},
   "outputs": [],
   "source": [
    "def absolute_value(num):\n",
    "    if num <= 0:\n",
    "        num=num*-1\n",
    "    return num\n",
    "\n",
    "print(absolute_value(13))\n",
    "print(absolute_value(-45))"
   ]
  },
  {
   "cell_type": "markdown",
   "metadata": {},
   "source": [
    "We can use also more `return` statements in the same function. The first one reached stops the execution of the function and returns the execution where the function has been called."
   ]
  },
  {
   "cell_type": "code",
   "execution_count": null,
   "metadata": {},
   "outputs": [],
   "source": [
    "def absolute_value(num):\n",
    "    if num >= 0:\n",
    "        return num\n",
    "    else:\n",
    "        return -num\n",
    "\n",
    "print(absolute_value(13))\n",
    "print(absolute_value(-45))"
   ]
  },
  {
   "cell_type": "markdown",
   "metadata": {},
   "source": [
    "In case of more than one parameters, the function call should consider the positional order included in the function declaration."
   ]
  },
  {
   "cell_type": "code",
   "execution_count": null,
   "metadata": {},
   "outputs": [],
   "source": [
    "def foo(name, age):\n",
    "    print(\"Ciao \" + name + \"! You are \" + str(age) + \" years old!\")\n",
    "\n",
    "foo(\"Gianluca\", 41)"
   ]
  },
  {
   "cell_type": "markdown",
   "metadata": {},
   "source": [
    "However, there is another possibility of doing this in python by using explicitly the name of the parameter you want to assign. In this way, the order of the parameter in the call is not important."
   ]
  },
  {
   "cell_type": "code",
   "execution_count": null,
   "metadata": {},
   "outputs": [],
   "source": [
    "def foo(name, age):\n",
    "    print(\"Ciao \" + name + \"! You are \" + str(age) + \" years old!\")\n",
    "\n",
    "foo(name=\"Gianluca\", age=41)\n",
    "foo(age=41, name=\"Gianluca\")"
   ]
  }
 ],
 "metadata": {
  "kernelspec": {
   "display_name": "Python 3",
   "language": "python",
   "name": "python3"
  },
  "language_info": {
   "codemirror_mode": {
    "name": "ipython",
    "version": 3
   },
   "file_extension": ".py",
   "mimetype": "text/x-python",
   "name": "python",
   "nbconvert_exporter": "python",
   "pygments_lexer": "ipython3",
   "version": "3.6.4"
  }
 },
 "nbformat": 4,
 "nbformat_minor": 2
}
