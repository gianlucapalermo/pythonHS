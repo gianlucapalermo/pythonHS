{
 "cells": [
  {
   "cell_type": "markdown",
   "metadata": {},
   "source": [
    "# CODING - TechCamp@POLIMI\n",
    "#### Prof. Gianluca Palermo - Tutors: Davide Gadioli, Andrea Damiani\n",
    "\n",
    "### Introduction\n",
    "\n",
    "Like humans, computers use multiple languages (we call them *programming languages*). \n",
    "A programming language is a particular way to talk to a computer, with the goal of describing the task to do. \n",
    "There are a lot of programming languages, probably too many ;-), each one with a different peculiarity. It does not exist the *best* programming language. During the *CODING* course at the techCamp, we are using Python.\n",
    "\n",
    "Python is an easy-to-learn programming language that has some really useful features for a beginning programmer. The code is quite easy to read and more natural to write when compared to other programming languages.\n",
    "Moreover, Python has some characteristics that make the learning process easier, giving the possibility to develop an animation or a simple videogame in less than a week (This is great for the TechCamp!).\n",
    "\n",
    "Even if you are attracted from building immediately your first videogame, it is always the best approach to start with the basics. I prepared some short lesson that you have to attend, read and elaborate, before going to more complicated (and nicer) stuff. Try to solve the proposed exercise, to improve your confidence with the language and with the algorithmic way to solve problems.\n",
    "Always remember that the better you understand the basics, the easier it will be to use them in complicated stuff later on, such as videogames.\n",
    "\n",
    "Don’t think of these lessons as something boring that you have to work on. Try always to have fun in what you are doing. Try, Try and Try. Try, whatever you have in mind by using what you are learning day-by-day. Think of programming as a way to create something. \n",
    "Be creative, and remember that your applications and the final videogame can be shared with your friends.\n",
    "\n",
    "Remember, ask the professor and the tutors. We are here to help you. Sometimes, it can happen that we do not have immediately the answer. However, we will find a way to find it. "
   ]
  },
  {
   "cell_type": "markdown",
   "metadata": {},
   "source": [
    "### Installing Python\n",
    "\n",
    "Installing Python is generally easy, and nowadays many Linux and MacOS distributions include a recent Python version. Even some Windows computers now come with Python already installed. However, if you do not have python installed it is enough to go to the official Python webpage https://www.python.org/downloads/ and download the most recent version. In this course we are using Python 3.x, and not Python 2.x. If you are not confident about the installation process, ask the Professor and the tutors."
   ]
  }
 ],
 "metadata": {
  "kernelspec": {
   "display_name": "Python 3",
   "language": "python",
   "name": "python3"
  },
  "language_info": {
   "codemirror_mode": {
    "name": "ipython",
    "version": 3
   },
   "file_extension": ".py",
   "mimetype": "text/x-python",
   "name": "python",
   "nbconvert_exporter": "python",
   "pygments_lexer": "ipython3",
   "version": "3.6.4"
  }
 },
 "nbformat": 4,
 "nbformat_minor": 2
}
