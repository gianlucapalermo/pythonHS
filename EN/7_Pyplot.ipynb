{
 "cells": [
  {
   "cell_type": "markdown",
   "metadata": {},
   "source": [
    "# Pyplot - Python for data visualization: Some Examples\n",
    "Data processing is one of the main usages of the computers. The data processing is frequently associated with data visualization, giving the possibility to the user to get some visual insight from the data.\n",
    "\n",
    "In this lesson, we will see how it is possible to create with few lines of python code nice plots to visualize our data. We use a module called pyplot (`matplotlib.pyplot`) that is a collection of functions to create plots and it is the *de facto* python plotting library. \n",
    "\n",
    "To use it it is enough to import the module `import matplotlib.pyplot`. However, given that the name is long and we have to include it every time we want to use a pyplot function, we are going to use a shortcut name as `pplot`:\n",
    "\n",
    "    import matplotlib.pyplot as pplot\n",
    "\n",
    "In this first example we want to create a linear plot of the function y = 2x, in the range 0-3. \n",
    "We have to specify 2 lists, one for the x coordinates and one for the y coordinates, representing the points of the plot.\n",
    "Then it is enough to call the pyplot function `pplot.plot(x,y)`, to create the plot, and then `pplot.show()` for the actual plot visualization."
   ]
  },
  {
   "cell_type": "code",
   "execution_count": null,
   "metadata": {},
   "outputs": [],
   "source": [
    "import matplotlib.pyplot as pplot\n",
    "\n",
    "#DATA PREPARATION\n",
    "x = [0, 1, 2, 3]\n",
    "y = [0, 2, 4, 6]\n",
    "\n",
    "#PLOT PREPARATION\n",
    "pplot.plot(x, y)\n",
    "\n",
    "#PLOT VISUALIZATION\n",
    "pplot.show()"
   ]
  },
  {
   "cell_type": "markdown",
   "metadata": {},
   "source": [
    "This is my first *RAW* plot! We can decorate a bit the plot adding x/y-labels (`pplot.ylabel()`, `pplot.xlabel()`), a grid (`pplot.grid()`) and a title (`pplot.title()`). All the pyplot function names are quite simple to remember."
   ]
  },
  {
   "cell_type": "code",
   "execution_count": null,
   "metadata": {},
   "outputs": [],
   "source": [
    "import matplotlib.pyplot as pplot\n",
    "\n",
    "#DATA PREPARATION\n",
    "x = [0, 1, 2, 3]\n",
    "y = [0, 2, 4, 6]\n",
    "\n",
    "#PLOT PREPARATION\n",
    "pplot.plot(x, y)\n",
    "\n",
    "#ADD THE X and Y LABLES\n",
    "pplot.ylabel('My Y-label')\n",
    "pplot.xlabel('My X-label')\n",
    "\n",
    "#ADD THE PLOT TITLE\n",
    "pplot.title(\"My Plot Title\")\n",
    "\n",
    "#ADD THE GRID\n",
    "pplot.grid()\n",
    "\n",
    "#PLOT VISUALIZATION\n",
    "pplot.show()"
   ]
  },
  {
   "cell_type": "markdown",
   "metadata": {},
   "source": [
    "Now it is much better! What about visualizing more than one list of data? The simplest way is to call repeatedly the `plot()` function by changing the input data. To discriminate among multiple curves, we can add a legend to the plot using the pyplot function `legend()`, and by including the `label` parameter to the *plot* function. "
   ]
  },
  {
   "cell_type": "code",
   "execution_count": null,
   "metadata": {},
   "outputs": [],
   "source": [
    "import matplotlib.pyplot as pplot\n",
    "\n",
    "#DATA CREATION\n",
    "x = [0, 1, 2, 3]\n",
    "y = [0, 2, 4, 6] # y=x*2\n",
    "y2 = [0, 1, 4, 9] # y=x**2\n",
    "\n",
    "#PLOT PREPARATION INLCUDING DIFFERENT LABELS\n",
    "pplot.plot(x, y, label=\"y=x*2\")\n",
    "pplot.plot(x, y2, label=\"y=x**2\")\n",
    "\n",
    "#ADD THE LEGEND\n",
    "pplot.legend()\n",
    "\n",
    "#ADD THE X and Y LABLES\n",
    "pplot.ylabel('My Y-label')\n",
    "pplot.xlabel('My X-label')\n",
    "\n",
    "#ADD THE PLOT TITLE\n",
    "pplot.title(\"My Plot Title\")\n",
    "\n",
    "#ADD THE GRID\n",
    "pplot.grid()\n",
    "\n",
    "#PLOT VISUALIZATION\n",
    "pplot.show()"
   ]
  },
  {
   "cell_type": "markdown",
   "metadata": {},
   "source": [
    "The plot is now completed, however it is built by segments since pyplot interpolates the data we provide. If we know the generation function of the data, we can provide more data to the `plot()` function in a way that the interpolation becomes less visible. \n",
    "\n",
    "In the following example, we are going to modify only the data preparation step. We will keep the same range 0-3 for the X values and we generate 30 points in this interval (0.1 step). Writing all the pairs x-y for the data is not feasible, thus the automatic generation of the data is envisioned.\n",
    "\n",
    "*Pay attention, if we use the for loop and the range function, the step can be only an integer number. This problem can be easily solved.*"
   ]
  },
  {
   "cell_type": "code",
   "execution_count": null,
   "metadata": {},
   "outputs": [],
   "source": [
    "import matplotlib.pyplot as pplot\n",
    "\n",
    "#DATA PREPARATION\n",
    "x=[]\n",
    "y=[]\n",
    "y2=[]\n",
    "for i in range(0,30,1):\n",
    "    x_value=i/10\n",
    "    x.append(x_value)\n",
    "    y.append(x_value*2)\n",
    "    y2.append(x_value**2) \n",
    "    \n",
    "#### FROM HERE IT IS THE SAME AS BEFORE ####\n",
    "\n",
    "#PLOT PREPARATION INLCUDING DIFFERENT LABELS\n",
    "pplot.plot(x, y, label=\"y=x*2\")\n",
    "pplot.plot(x, y2, label=\"y=x**2\")\n",
    "\n",
    "#ADD THE LEGEND\n",
    "pplot.legend()\n",
    "\n",
    "#ADD THE X and Y LABLES\n",
    "pplot.ylabel('My Y-label')\n",
    "pplot.xlabel('My X-label')\n",
    "\n",
    "#ADD THE PLOT TITLE\n",
    "pplot.title(\"My Plot Title\")\n",
    "\n",
    "#ADD THE GRID\n",
    "pplot.grid()\n",
    "\n",
    "#PLOT VISUALIZATION\n",
    "pplot.show()\n"
   ]
  },
  {
   "cell_type": "markdown",
   "metadata": {},
   "source": [
    "Great! The two lines do not seem to be composed by small segments. \n",
    "\n",
    "If you are not interested in the interpolated function, to plot directly the generated points we can use the *scatter plot* function: `scatter(x,y)`.\n",
    "\n",
    "**Advanced Trick** If you are interested in saving the plot you created, it is enough to call the pyplot function `savefig(filename)` before calling the pyplot `show()` function. "
   ]
  },
  {
   "cell_type": "code",
   "execution_count": null,
   "metadata": {},
   "outputs": [],
   "source": [
    "import matplotlib.pyplot as pplot\n",
    "\n",
    "#DATA PREPARATION\n",
    "x=[]\n",
    "y=[]\n",
    "y2=[]\n",
    "for i in range(0,30,1):\n",
    "    x_value=i/10\n",
    "    x.append(x_value)\n",
    "    y.append(x_value*2)\n",
    "    y2.append(x_value**2) \n",
    "\n",
    "#PLOT PREPARATION INLCUDING DIFFERENT LABELS\n",
    "pplot.scatter(x, y, label=\"y=x*2\")\n",
    "pplot.scatter(x, y2, label=\"y=x**2\")\n",
    "\n",
    "#ADD THE LEGEND\n",
    "pplot.legend()\n",
    "\n",
    "#ADD THE X and Y LABLES\n",
    "pplot.ylabel('My Y-label')\n",
    "pplot.xlabel('My X-label')\n",
    "\n",
    "#ADD THE PLOT TITLE\n",
    "pplot.title(\"My Plot Title\")\n",
    "\n",
    "#ADD THE GRID\n",
    "pplot.grid()\n",
    "\n",
    "#SAVE THE PLOT AS FILE\n",
    "#pplot.savefig(\"myPlot.png\")\n",
    "\n",
    "#PLOT VISUALIZATION\n",
    "pplot.show()\n"
   ]
  },
  {
   "cell_type": "markdown",
   "metadata": {},
   "source": [
    "Following the same rule, it is possible to create a *BAR PLOT* using `pplot.bar(x,y)`. \n",
    "\n",
    "We can also use categorical variables for the plot (labels instead of numbers for the x-axis). However, we have to pay attention that by default pyplots reorders the x-values.\n",
    "\n",
    "Try the following examples, and than substitute the bar plot with the usual `pplot.plot(x,y)` function."
   ]
  },
  {
   "cell_type": "code",
   "execution_count": null,
   "metadata": {},
   "outputs": [],
   "source": [
    "import matplotlib.pyplot as pplot\n",
    "\n",
    "#DATA PREPARATION\n",
    "x = ['Simona', 'Carla', 'Roberto', 'Marco']\n",
    "y = [30, 24, 45, 16] # y=x*2\n",
    "\n",
    "#PLOT PREPARATION\n",
    "pplot.bar(x,y)\n",
    "\n",
    "#ADD THE X and Y LABLES\n",
    "pplot.ylabel('My Y-label')\n",
    "pplot.xlabel('My X-label')\n",
    "\n",
    "#ADD THE PLOT TITLE\n",
    "pplot.title(\"MY BAR PLOT\")\n",
    "\n",
    "#PLOT VISUALIZATION\n",
    "pplot.show()"
   ]
  },
  {
   "cell_type": "markdown",
   "metadata": {},
   "source": [
    "The last type of plot that we are going to see is the *PIE PLOT*. The pie plot is used when there are categorical variables and its basic usage is not different from the previous cases by just calling `pplot.pie(...)`. However, in this example, it is shown its usage with some additional parameters that can make it more interesting."
   ]
  },
  {
   "cell_type": "code",
   "execution_count": null,
   "metadata": {},
   "outputs": [],
   "source": [
    "import matplotlib.pyplot as pplot\n",
    "\n",
    "#DATA PREPARATION\n",
    "x = ['Simona', 'Carla', 'Roberto', 'Marco']\n",
    "y = [30, 25, 43, 12]\n",
    "\n",
    "# Only \"explode\" the 2nd slice (i.e. 'Carla')\n",
    "# It means separate the slice from the main pie\n",
    "explodeList = [0, 0.1, 0, 0]  \n",
    "\n",
    "#PLOT PREPARATION\n",
    "pplot.pie(y, labels = x, explode = explodeList)\n",
    "\n",
    "#ADD THE PLOT TITLE\n",
    "pplot.title(\"MY PIE PLOT\")\n",
    "\n",
    "#PLOT VISUALIZATION\n",
    "pplot.show()\n"
   ]
  }
 ],
 "metadata": {
  "kernelspec": {
   "display_name": "Python 3",
   "language": "python",
   "name": "python3"
  },
  "language_info": {
   "codemirror_mode": {
    "name": "ipython",
    "version": 3
   },
   "file_extension": ".py",
   "mimetype": "text/x-python",
   "name": "python",
   "nbconvert_exporter": "python",
   "pygments_lexer": "ipython3",
   "version": "3.6.4"
  }
 },
 "nbformat": 4,
 "nbformat_minor": 2
}
