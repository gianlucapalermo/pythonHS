{
 "cells": [
  {
   "cell_type": "markdown",
   "metadata": {},
   "source": [
    "# Floating Point Numbers and Math module\n",
    "In the previous lesson, we already used mathematical operators such as +, -, /, //, * and **. \n",
    "\n",
    "While in most of the cases if we apply those operators to integer numbers, the result is also an integer, there exist cases where this is not true. The results of a division can be with a decimal part. In Python, those types of values are called **float** (*floating point*). The same happens when the power operator is with a negative value.\n",
    "\n",
    "See the following examples:"
   ]
  },
  {
   "cell_type": "code",
   "execution_count": null,
   "metadata": {},
   "outputs": [],
   "source": [
    "print(17 / 2)"
   ]
  },
  {
   "cell_type": "code",
   "execution_count": null,
   "metadata": {},
   "outputs": [],
   "source": [
    "print(2 ** -2)"
   ]
  },
  {
   "cell_type": "markdown",
   "metadata": {},
   "source": [
    "To read a floating point value, we use the `input( )` function. However, we have to consider that the same type of conversion that we have to do for the integer values should be done also here. Indeed the `input( )` function reads a string in input, to convert it to a floating point value we have to use the `float( )` type conversion function. In Python, as for most of the scientific environment, the separation between the integer part of a number and its decimal part is done using a *dot* (`.`) and not the comma."
   ]
  },
  {
   "cell_type": "code",
   "execution_count": null,
   "metadata": {},
   "outputs": [],
   "source": [
    "x = float(input())\n",
    "print(x)"
   ]
  },
  {
   "cell_type": "markdown",
   "metadata": {},
   "source": [
    "**Advanced Trick** The floating point numbers are used also to represent very large or very small numbers. This is done adopting the scientific notation composed by the *mantissa* multiplied for a power of ten (*exponent*):\n",
    "\n",
    "    MANTISSA * 10^EXPONENT \n",
    "\n",
    "Some examples are the distance between the Earth and the Sun `1.496 x 10**11` meters, that in Python is written as `1.496e11`; or the mass of a water molecule that is `2.99 x 10**-23` grams, or `2.99e-23` in Python."
   ]
  },
  {
   "cell_type": "markdown",
   "metadata": {},
   "source": [
    "The type conversion is not only a peculiarity of strings, i.e. to convert in/out from a string value. We can use it also for convert a `float` to `int` or vice-versa. The type conversion (*cast*) function that we have to use is the one with the same name as the destination type. \n",
    "\n",
    "While if we convert to float an integer value, we actually add to the value an empty decimal part (e.g. 4 -> 4.0), it is not the same if we do the opposite. See the following examples, what you expect to have in output?"
   ]
  },
  {
   "cell_type": "code",
   "execution_count": null,
   "metadata": {},
   "outputs": [],
   "source": [
    "print(int(1.3))"
   ]
  },
  {
   "cell_type": "code",
   "execution_count": null,
   "metadata": {},
   "outputs": [],
   "source": [
    "print(int(1.7))"
   ]
  },
  {
   "cell_type": "code",
   "execution_count": null,
   "metadata": {},
   "outputs": [],
   "source": [
    "print(int(-1.3))"
   ]
  },
  {
   "cell_type": "code",
   "execution_count": null,
   "metadata": {},
   "outputs": [],
   "source": [
    "print(int(-1.7)) "
   ]
  },
  {
   "cell_type": "markdown",
   "metadata": {},
   "source": [
    "If you were expecting something different probably you were looking for the behaviour of the Python `round()` function. This function actually rounds the floating point value to the closest integer."
   ]
  },
  {
   "cell_type": "code",
   "execution_count": null,
   "metadata": {},
   "outputs": [],
   "source": [
    "print(round(1.3))"
   ]
  },
  {
   "cell_type": "code",
   "execution_count": null,
   "metadata": {},
   "outputs": [],
   "source": [
    "print(round(1.7))"
   ]
  },
  {
   "cell_type": "code",
   "execution_count": null,
   "metadata": {},
   "outputs": [],
   "source": [
    "print(round(-1.3))"
   ]
  },
  {
   "cell_type": "code",
   "execution_count": null,
   "metadata": {},
   "outputs": [],
   "source": [
    "print(round(-1.7))"
   ]
  },
  {
   "cell_type": "markdown",
   "metadata": {},
   "source": [
    "**ATTENTION** The floating point numbers are not always precise as you can expect. This is due to the fact that in the computer they are represented with a limited number of bits. A limited number of decimal digits is not always represented by a limited number of binary digits. Sometimes, this can bring to unexpected problems.\n",
    "\n",
    "What do you think will be the output of the following line of code? ... are you really sure?"
   ]
  },
  {
   "cell_type": "code",
   "execution_count": null,
   "metadata": {},
   "outputs": [],
   "source": [
    "print(0.1 + 0.2)"
   ]
  },
  {
   "cell_type": "markdown",
   "metadata": {},
   "source": [
    "# Additional Math Functions and Python Modules \n",
    "\n",
    "Python includes a large list of operators and mathematical functions. However only some of them are natively supported by the language (such as `int()`, `round()`, or `abs()` that returns the absolute value of a number). To use the others, we have to use code written by others. That code works as a sort of *library* of additional functions, that in Python are called **modules**.\n",
    "\n",
    "In Python, modules are used to group functions, variables, and other things together into larger, more powerful programs. Some modules are built-in to Python, and other modules have to be downloaded separately. As an example, there are modules to generate random numbers, to have time information, to manipulate images, or to help you drawing plots or writing games (such as PyPlot and PyGame, *we will see them later in the course ;-)*). The list of all the modules can be found on the official Python website.\n",
    "\n",
    "Another widely used module is the `math` module. To use a module is sufficient to import it at the beginning of the code using the `import` keyword. e.g. `import math`.\n",
    "\n",
    "A simple example of using one function from the `math` module, is in using the `ceil()` function. This function rounds a floating point number to the upper integer. Actually, this is the function that every student hopes to be used by its professor for the final course mark ;-).\n",
    "\n",
    "To use the `ceil()` function, it is not only needed to use the function name. We have to explicitly mention also from where this function comes from, i.e. what is its module: `math.ceil(x)`.\n",
    "\n",
    "The syntax to use a function or a variable inside a module is the following:\n",
    "\n",
    "    module_name.function_name(parameter_1, parameter_2, ...)\n",
    "    module_name.variable_name\n"
   ]
  },
  {
   "cell_type": "code",
   "execution_count": null,
   "metadata": {},
   "outputs": [],
   "source": [
    "import math\n",
    "\n",
    "x = math.ceil(4.2)\n",
    "print(x)\n",
    "print(math.ceil(1 + 3.8))"
   ]
  },
  {
   "cell_type": "markdown",
   "metadata": {},
   "source": [
    "**Advanced Trick** To reduce the amount of *text* to be written when calling a function inside a module, Python provides also an alternative way. In this second case, we have to know what is the function of the module we are going to use and instead of importing all the module functions, we import only that function. e.g. `from math import ceil`.\n",
    "From now on, we do not have to explicitly mention the name of the module, it is enough to write the name of the function (or variable). e.g. `ceil()`\n",
    "\n",
    "See the following example:"
   ]
  },
  {
   "cell_type": "code",
   "execution_count": null,
   "metadata": {},
   "outputs": [],
   "source": [
    "from math import ceil\n",
    " \n",
    "x = 7 / 2\n",
    "y = ceil(x)\n",
    "print(y)"
   ]
  },
  {
   "cell_type": "markdown",
   "metadata": {},
   "source": [
    "Here you can find some other functions of the `math` module:"
   ]
  },
  {
   "cell_type": "markdown",
   "metadata": {},
   "source": [
    "Rounding\n",
    "\n",
    "    floor(x)    Returns the floor of x, the largest integer less than or equal to x.\n",
    "    ceil(x)     Returns the ceiling of x, the smallest integer greater than or equal to x.\n",
    "\n",
    "Roots and logarithms\n",
    "    \n",
    "    sqrt(x)     Returns the square root of x\n",
    "    log(x)      With one argument, returns the natural logarithm of x (to base e). \n",
    "                With two arguments, return the logarithm of x to the given base\n",
    "    e           The mathematical constant e = 2,71828...\n",
    "\n",
    "Trigonometry\n",
    "    \n",
    "    sin(x)      Returns the sine of x radians\n",
    "    asin(x)     Returns the arcsine of x, in radians\n",
    "    pi          The mathematical constant π = 3.1415...\n",
    "    \n",
    "[others ...] For a more complete list you can also type `help(math)`."
   ]
  },
  {
   "cell_type": "code",
   "execution_count": null,
   "metadata": {},
   "outputs": [],
   "source": [
    "import math\n",
    "print(math.e)\n",
    "print(math.pi)\n",
    "print(math.sin(math.pi/2))"
   ]
  },
  {
   "cell_type": "markdown",
   "metadata": {},
   "source": [
    "**RANDOM module** Another interesting and widely used module is the `random` module. This is used to generate random numbers.\n",
    "As usual to import the module we have to type `import random`. Then we can use the functions exposed by the module. There are several possibilities, here after 3 of them will be described."
   ]
  },
  {
   "cell_type": "markdown",
   "metadata": {},
   "source": [
    "- `random.randint(a, b)` gives you a random integer number in the range a-b;\n",
    "- `random.random()` gives you a random floating point number in the range 0.0-1.0;\n",
    "- `random.uniform(a, b)` gives you a random floating point number in the range a-b;"
   ]
  },
  {
   "cell_type": "code",
   "execution_count": null,
   "metadata": {},
   "outputs": [],
   "source": [
    "import random\n",
    "\n",
    "print(random.randint(1,100))\n",
    "print(random.random())\n",
    "print(random.uniform(-1,1))"
   ]
  }
 ],
 "metadata": {
  "kernelspec": {
   "display_name": "Python 3",
   "language": "python",
   "name": "python3"
  },
  "language_info": {
   "codemirror_mode": {
    "name": "ipython",
    "version": 3
   },
   "file_extension": ".py",
   "mimetype": "text/x-python",
   "name": "python",
   "nbconvert_exporter": "python",
   "pygments_lexer": "ipython3",
   "version": "3.6.4"
  }
 },
 "nbformat": 4,
 "nbformat_minor": 2
}
