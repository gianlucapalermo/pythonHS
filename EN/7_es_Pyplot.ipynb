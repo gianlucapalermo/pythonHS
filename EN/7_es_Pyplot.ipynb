{
 "cells": [
  {
   "cell_type": "markdown",
   "metadata": {},
   "source": [
    "# Pyplot.1 - Esercizio: Sinusoide\n",
    "Scrivi un programma che faccia il grafico di una sinusoide tra 0 e 2*pigreco. *Ricordati che esiste la funzione seno e il valore di pigreco all'interno della libreria `math`."
   ]
  },
  {
   "cell_type": "code",
   "execution_count": null,
   "metadata": {},
   "outputs": [],
   "source": [
    "# Inserisci qui la soluzione\n",
    "\n",
    "\n",
    "\n",
    "\n",
    "\n"
   ]
  },
  {
   "cell_type": "markdown",
   "metadata": {},
   "source": [
    "# Pyplot.2 - Esercizio: Ritorna la lumaca!!!\n",
    "Scrivi un programma che crei il grafico dell'andamento orario della lumaca dell'esercizio riassuntivo della 2a lezione Python. Si consideri un alternanza giorno e notte di 12h ciascuna.\n",
    "\n",
    "Il testo dell'esercizio precedente viene qui riportato.\n",
    "\n",
    "    Una lumaca vuole salire sulla facciata di un edificio alto H metri per raggiungerne il tetto. \n",
    "    Ogni giorno sale di X centimetri e ogni notte mentre dorme scivola in giù di Y centimetri.\n",
    "    Dati i tre numeri H, X e Y, quanti giorni impiega a raggiungere il tetto?\n",
    "    Esempi: \n",
    "        H=20 X=7 Y=3, la risposta è 5 giorni\n",
    "        H=15 X=70 Y=3, la risposta è 1 giorni\n",
    "        H=10 X=3 Y=2, la risposta è 8 giorni\n",
    "        H=20 X=5 Y=1, la risposta è 5 giorni\n",
    "        H=30 X=10 Y=5, la risposta è 5 giorni\n",
    "        H=86 X=17 Y=8, la risposta è 8 giorni\n"
   ]
  },
  {
   "cell_type": "code",
   "execution_count": null,
   "metadata": {},
   "outputs": [],
   "source": [
    "# Inserisci qui la soluzione\n",
    "\n",
    "\n",
    "\n",
    "\n"
   ]
  },
  {
   "cell_type": "markdown",
   "metadata": {},
   "source": [
    "# Pyplot.3 - Esercizio: Quali lettere in una frase famosa?\n",
    "Scrivere un programma che crei un grafico a barre rappresentant quante volte è ripetuta una lettera in una frase famosa. Ad esempio \"supercalifragilisticoespiralidoso\" (da Mary Poppins)."
   ]
  },
  {
   "cell_type": "code",
   "execution_count": null,
   "metadata": {},
   "outputs": [],
   "source": [
    "# Inserisci qui la soluzione\n",
    "\n",
    "\n",
    "\n",
    "\n",
    "\n"
   ]
  },
  {
   "cell_type": "markdown",
   "metadata": {},
   "source": [
    "\n",
    "# Pyplot.4 - Esercizio: Quanto tempo libero?\n",
    "Fare una progamma che dopo aver estratto le ore per ogni singolo tipo di attività \"giornaliera\", mostri un grafico a torta del tempo settimanale speso per le attività principali evidenziando quale è la percentuale di tempo libero rimanente.\n",
    "\n",
    "Le informazioni da chiedere sono:\n",
    "    \n",
    "    - [Scuola] le ore di scuola giornaliere (da considere poi su 5 giorni)\n",
    "    - [Studio] le ore di studio medie giornaliere (da considerare poi su 7 giorni)\n",
    "    - [Trasporti] Quanto tempo ci si impiega per raggiungere la scuola (da moltiplicare per 2 e poi per 5 giorni)\n",
    "    - [Food] le ore a che mediamente si spende a tavola giornalmente (da considerare poi su 7 giorni)\n",
    "    - [Sport] Se si fa sport e nel caso quanti giorni a settimana e per quante ore\n",
    "    - [Sonno] le ore di sonno medie giornaliere (da considerare sui 7 giorni)\n",
    "\n"
   ]
  },
  {
   "cell_type": "code",
   "execution_count": null,
   "metadata": {},
   "outputs": [],
   "source": [
    "# Inserisci qui la soluzione\n",
    "\n",
    "\n",
    "\n",
    "\n",
    "\n"
   ]
  }
 ],
 "metadata": {
  "kernelspec": {
   "display_name": "Python 3",
   "language": "python",
   "name": "python3"
  },
  "language_info": {
   "codemirror_mode": {
    "name": "ipython",
    "version": 3
   },
   "file_extension": ".py",
   "mimetype": "text/x-python",
   "name": "python",
   "nbconvert_exporter": "python",
   "pygments_lexer": "ipython3",
   "version": "3.6.4"
  }
 },
 "nbformat": 4,
 "nbformat_minor": 2
}
