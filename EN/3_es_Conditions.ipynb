{
 "cells": [
  {
   "cell_type": "markdown",
   "metadata": {},
   "source": [
    "# 3.1 - Exercise\n",
    "Write a program that takes as input an integer number and writes in output if the number ends (least significant digit) with 5.\n",
    "\n",
    "    E.g.\n",
    "        Input: 46 - Output: \"It does not end with 5\"\n",
    "        Input: 675 - Output: \"It ends with 5\"\n",
    "        Input: 52 - Output: \"It does not end with 5\"\n",
    "      "
   ]
  },
  {
   "cell_type": "markdown",
   "metadata": {},
   "source": [
    "# 3.2 - Exercise\n",
    "Write a program that takes as input an integer number and writes in output if it is EVEN or ODD\n",
    "\n",
    "    E.g. \n",
    "        Input: 46 - Output: \"It is EVEN\"\n",
    "        Input: 675 - Output: \"It is ODD\"\n"
   ]
  },
  {
   "cell_type": "markdown",
   "metadata": {},
   "source": [
    "# 3.3 - Exercise\n",
    "Write a program that takes as input an integer number and writes in output if it is POSITIVE or NEGATIVE\n",
    "\n",
    "    E.g. \n",
    "        Input: 46 - Output: \"It is POSITIVE\"\n",
    "        Input: -675 - Output: \"It is NEGATIVE\"\n"
   ]
  },
  {
   "cell_type": "markdown",
   "metadata": {},
   "source": [
    "# 3.4 - Exercise (3.1 + 3.2 + 3.3)\n",
    "Write a program that takes as input an integer number and writes in output if it is POSITIVE or NEGATIVE, EVEN or ODD and if its least significant bit is 5. The output should be in a single line.\n",
    "\n",
    "    E.g: \n",
    "        Input: 46 - Output: \"It is EVEN, POSITIVE, and does NOT END with 5\"\n",
    "        Input: -675 - Output: \"It is ODD, NEGATIVE, and ENDS with 5\"\n",
    "        Input: -52 - Output: \"It is EVEN, NEGATIVE, and does NOT END with 5\""
   ]
  },
  {
   "cell_type": "markdown",
   "metadata": {},
   "source": [
    "# 3.5 - Exercise\n",
    "Write a program that given two integer numbers in input, print which one is the smaller and which one is the largest."
   ]
  },
  {
   "cell_type": "markdown",
   "metadata": {},
   "source": [
    "# 3.6 - Exercise\n",
    "Write a program that takes as input 2 integer numbers and writes in output how many of them are ODD: both odd, only one or no one."
   ]
  },
  {
   "cell_type": "markdown",
   "metadata": {},
   "source": [
    "\n",
    "# 3.7 - Exercise\n",
    "Write a program that takes in input 3 integer numbers, and prints them in increasing order."
   ]
  },
  {
   "cell_type": "markdown",
   "metadata": {},
   "source": [
    "# 3.8 - Exercise\n",
    "Write a program that receives in input an integer number, and it determines if it is composed by exactly 3 digits.\n",
    "\n",
    "    E.g.\n",
    "        Input: 46 - Output: \"It is NOT a 3 digit number\"\n",
    "        Input: 675 - Output: \"It is a 3 digit number\"\n",
    "        Input: 1552 - Output: \"It is NOT a 3 digit number\""
   ]
  },
  {
   "cell_type": "markdown",
   "metadata": {},
   "source": [
    "# 3.9 - Exercise\n",
    "Write a program that receives in input a 4 digit number and determines if it is palindromic.\n",
    "A number is a palindromic number if it remains the same when its digits are reversed. The program should check also if the provided number is composed of 4 digits.\n",
    "\n",
    "    E.g.:\n",
    "        Input: 4664 - Output: \"It is a palindromic number\"\n",
    "        Input: 6755 - Output: \"It is NOT a palindromic number\"\n",
    "        Input: 5225 - Output: \"It is a palindromic number\"\n",
    "        Input: 323 -  Output: \"The number is not composed of 4 digits\""
   ]
  },
  {
   "cell_type": "markdown",
   "metadata": {},
   "source": [
    "# 3.10 - Exercise\n",
    "Write a program that given a past or future year number, defines if it is a LEAP or COMMON year. In the Gregorian calendar, the rules defining if a year is LEAP or COMMON are as follows: a year is a leap year if its number is divisible by 4 and is not by 100; a year is always a leap year if its number is divisible by 400.\n",
    "\n",
    "    E.g.:\n",
    "        1996 -> LEAP\n",
    "        2013 -> COMMON\n",
    "        2000 -> LEAP\n",
    "        2019 -> COMMON\n",
    "        2100 -> COMMON\n",
    "        500 -> COMMON\n",
    "        504 -> LEAP"
   ]
  },
  {
   "cell_type": "markdown",
   "metadata": {},
   "source": [
    "# 3.11 - Exercise\n",
    "Write a program that takes as input the number of the month (1-12) and prints in output the number of days of that months. Consider always a common (non LEAP) year."
   ]
  },
  {
   "cell_type": "markdown",
   "metadata": {},
   "source": [
    "# 3.12 - Exercise\n",
    "Write a program that takes as input the size of the three edges (sides) of a triangle and determine what type of triangle it is (Scalene, Isosceles or Equilateral)."
   ]
  },
  {
   "cell_type": "markdown",
   "metadata": {},
   "source": [
    "# Final exercise\n",
    "\n",
    "A mobile operator decided to launch a new offer for young users. It includes unlimited calls and SMS. The only cost is on the data traffic with the following rules:\n",
    "\n",
    "    - The firsts 8 GigaBytes cost 5 euro overall;\n",
    "    - The next 7 GigaBytes cost 3 euro overall;\n",
    "    - The next GigaBytes cost 1 euro each.\n",
    "    \n",
    "Write a program that receives as input the amount of GigaBytes it is expected to use and determine the expected cost for this offer."
   ]
  }
 ],
 "metadata": {
  "kernelspec": {
   "display_name": "Python 3",
   "language": "python",
   "name": "python3"
  },
  "language_info": {
   "codemirror_mode": {
    "name": "ipython",
    "version": 3
   },
   "file_extension": ".py",
   "mimetype": "text/x-python",
   "name": "python",
   "nbconvert_exporter": "python",
   "pygments_lexer": "ipython3",
   "version": "3.6.4"
  }
 },
 "nbformat": 4,
 "nbformat_minor": 2
}
