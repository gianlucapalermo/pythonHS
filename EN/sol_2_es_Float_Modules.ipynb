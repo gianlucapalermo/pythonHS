{
 "cells": [
  {
   "cell_type": "markdown",
   "metadata": {},
   "source": [
    "# 2.1 - Esercizio: Stampa due cifre separate\n",
    "Scrivi un programma che prende un numero a due cifre e ne stampi le due cifre separate da un segno -.\n",
    "      "
   ]
  },
  {
   "cell_type": "code",
   "execution_count": null,
   "metadata": {},
   "outputs": [],
   "source": [
    "# Inserisci qui la soluzione\n",
    "\n",
    "a = int(input())\n",
    "\n",
    "print( str(a//10) + \" - \" + str(a%10) )\n"
   ]
  },
  {
   "cell_type": "markdown",
   "metadata": {},
   "source": [
    "# 2.2 - Esercizio: Invertire le due cifre\n",
    "Scrivi un programma che prende un numero a due cifre e ne inverta la posizione.\n"
   ]
  },
  {
   "cell_type": "code",
   "execution_count": null,
   "metadata": {},
   "outputs": [],
   "source": [
    "# Inserisci qui la soluzione\n",
    "\n",
    "a = int(input())\n",
    "\n",
    "b = a%10*10 + a//10\n",
    "\n",
    "print(b)\n"
   ]
  },
  {
   "cell_type": "markdown",
   "metadata": {},
   "source": [
    "# 2.3 - Esercizio: Stampa due cifre\n",
    "Scrivi un programma che prende un numero con un qualsiasi numero di cifre e ne stampi solo le due meno significative."
   ]
  },
  {
   "cell_type": "code",
   "execution_count": null,
   "metadata": {},
   "outputs": [],
   "source": [
    "# Inserisci qui la soluzione\n",
    "\n",
    "a = int(input())\n",
    "\n",
    "print(a%100)\n"
   ]
  },
  {
   "cell_type": "markdown",
   "metadata": {},
   "source": [
    "\n",
    "# 2.4 - Esercizio: Rotazione di un numero\n",
    "Scrivi un programma che dato un numero a 4 cifre lo ruoti di 2 cifre.\n",
    "\n",
    "    Esempio. Il numero 1234 viene ruotato in 3412"
   ]
  },
  {
   "cell_type": "code",
   "execution_count": null,
   "metadata": {},
   "outputs": [],
   "source": [
    "# Inserisci qui la soluzione\n",
    "\n",
    "a = int(input())\n",
    "\n",
    "b = a%100*100 + a//100\n",
    "\n",
    "print(b)\n"
   ]
  },
  {
   "cell_type": "markdown",
   "metadata": {},
   "source": [
    "# 2.5 - Esercizio: Parte frazionaria\n",
    "Scrivi un programma che dato un numero positivo con la virgola, ne stampi la sola parte frazionaria.\n",
    "\n",
    "    Esempio. Dato il numero 7.56 diventa 0.56"
   ]
  },
  {
   "cell_type": "code",
   "execution_count": null,
   "metadata": {},
   "outputs": [],
   "source": [
    "# Inserisci qui la soluzione\n",
    "\n",
    "a = float(input())\n",
    "a_intera= int(a)\n",
    "print(a - a_intera)\n"
   ]
  },
  {
   "cell_type": "markdown",
   "metadata": {},
   "source": [
    "# 2.6 - Esercizio: Prima cifra frazionaria\n",
    "Scrivi un programma che dato un numero positivo con la virgola, ne stampi la sola prima cifra della parte frazionaria.\n",
    "\n",
    "    Esempio. Dato il numero 7.56 stampa 5"
   ]
  },
  {
   "cell_type": "code",
   "execution_count": null,
   "metadata": {},
   "outputs": [],
   "source": [
    "# Inserisci qui la soluzione\n",
    "\n",
    "a = float(input())\n",
    "a_intera= int(a)\n",
    "a_virgola = a - a_intera\n",
    "prima_cifra = int(a_virgola*10)\n",
    "print(prima_cifra)\n"
   ]
  },
  {
   "cell_type": "markdown",
   "metadata": {},
   "source": [
    "# 2.7 - Esercizio: Viaggio in Camper\n",
    "Durante una vacanza in camper mi aspetto di percorrere tra i 300Km e i 750Km al giorno. Sapendo che devo percorrere X km (da leggere in ingresso all'applicazione), quante notti dovrò dormire in camper prima di arrivare a destinazione nel caso ottimo e nel caso pessimo?\n"
   ]
  },
  {
   "cell_type": "code",
   "execution_count": null,
   "metadata": {},
   "outputs": [],
   "source": [
    "# Inserisci qui la soluzione\n",
    "\n",
    "Km = int(input())\n",
    "minimo = Km//750\n",
    "massimo = Km//300\n",
    "print(\"In camper dormirò tra \" + str(minimo) + \" e \" + str(massimo) + \" notti!\")\n"
   ]
  },
  {
   "cell_type": "markdown",
   "metadata": {},
   "source": [
    "# 2.7 - Esercizio: Minuti da mezzanotte\n",
    "Scrivere un programma che dati i minuti passati da mezzanotte, mi dica che ore sono.\n",
    "\n",
    "    Esempio. 150 minuti diventano le 2:30"
   ]
  },
  {
   "cell_type": "code",
   "execution_count": null,
   "metadata": {},
   "outputs": [],
   "source": [
    "# Inserisci qui la soluzione\n",
    "\n",
    "minuti = int(input())\n",
    "hh=minuti//60\n",
    "mm=minuti%60\n",
    "print(str(hh) + \":\" + str(mm))\n"
   ]
  },
  {
   "cell_type": "markdown",
   "metadata": {},
   "source": [
    "# Esercizio Riassuntivo: La lumaca\n",
    "\n",
    "Una lumaca vuole salire sulla facciata di un edificio alto H metri per raggiungerne il tetto. Ogni giorno sale di X centimetri e ogni notte mentre dorme scivola in giù di Y centimetri. \n",
    "\n",
    "Dati i tre numeri H, X e Y, quanti giorni impiega a raggiungere il tetto?\n",
    "\n",
    "    Esempi: \n",
    "        H=20 X=7 Y=3, la risposta è 5 giorni\n",
    "        H=15 X=70 Y=3, la risposta è 1 giorni\n",
    "        H=10 X=3 Y=2, la risposta è 8 giorni\n",
    "        H=20 X=5 Y=1, la risposta è 5 giorni\n",
    "        H=30 X=10 Y=5, la risposta è 5 giorni\n",
    "        H=86 X=17 Y=8, la risposta è 9 giorni"
   ]
  },
  {
   "cell_type": "code",
   "execution_count": null,
   "metadata": {},
   "outputs": [],
   "source": [
    "# Inserisci qui la soluzione\n",
    "import math\n",
    "\n",
    "H = int(input(\"quanto è alto il palazzo in metri?\"))\n",
    "X = int(input(\"Di quanto sale la lumaca ogni giorno?\"))\n",
    "Y = int(input(\"Di quanto scende la lumaca ogni notte?\"))\n",
    "\n",
    "giorni = 1+ math.ceil((H-X)/(X-Y))\n",
    "\n",
    "print(\"La lumaca impiega \" + str(giorni) + \" giorni\")\n"
   ]
  },
  {
   "cell_type": "code",
   "execution_count": null,
   "metadata": {},
   "outputs": [],
   "source": []
  }
 ],
 "metadata": {
  "kernelspec": {
   "display_name": "Python 3",
   "language": "python",
   "name": "python3"
  },
  "language_info": {
   "codemirror_mode": {
    "name": "ipython",
    "version": 3
   },
   "file_extension": ".py",
   "mimetype": "text/x-python",
   "name": "python",
   "nbconvert_exporter": "python",
   "pygments_lexer": "ipython3",
   "version": "3.6.4"
  }
 },
 "nbformat": 4,
 "nbformat_minor": 2
}
