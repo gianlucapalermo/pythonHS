{
 "cells": [
  {
   "cell_type": "markdown",
   "metadata": {},
   "source": [
    "# Pygame: Let's build a VideoGame in Python!\n",
    "\n",
    "Pygame is a library that has been designed to support the development of video games in python. Pygames provides all the basic components that are needed to develop a simple video game, such as graphics and event detection.\n",
    "\n",
    "As we already learnt, to use all the functions and variables included in a python module, we have to import it at the beginning of the program. In this case we have to type `import pygame`.\n",
    "\n",
    "Moreover, pygame requires to be initialized before the actual usage by calling its `init()` function: `pygame.init()`\n"
   ]
  },
  {
   "cell_type": "code",
   "execution_count": null,
   "metadata": {},
   "outputs": [],
   "source": [
    "import pygame\n",
    "\n",
    "pygame.init()"
   ]
  },
  {
   "cell_type": "markdown",
   "metadata": {},
   "source": [
    "Very Good! Now we are ready to start designing our first videogame.\n",
    "\n",
    "The first step to do is to define a *screen* (or window) where to draw the content of my videogame.\n",
    "Python provides a function to declare a screen for the videogame: `pygame.display.set_mode((SizeX, SizeY))`.\n",
    "`SizeX` and `SizeY` are the orizontal and vertical size in terms of pixels.  This function retutns an object that will be used later for the graphics and animations. \n",
    "\n",
    "Optionally, we can give a name to the new window we create by using the following function: `pygame.display.set_caption(\"My Videogame\")`"
   ]
  },
  {
   "cell_type": "code",
   "execution_count": null,
   "metadata": {},
   "outputs": [],
   "source": [
    "import pygame\n",
    "import time\n",
    "\n",
    "pygame.init()\n",
    "\n",
    "sizeX = 400\n",
    "sizeY = 300\n",
    "\n",
    "myScreen = pygame.display.set_mode((sizeX, sizeY))\n",
    "pygame.display.set_caption(\"My Videogame\")\n",
    "\n",
    "#The execution is freezed for 3seconds\n",
    "time.sleep(3)\n",
    "\n",
    "pygame.quit()"
   ]
  },
  {
   "cell_type": "markdown",
   "metadata": {},
   "source": [
    "Once prepared the screen, we have to fill it with something usefull.\n",
    "\n",
    "However, we have to discuss a bit on the videogame logic. In particular, with respect to the previous programs we implemented where the logic was to process some data and than to stop, a videogame continue to run interacting with the player. The end of the program is when the player quits the game.\n",
    "\n",
    "This mechanism can be easily implemented using a *while loop*, since the number of iterations (when the user decide to quit the game) is not know in advance.\n",
    "\n",
    "    activeGame = True\n",
    "    while (activeGame==True):\n",
    "        videogame-loop-body\n",
    "        "
   ]
  },
  {
   "cell_type": "markdown",
   "metadata": {},
   "source": [
    "Here after the there is the implementation of the previous pseudo-code by using the elements provided by *pygame*. This actually is the basic scheleton of a videogame, and it is mainly composed by 3 parts:\n",
    "\n",
    "- After an initialization phase, a variable is used to detect if the *videogame loop body* should be done or not. Thus if the videgame is active (`activeGame==True`) or not.\n",
    "- Then, at each iteration, we have to detect possible interactions with the user. This is done by using a specific function of pygame that collects all the events happened in the last period: `pygame.event.get()`. Those events can be a keybord interaction, a mouse click or movement, etc... One of the possible events is also the quit of the videogame screen. When this is detected, the videogame should stop (`activeGame=False`), determining the end of the game loop execution..\n",
    "    - Per vedere tutti gli eventi che sono catturati dalla funzione `pygame.event.get()`, si commenti la linea con `print(event)`\n",
    "- Finally, there is the final part of the videogame where we dually to the `init()` funciton, we have to call the pygame `quit()` function: `pygame.quit()`."
   ]
  },
  {
   "cell_type": "code",
   "execution_count": null,
   "metadata": {},
   "outputs": [],
   "source": [
    "import pygame\n",
    "\n",
    "pygame.init()\n",
    "\n",
    "sizeX = 400\n",
    "sizeY = 300\n",
    "\n",
    "myScreen = pygame.display.set_mode((sizeX, sizeY))\n",
    "pygame.display.set_caption(\"My Videogame\")\n",
    "\n",
    "gameActive = True\n",
    "\n",
    "while (gameActive==True):\n",
    "        \n",
    "    #event detection\n",
    "    for event in pygame.event.get():\n",
    "        #print(event)\n",
    "        if event.type==pygame.QUIT:\n",
    "            gameActive = False\n",
    "            \n",
    "pygame.quit()"
   ]
  },
  {
   "cell_type": "markdown",
   "metadata": {},
   "source": [
    "The previous code is the scheleton of all your videogames. Now it is time to start learning some more pygame fuctions capable to actually fill your videogame. *Do not forget that everything you learnt up to now (in the previous lessons) will be usefull to build a real videogame\".\n",
    "\n",
    "- *TIME*\n",
    "    - PyGame, and in general most of the videogames, requires the notion of time. This is something that your previous program did not have.  Questa è una cosa che fino ad ora non hai mai visto... in realtà non è vero perchè poco qui sopra abbiamo usato la funzione `time.sleep(3)` che metteva in pausa per 3 secondi il gioco. \n",
    "    - Il concetto di tempo in un primo gioco lo useremo solo per definire ogni quanto far avanzare il gioco, cioè ogni quanto *aggiornare lo stato dello schermo di gioco*. Questo concetto si chiama anche *frame rate*, cioè quanti aggiornamenti al secondo verranno fatti sullo schermo. \n",
    "    - Dichiareremo un *orologio* usando la funzione di pygame `pygame.time.Clock()`. L'oggetto restituito può essere usato per stabilire appunto il frame rate. Ad esempio `clock.tick(50)` definisce che quella istruzione non può essere chiamata più di 50 volte al secondo, ed in particolare definisce che tra due chiamate successive alla funzione *tick* non possono passare più di 20ms.\n",
    "\n",
    "- *DRAWING GEOMETRIC SHAPES*\n",
    "    - PyGame includes some functions to draw the main geometric shapes (see https://www.pygame.org/docs/ref/draw.html). As an example:\n",
    "        - *Circle* `pygame.draw.circle(myScreen, color, (x,y), radius, thickness)`. The variable *myScreen* is the screen that we declared at the beginning of the program; the *color* is a triplet of RGB values (Red, Green, Blue) determining the color of the circle; (x,y) are the coordinates of the circle center; *radius* is the radius of the circle; *thickness* is the thinkness of the circle border. (if missing the circle is completely filled).\n",
    "        - *Rectangle*: `pygame.draw.rect(myScreen, color, Rect, thickness)`. The variable *myScreen* is the screen that we declared at the beginning of the program; the *color* is a triplet of RGB values (Red, Green, Blue) determining the color of the circle; Rect is a list of 4 values representing the x and y position of the upper-leftcorner, and the width and height of the rectangle. As an example `[100, 50, 15, 10]` represents a rectangle with the upper-left corner in position (100,50) and sides 15 (width) and 10 (height); *thickness* is the thinkness of the rectable border. (if missing the rectangle is completely filled).\n",
    "        - Some example of RGB triplets for the colors are:red = (255,0,0); green = (0,255,0); blue = (0,0,255); darkBlue = (0,0,128); white = (255,255,255); black = (0,0,0); pink = (255,200,200)\n",
    "        - Pygame includes also a color map. To use it and thus to declare a color \"by name\" it is enough to type the follwing: `pygame.Color(colorName)`. e.g. `pygame.Color(\"red\")`.\n",
    "\n",
    "- *SCREEN UPDATE*\n",
    "    -  PyGame does not immediatly update the screen with all the shapes that have been instantiated on it. It should be done explicitly at each iteration of the loop using the `pygame.display.update()` function. "
   ]
  },
  {
   "cell_type": "code",
   "execution_count": null,
   "metadata": {},
   "outputs": [],
   "source": [
    "import pygame\n",
    "\n",
    "pygame.init()\n",
    "\n",
    "sizeX = 400\n",
    "sizeY = 300\n",
    "\n",
    "myScreen = pygame.display.set_mode((sizeX, sizeY))\n",
    "pygame.display.set_caption(\"My Videogame\")\n",
    "clock = pygame.time.Clock()\n",
    "\n",
    "xCircle = 240\n",
    "rectYdim = 35\n",
    "gameActive = True\n",
    "\n",
    "while (gameActive==True): \n",
    "    #Geometric shapes\n",
    "    pygame.draw.circle(myScreen, pygame.Color(\"red\"), (240,60), 30)\n",
    "    pygame.draw.rect(myScreen, pygame.Color(\"green\"), [100, 150, 50, 35], 2)\n",
    "\n",
    "    #Event detection\n",
    "    for event in pygame.event.get():\n",
    "        #print(event)\n",
    "        if event.type==pygame.QUIT:\n",
    "            gameActive = False\n",
    "            \n",
    "    #Display Update\n",
    "    pygame.display.update()\n",
    "\n",
    "    #Maximum frame rate\n",
    "    clock.tick(50)\n",
    "\n",
    "pygame.quit()\n",
    "\n",
    "#quit()"
   ]
  },
  {
   "cell_type": "markdown",
   "metadata": {},
   "source": [
    "The previous program only draws on the screen some geometric shapes without any animation. Actually, the game loop continue to re-draw always in the same places the circle and the rectangle we used as graphic examples. How can implement a possible animation?\n",
    "\n",
    "The answer is simple. We can move them by changing the position where they are drawn, or changing the size by modifing the parameters representing the diameter, the height and the widht. If we use a variable for one (or more) of those parameters and at each iteration we update its value, an animation will be shown.\n",
    "\n",
    "Pay attiention that it is like drawing on a blackboard. If you want to move something, you have also to delete it from the previous position. A simple way to do it is to re-fill the screen with the background color at each iteration using the `fill()` method. e.g. `myScreen.fill(pygame.Color(\"black\")`. "
   ]
  },
  {
   "cell_type": "code",
   "execution_count": null,
   "metadata": {},
   "outputs": [],
   "source": [
    "import pygame\n",
    "\n",
    "pygame.init()\n",
    "\n",
    "sizeX = 400\n",
    "sizeY = 300\n",
    "\n",
    "myScreen = pygame.display.set_mode((sizeX, sizeY))\n",
    "pygame.display.set_caption(\"My Videogame\")\n",
    "clock = pygame.time.Clock()\n",
    "\n",
    "xCircle = 240\n",
    "rectYdim = 35\n",
    "gameActive = True\n",
    "\n",
    "while (gameActive==True): \n",
    "    #Clear screen\n",
    "    myScreen.fill(pygame.Color(\"black\"))\n",
    "    \n",
    "    #Geometric shapes\n",
    "    pygame.draw.circle(myScreen, pygame.Color(\"red\"), (xCircle,60), 30)\n",
    "    pygame.draw.rect(myScreen, pygame.Color(\"green\"), [100, 150, 50, rectYdim], 2)\n",
    "\n",
    "    #Event detection\n",
    "    for event in pygame.event.get():\n",
    "        #print(event)\n",
    "        if event.type==pygame.QUIT:\n",
    "            gameActive = False\n",
    "    \n",
    "    #Position and dimension update\n",
    "    xCircle = xCircle +1\n",
    "    rectYdim = rectYdim +1\n",
    "    \n",
    "    #Display Update\n",
    "    pygame.display.update()\n",
    "\n",
    "    #Maximum frame rate\n",
    "    clock.tick(50)\n",
    "\n",
    "pygame.quit()"
   ]
  },
  {
   "cell_type": "markdown",
   "metadata": {},
   "source": [
    "Now we have all the elements to animate something on the screen. Let's draw a circle that bounces from left to right, from up to down, and in whatever direction as an actual ball closed in a box. To make it more funny or unpredictable, you can insert some *random* updates."
   ]
  },
  {
   "cell_type": "code",
   "execution_count": null,
   "metadata": {},
   "outputs": [],
   "source": [
    "# Hint\n",
    "# Using updateX as the value of the position update \n",
    "# and xCircle as the x coordinate of the circle...\n",
    "#\n",
    "# xCerchio= xCerchio + updateX\n",
    "# if (xCerchio >= dimSchermoX) or (xCerchio <= 0):\n",
    "#     updateX = -1*updateX\n",
    "#"
   ]
  },
  {
   "cell_type": "markdown",
   "metadata": {},
   "source": [
    "Once you succesfully do it, insert also a rectangle that should disappear when hit by the ball."
   ]
  },
  {
   "cell_type": "code",
   "execution_count": null,
   "metadata": {},
   "outputs": [],
   "source": [
    "# Hint: define a variable that is used to decide\n",
    "# if the rectangle should be drawn or not\n",
    "#\n",
    "# If hit == False:\n",
    "#       pygame.draw.rect(...)\n"
   ]
  },
  {
   "cell_type": "markdown",
   "metadata": {},
   "source": [
    "Now we can add other stuff to the graphic. As an example, we can add some text that appears in specific moments (or always there): "
   ]
  },
  {
   "cell_type": "code",
   "execution_count": null,
   "metadata": {},
   "outputs": [],
   "source": [
    "fontSize = 60\n",
    "font = pygame.font.Font(None, fontSize)\n",
    "textColor = pygame.Color(\"red\")\n",
    "text = font.render(\"My text\", True, textColor)\n",
    "#to get widht and height of a text\n",
    "#text.get_width() text.get_height()\n",
    "myScreen.blit(text, (textPosX, textPosY))"
   ]
  },
  {
   "cell_type": "markdown",
   "metadata": {},
   "source": [
    "We can also use many other detected event or the mouse position to make the videogame more interactive. Here after you can see a couple of examples collecting the mouse position or detecting a keypress (left and right arrows)..."
   ]
  },
  {
   "cell_type": "code",
   "execution_count": null,
   "metadata": {},
   "outputs": [],
   "source": [
    "    for event in pygame.event.get():\n",
    "        # ...\n",
    "        if (event.type == pygame.MOUSEBUTTONDOWN):\n",
    "                mouse_pos = pygame.mouse.get_pos()\n",
    "                mouse_xPos=mouse_pos[0]\n",
    "                mouse_yPos=mouse_pos[1]\n",
    "                                \n",
    "        if event.type == pygame.KEYDOWN:\n",
    "                if event.key == pygame.K_LEFT:\n",
    "                    xPosition = -5\n",
    "                if event.key == pygame.K_RIGHT:\n",
    "                    xPosition = 5"
   ]
  },
  {
   "cell_type": "markdown",
   "metadata": {},
   "source": [
    "Now you have all the basic knowledge to create one of your preferred videogames! Some examples are: TickTackToe, Pong, Snake, Breakout, Hangman (Guess the word), Cannon ball..."
   ]
  }
 ],
 "metadata": {
  "kernelspec": {
   "display_name": "Python 3",
   "language": "python",
   "name": "python3"
  },
  "language_info": {
   "codemirror_mode": {
    "name": "ipython",
    "version": 3
   },
   "file_extension": ".py",
   "mimetype": "text/x-python",
   "name": "python",
   "nbconvert_exporter": "python",
   "pygments_lexer": "ipython3",
   "version": "3.6.4"
  }
 },
 "nbformat": 4,
 "nbformat_minor": 2
}
