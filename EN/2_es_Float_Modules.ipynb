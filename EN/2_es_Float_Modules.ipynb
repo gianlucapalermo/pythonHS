{
 "cells": [
  {
   "cell_type": "markdown",
   "metadata": {},
   "source": [
    "# 2.1 - Exercise\n",
    "Write a program that takes as input a 2-digit number, and prints in output the two digits separated by 5 \"a\" (\"aaaaa\").\n",
    "\n",
    "    e.g. INPUT: 57 - OUTPUT: 5aaaaa7\n",
    "      "
   ]
  },
  {
   "cell_type": "markdown",
   "metadata": {},
   "source": [
    "# 2.2 - Exercise\n",
    "Write a program that takes as input a 2 digit number and prints the number where the two digits are inverted, and the same number +1.\n",
    "\n",
    "    e.g. INPUT: 57 - OUTPUT: 75 and 76"
   ]
  },
  {
   "cell_type": "markdown",
   "metadata": {},
   "source": [
    "# 2.3 - Exercise\n",
    "Write a program that takes as input a number with more than 2 digits and prints in output only the two least significant digits."
   ]
  },
  {
   "cell_type": "markdown",
   "metadata": {},
   "source": [
    "# 2.4 - Exercise\n",
    "Write a program that takes as input a float number and prints only the decimal part.\n",
    "\n",
    "    e.g. INPUT 7.25 - OUTPUT 0.25"
   ]
  },
  {
   "cell_type": "markdown",
   "metadata": {},
   "source": [
    "# 2.5 - Exercise\n",
    "Write a program that takes as input a float number and prints in output only the first digit of the decimal part.\n",
    "\n",
    "    e.g. INPUT 7.25 - OUTPUT 2"
   ]
  },
  {
   "cell_type": "markdown",
   "metadata": {},
   "source": [
    "# 2.6 - Exercise\n",
    "I'm planning a holiday in a camper and I know from previous experiences that I will be able to drive between 300Km and  750Km per day. Write a program that takes as input the amount of Km to drive during the entire holiday and determine in the best and worst cases how many nights do I have to sleep in the camper.\n",
    "\n",
    "    e.g INPUT: 1230 - OUTPUT: Best case = 1 ; Worst case = 4"
   ]
  },
  {
   "cell_type": "markdown",
   "metadata": {},
   "source": [
    "# 2.7 - Exercise\n",
    "Write a program that receives in input the number of minutes that have been passed from the last mid-night and determines what time is it.\n",
    "\n",
    "    E.g. INPUT: 150 - OUTPUT 2:30"
   ]
  },
  {
   "cell_type": "markdown",
   "metadata": {},
   "source": [
    "# Final Exercise\n",
    "\n",
    "A snail wants to climb on the wall of a building to reach the top. Knowing that during the day the snail climbs X meters, during the night slides back down Y meters, we are interested in knowing how many days it takes to reach the top of an H meter building.\n",
    "\n",
    "Write a program that takes in input the three numbers (H, X and Y) and determines how many days are needed.\n",
    "\n",
    "    e.g.: \n",
    "        H=20 X=7 Y=3  - 5 days\n",
    "        H=15 X=70 Y=3 - 1 day\n",
    "        H=10 X=3 Y=2  - 8 days\n",
    "        H=20 X=5 Y=1  - 5 days\n",
    "        H=30 X=10 Y=5 - 5 days\n",
    "        H=86 X=17 Y=8 - 9 days"
   ]
  }
 ],
 "metadata": {
  "kernelspec": {
   "display_name": "Python 3",
   "language": "python",
   "name": "python3"
  },
  "language_info": {
   "codemirror_mode": {
    "name": "ipython",
    "version": 3
   },
   "file_extension": ".py",
   "mimetype": "text/x-python",
   "name": "python",
   "nbconvert_exporter": "python",
   "pygments_lexer": "ipython3",
   "version": "3.6.4"
  }
 },
 "nbformat": 4,
 "nbformat_minor": 2
}
