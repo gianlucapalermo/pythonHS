{
 "cells": [
  {
   "cell_type": "markdown",
   "metadata": {},
   "source": [
    "# PARADOSSO DEL COMPLEANNO"
   ]
  },
  {
   "cell_type": "markdown",
   "metadata": {},
   "source": [
    "Quello che volgiamo presentare ora è chiamato il _paradosso del compleanno_, un classico problema, di calcolo della probabilità. La domanda al quale vogliamo rispondere è: **scommetteresti che, in una classe di 25 persone, almeno due compiono gli anni lo stesso giorno?**"
   ]
  },
  {
   "cell_type": "markdown",
   "metadata": {},
   "source": [
    "Prima di farlo introduciamo il concetto di FUNZIONE PYTHON che potrebbe esserci utile in questa soluzione.\n",
    "\n",
    "Per definire una funzione devo usare la parola chiave `def`. Ogni funzione è poi caratterizzata da un nome e da i parametri in ingresso sul quale elaborare: `def nomeFunzione(parametro1,...,parametroN)`. La funzione inoltre può ritornare un valore usando la parola chiave `return`. Vediamo un esempio:\n"
   ]
  },
  {
   "cell_type": "code",
   "execution_count": 1,
   "metadata": {},
   "outputs": [
    {
     "name": "stdout",
     "output_type": "stream",
     "text": [
      "['a', 'fgòohgò', 'dddd', 'ddsfdsf']\n",
      "la dimensione del vettore è: 4\n",
      "['a', 'fgòohgò', 'dddd', 'ddsfdsf', 'Gianluca']\n",
      "la dimensione del vettore è: 5\n"
     ]
    }
   ],
   "source": [
    "def stampaVettoreEcalcolaLunghezza(vettoreIngresso):\n",
    "    print(vettoreIngresso)\n",
    "    lunghezzaVettore = len(vettoreIngresso)\n",
    "    return lunghezzaVettore\n",
    "    \n",
    "    \n",
    "mio_vettore = ['a', 'fgòohgò', 'dddd', 'ddsfdsf']\n",
    "\n",
    "size = stampaVettoreEcalcolaLunghezza(mio_vettore)\n",
    "print(\"la dimensione del vettore è: \" + str(size))\n",
    "\n",
    "mio_vettore.append(\"Gianluca\")\n",
    "size = stampaVettoreEcalcolaLunghezza(mio_vettore)\n",
    "print(\"la dimensione del vettore è: \" + str(size))\n"
   ]
  },
  {
   "cell_type": "markdown",
   "metadata": {},
   "source": [
    "Proviamo ora ad usare il concetto di funzione per ritornare TRUE o FALSE in base al fatto che preso un vettore in ingresso, nello stesso vettore ci sono 2 elementi (date) uguali."
   ]
  },
  {
   "cell_type": "code",
   "execution_count": 2,
   "metadata": {},
   "outputs": [
    {
     "name": "stdout",
     "output_type": "stream",
     "text": [
      "Scommessa Persa\n"
     ]
    }
   ],
   "source": [
    "#VERSIONE 1\n",
    "def esistono2uguali(mioVettore):\n",
    "    lunghezzaVettore = len(mioVettore)\n",
    "    for p1 in range(0,lunghezzaVettore):\n",
    "        for p2 in range(p1+1, lunghezzaVettore):\n",
    "            if mioVettore[p1]==mioVettore[p2]:\n",
    "                return True\n",
    "    return False\n",
    "\n",
    "#VERSIONE 2\n",
    "def esistono2uguali2(mioVettore):\n",
    "    lunghezzaVettore = len(mioVettore)\n",
    "    for p in range(0,lunghezzaVettore):\n",
    "        if mioVettore[p] in mioVettore[p+1:]:\n",
    "            return True\n",
    "    return False\n",
    "\n",
    "#VERSIONE 3\n",
    "def esistono2uguali3(mioVettore):\n",
    "    lunghezzaVettore = len(mioVettore)\n",
    "    mioVettore.sort( )\n",
    "    for i in range(lunghezzaVettore-1):\n",
    "        if mioVettore[i]==mioVettore[i+1]:\n",
    "            return True\n",
    "    return False\n",
    "\n",
    "\n",
    "\n",
    "\n",
    "dateNum=[654,54,3,34,53,5,6]\n",
    "\n",
    "if esistono2uguali(dateNum)==True:\n",
    "    print(\"Scommessa Vinta\")\n",
    "else:\n",
    "    print(\"Scommessa Persa\")\n"
   ]
  },
  {
   "cell_type": "markdown",
   "metadata": {},
   "source": [
    "Come posso ora cercare di ottenere un valore che sia statisticamente valido per decidere se scommettere o meno?\n",
    "La prima cosa che posso fare è provare a ripetere più volte su diverse \"classi\" il mio esperimento in modo da renderlo valido... Proviamo a cambiare il vettore sul quale faccio la verifica"
   ]
  },
  {
   "cell_type": "code",
   "execution_count": 3,
   "metadata": {},
   "outputs": [
    {
     "name": "stdout",
     "output_type": "stream",
     "text": [
      "Scommessa Vinta\n"
     ]
    }
   ],
   "source": [
    "\n",
    "dateNum=[54,4,34,312,121,3,4]\n",
    "\n",
    "if esistono2uguali(dateNum)==True:\n",
    "    print(\"Scommessa Vinta\")\n",
    "else:\n",
    "    print(\"Scommessa Persa\")\n"
   ]
  },
  {
   "cell_type": "markdown",
   "metadata": {},
   "source": [
    "Bene, ma non benissimo. Per prendere una decisione devo girare per le classi in modo da vedere quale è la probabilità. Esiste un modo per poterlo fare in maniera automatica? \n",
    "\n",
    "Per farlo posso usare quello che viene chiamato un Metodo Montecarlo, cioè usare un campionamento \"casuale\" per verificare delle proprietà.\n",
    "\n",
    "Per farlo possiamo usare un modulo di libreria chiamato `random` che espone delle funzionalità di generazione casuale di numeri. "
   ]
  },
  {
   "cell_type": "code",
   "execution_count": 4,
   "metadata": {},
   "outputs": [
    {
     "name": "stdout",
     "output_type": "stream",
     "text": [
      "225\n"
     ]
    }
   ],
   "source": [
    "import random \n",
    "\n",
    "#genero un numero casuale tra (min,max)\n",
    "giorno = random.randint(1,365)  \n",
    "\n",
    "print(giorno)\n"
   ]
  },
  {
   "cell_type": "markdown",
   "metadata": {},
   "source": [
    "Proviamo ora e generare una classe con compleanni casuali!"
   ]
  },
  {
   "cell_type": "code",
   "execution_count": 5,
   "metadata": {},
   "outputs": [
    {
     "name": "stdout",
     "output_type": "stream",
     "text": [
      "[17, 143, 118, 250, 103, 119, 239, 32, 168, 351, 83, 41, 360, 129, 290, 187, 246, 127, 240, 318, 69, 114, 27, 216, 77]\n"
     ]
    }
   ],
   "source": [
    "import random \n",
    "\n",
    "def randClass(size):\n",
    "    vect=[]\n",
    "    for i in range(size):\n",
    "        value = random.randint(1,365)\n",
    "        vect.append(value)\n",
    "    return vect\n",
    "\n",
    "print(randClass(25))\n"
   ]
  },
  {
   "cell_type": "markdown",
   "metadata": {},
   "source": [
    "Posso dunque ora verificare se nella classe ci sono 2 compleanni contemporanei."
   ]
  },
  {
   "cell_type": "code",
   "execution_count": 6,
   "metadata": {},
   "outputs": [
    {
     "name": "stdout",
     "output_type": "stream",
     "text": [
      "Scommessa Persa\n"
     ]
    }
   ],
   "source": [
    "\n",
    "classeCasuale=[]\n",
    "classeCasuale=randClass(25)\n",
    "\n",
    "if esistono2uguali(classeCasuale)==True:\n",
    "    print(\"Scommessa Vinta\")\n",
    "else:\n",
    "    print(\"Scommessa Persa\")\n",
    "    "
   ]
  },
  {
   "cell_type": "markdown",
   "metadata": {},
   "source": [
    "Come posso verificare in più classi se ho compleanni contemporanei?"
   ]
  },
  {
   "cell_type": "code",
   "execution_count": 8,
   "metadata": {},
   "outputs": [
    {
     "name": "stdout",
     "output_type": "stream",
     "text": [
      "Scommessa Persa\n",
      "Scommessa Vinta\n",
      "Scommessa Persa\n"
     ]
    }
   ],
   "source": [
    "\n",
    "classeCasuale=[]\n",
    "classeCasuale=randClass(25)\n",
    "\n",
    "if esistono2uguali(classeCasuale)==True:\n",
    "    print(\"Scommessa Vinta\")\n",
    "else:\n",
    "    print(\"Scommessa Persa\")\n",
    "    \n",
    "classeCasuale=randClass(25)\n",
    "if esistono2uguali(classeCasuale)==True:\n",
    "    print(\"Scommessa Vinta\")\n",
    "else:\n",
    "    print(\"Scommessa Persa\")\n",
    "    \n",
    "classeCasuale=randClass(25)\n",
    "if esistono2uguali(classeCasuale)==True:\n",
    "    print(\"Scommessa Vinta\")\n",
    "else:\n",
    "    print(\"Scommessa Persa\")\n",
    "    "
   ]
  },
  {
   "cell_type": "markdown",
   "metadata": {},
   "source": [
    "Bene ora posso calcolare anche la probabilità di avere 2 compleanni contemporanei in un numero arbirariamente grande di classi."
   ]
  },
  {
   "cell_type": "code",
   "execution_count": 9,
   "metadata": {},
   "outputs": [
    {
     "name": "stdout",
     "output_type": "stream",
     "text": [
      "0.568\n"
     ]
    }
   ],
   "source": [
    "\n",
    "tentativi = 10000\n",
    "scommessaVinta=0\n",
    "for i in range(tentativi):\n",
    "    vect = randClass(25)\n",
    "    if esistono2uguali(vect)==True:\n",
    "        scommessaVinta=scommessaVinta+1\n",
    "\n",
    "print(scommessaVinta/tentativi)\n"
   ]
  },
  {
   "cell_type": "markdown",
   "metadata": {},
   "source": [
    "Posso scoprire ora quale è il numero minimo di studenti che devo avere in classe per avere una probabilità maggiore del 50%?"
   ]
  },
  {
   "cell_type": "code",
   "execution_count": 10,
   "metadata": {},
   "outputs": [
    {
     "name": "stdout",
     "output_type": "stream",
     "text": [
      "15 0.2559\n",
      "16 0.2868\n",
      "17 0.3136\n",
      "18 0.3486\n",
      "19 0.383\n",
      "20 0.4117\n",
      "21 0.4472\n",
      "22 0.482\n",
      "23 0.5137\n",
      "il numero minimo di studenti per avere più del 50% di probabilità è: 23\n"
     ]
    }
   ],
   "source": [
    "\n",
    "tentativi = 10000\n",
    "for studenti in range(15,30):\n",
    "    scommessaVinta=0\n",
    "    for i in range(tentativi):\n",
    "        vect = randClass(studenti)\n",
    "        if esistono2uguali(vect)==True:\n",
    "            scommessaVinta=scommessaVinta+1\n",
    "    print(studenti, scommessaVinta/tentativi)\n",
    "    if (scommessaVinta/tentativi)>0.5:\n",
    "        break\n",
    "\n",
    "print(\"il numero minimo di studenti per avere più \\\n",
    "    del 50% di probabilità è: \" + str(studenti))\n"
   ]
  },
  {
   "cell_type": "markdown",
   "metadata": {},
   "source": [
    "Per facilità di comprensione riprendiamo tutto di fila e scriviamo il programma che data una classe di 25 studenti mi dice quale è la probabilità di avere due studenti con compleanno nello stesso giorno"
   ]
  },
  {
   "cell_type": "code",
   "execution_count": 11,
   "metadata": {},
   "outputs": [
    {
     "name": "stdout",
     "output_type": "stream",
     "text": [
      "Dammi la dimensione della classe: 25\n",
      "La probabilità di compleanni contemporanei è: 0.5714\n"
     ]
    }
   ],
   "source": [
    "import random \n",
    "\n",
    "#VERSIONE 1\n",
    "def esistono2uguali(mioVettore):\n",
    "    lunghezzaVettore = len(mioVettore)\n",
    "    for p1 in range(0,lunghezzaVettore):\n",
    "        for p2 in range(p1+1, lunghezzaVettore):\n",
    "            if mioVettore[p1]==mioVettore[p2]:\n",
    "                return True\n",
    "    return False\n",
    "\n",
    "def randClass(size):\n",
    "    vect=[]\n",
    "    for i in range(size):\n",
    "        value = random.randint(1,365)\n",
    "        vect.append(value)\n",
    "    return vect\n",
    "\n",
    "tentativi = 10000\n",
    "\n",
    "messaggio = \"Dammi la dimensione della classe: \"\n",
    "\n",
    "dimensioneClasse = int(input(messaggio))\n",
    "\n",
    "scommessaVinta=0\n",
    "for i in range(tentativi):\n",
    "    vect = randClass(dimensioneClasse)\n",
    "    if esistono2uguali(vect)==True:\n",
    "        scommessaVinta=scommessaVinta+1\n",
    "\n",
    "probabilita=scommessaVinta/tentativi\n",
    "print(\"La probabilità di compleanni contemporanei \\\n",
    "        è: \" + str(probabilita))"
   ]
  },
  {
   "cell_type": "code",
   "execution_count": null,
   "metadata": {},
   "outputs": [],
   "source": []
  }
 ],
 "metadata": {
  "kernelspec": {
   "display_name": "Python 3",
   "language": "python",
   "name": "python3"
  },
  "language_info": {
   "codemirror_mode": {
    "name": "ipython",
    "version": 3
   },
   "file_extension": ".py",
   "mimetype": "text/x-python",
   "name": "python",
   "nbconvert_exporter": "python",
   "pygments_lexer": "ipython3",
   "version": "3.6.4"
  }
 },
 "nbformat": 4,
 "nbformat_minor": 2
}
