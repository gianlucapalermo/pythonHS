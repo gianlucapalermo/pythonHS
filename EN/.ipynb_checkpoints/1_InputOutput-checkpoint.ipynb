{
 "cells": [
  {
   "cell_type": "markdown",
   "metadata": {},
   "source": [
    "# Input and Output in Python\n",
    "\n",
    "A simple view of a computer program is an object that receives data in input and, after a processing phase, produces data in output. Despite the processing phase is the most *interesting* part of the coding, the first step that we are going to take is to learn how we can pass data to a program (input) and how we can get back the result of a processing (output)."
   ]
  },
  {
   "cell_type": "markdown",
   "metadata": {},
   "source": [
    "Let's start from the **output**. In Python there exists a function called `print()` that is used to print something in output from a program. "
   ]
  },
  {
   "cell_type": "markdown",
   "metadata": {},
   "source": [
    "Here are some examples. Check the following cells and press *run* to see the effects of the examples. Try to guess the outcome it is not so difficult ;-)"
   ]
  },
  {
   "cell_type": "code",
   "execution_count": null,
   "metadata": {},
   "outputs": [],
   "source": [
    "print(\"CIAO\")"
   ]
  },
  {
   "cell_type": "markdown",
   "metadata": {},
   "source": [
    "WOW, Congratulation! You run your first Python code! Just one line, however it is a starting point.\n",
    "\n",
    "The function `print()` has been augmented with some text included in the parenthesis (*i.e. \"CIAO\"*). This added text is called *parameter* of the function. The function `print()` actually prints its parameter.\n",
    "\n",
    "Try the next one."
   ]
  },
  {
   "cell_type": "code",
   "execution_count": null,
   "metadata": {},
   "outputs": [],
   "source": [
    "print(5)"
   ]
  },
  {
   "cell_type": "markdown",
   "metadata": {},
   "source": [
    "I think your prediction about the outcome of this second line of code was correct, right?\n",
    "\n",
    "Actually, the behaviour we got is the same as before. The only difference we had is that we printed a number and not a string (a sequence of alpha-numeric characters). Maybe someone already noticed it. We used `print(5)` and not `print(\"5\")`. Is there any difference? the answer is YES. However, let us postpone this to a later discussion.\n",
    "\n",
    "Let's go for a more complicated parameter. What is the expected outcome of the following lines of code?"
   ]
  },
  {
   "cell_type": "code",
   "execution_count": null,
   "metadata": {},
   "outputs": [],
   "source": [
    "print( 5 + 10 )"
   ]
  },
  {
   "cell_type": "code",
   "execution_count": null,
   "metadata": {},
   "outputs": [],
   "source": [
    "print( 47 - 12 )"
   ]
  },
  {
   "cell_type": "code",
   "execution_count": null,
   "metadata": {},
   "outputs": [],
   "source": [
    "print( 15 / 2 )  "
   ]
  },
  {
   "cell_type": "code",
   "execution_count": null,
   "metadata": {},
   "outputs": [],
   "source": [
    "print( 9 * 4 )"
   ]
  },
  {
   "cell_type": "markdown",
   "metadata": {},
   "source": [
    "Very good! ... and now?!?!     :'("
   ]
  },
  {
   "cell_type": "code",
   "execution_count": null,
   "metadata": {},
   "outputs": [],
   "source": [
    "print( 2 ** 16 )"
   ]
  },
  {
   "cell_type": "code",
   "execution_count": null,
   "metadata": {},
   "outputs": [],
   "source": [
    "print( 37 // 3 )  "
   ]
  },
  {
   "cell_type": "code",
   "execution_count": null,
   "metadata": {},
   "outputs": [],
   "source": [
    "print( 37 % 3 ) "
   ]
  },
  {
   "cell_type": "markdown",
   "metadata": {},
   "source": [
    "Those are examples of mathematical operators that are defined in Python. We have the usual ones ( `* - + /` ) together with some other special operators. As an example, the two-stars `**` are used for the power operator, the *two-bars*  `\\\\` are used for the integer division, and the percentage `%` is used for collecting the reminder of the integer division."
   ]
  },
  {
   "cell_type": "markdown",
   "metadata": {},
   "source": [
    "**Comments** Python as all the programming languages uses a symbol to identify that there are some *comments* in the code. Comments are text in the code that are visible to the programmer but they are not executed by the machine. Comments are used to describe part of the code to have it easier to be understood in the future, or they are use to temporarly eliminate part of the code."
   ]
  },
  {
   "cell_type": "code",
   "execution_count": null,
   "metadata": {},
   "outputs": [],
   "source": [
    "# The following code prints the result of 3*9\n",
    "print(3*9)\n",
    "#print(\"CIAO!\")"
   ]
  },
  {
   "cell_type": "markdown",
   "metadata": {},
   "source": [
    "**Advanced Trick** If we want to print two numbers on the same line we can separate them by a comma."
   ]
  },
  {
   "cell_type": "code",
   "execution_count": null,
   "metadata": {},
   "outputs": [],
   "source": [
    "print( 17 , 8 )"
   ]
  },
  {
   "cell_type": "markdown",
   "metadata": {},
   "source": [
    "**Advanced Trick** If we want to print on the same line the content of two `print()` functions, we have add a parameter (separated by a comma) to the `print()` function. e.g. `end=\" \"`. The content inside the pair of quotation marks will be the separator between the two consecutive prints. "
   ]
  },
  {
   "cell_type": "code",
   "execution_count": null,
   "metadata": {},
   "outputs": [],
   "source": [
    "print( 17 , end=\" \")\n",
    "print( 8 )"
   ]
  },
  {
   "cell_type": "markdown",
   "metadata": {},
   "source": [
    "Up to now, we saw some examples of th usage of the function `print()`, and the usage of Python as a calculator."
   ]
  },
  {
   "cell_type": "markdown",
   "metadata": {},
   "source": [
    "Before continuing, let's introduce the concept of **variable**. *Variables* are a way of storing things in a computer program, and they can help you write useful programs.\n",
    "\n",
    "In computer programs, a variable can be seen as a labeled box where you store data (such as numbers, text, lists of numbers and text, and so on). The label of the *box* is defined as the name of the variable.\n",
    "\n",
    "The equal sign (`=`) is used to assigh a value to a variable. e.g. `myVar=100` means that the value 100 is now stored inside the *box* labeled as `myVar`.\n",
    "\n",
    "Differently from other programming languages, on Python there isn't a way to declare a variable without a value. Indeed, to create a variable we have to assigne a value to it.\n",
    "\n",
    "The name of the variable can be a whatever string of characters (A-Z, a-z, 0-9, \\_ ), with a unique limitation that it has to start with an alphabet letter (A-Z o a-z). No white spaces can be used for the name of a variable. If you want to use a complex name, composed by more than one words, the underscore (`_`) caracter can be used. e.g. `my_complicated_name`.\n",
    "\n",
    "The value assigned to a variable can be changed just by re-assigning a new value to the same variable.\n",
    "\n",
    "The content of a variable can be printed by just using the name of the variable as the parameter of the `print()` function. Pay attention that we do not have to use the quotation marks (`\" \"`) otherwise we are going to print the name of the variable instead of its content."
   ]
  },
  {
   "cell_type": "code",
   "execution_count": null,
   "metadata": {},
   "outputs": [],
   "source": [
    "myVar = 100\n",
    "print(myVar)"
   ]
  },
  {
   "cell_type": "markdown",
   "metadata": {},
   "source": [
    "Inside a variable, we can store a constant value declared in our program or the result of a calculation done inside the previous lines of code.\n",
    "\n",
    "Let's make an example! \n",
    "\n",
    "We want to calculate the area of a rectangle, knowing its lenght and width. We all know that to find the area of a rectangle we have to multiply the length by the width. The formula is: A = L * W where A is the area, L is the length and W is the width."
   ]
  },
  {
   "cell_type": "code",
   "execution_count": null,
   "metadata": {},
   "outputs": [],
   "source": [
    "lenght = 4\n",
    "width = 3\n",
    "area = lenght * width\n",
    "print(area)"
   ]
  },
  {
   "cell_type": "markdown",
   "metadata": {},
   "source": [
    "Great! ... however, this code it is still a fixed value calculator. How can I generalize the code for calculating the area of the rectangle with different values of the width and lenght? \n",
    "\n",
    "It's now time to start understanding how it is possible to provide data in **input** to a Python program. \n",
    "\n",
    "In Python there exists a function called `input()` that is used to read something in input to a program. This Python function reads a single line of text, as a String.\n",
    "\n",
    "Let's see an example:"
   ]
  },
  {
   "cell_type": "code",
   "execution_count": null,
   "metadata": {},
   "outputs": [],
   "source": [
    "text = input() \n",
    "print(text)"
   ]
  },
  {
   "cell_type": "markdown",
   "metadata": {},
   "source": [
    "The first line of this example uses input to store something typed on the keyboard, as the variable `text`. The variable text is then re-printed in output. \n",
    "\n",
    "Great. Can we do something more intereseint than what we did up to now? Of course!\n",
    "\n",
    "The function `input()` has the possibility to have parameters, as we already saw for the `print()` function. The string we add as parameter will be display before asking for the data in input.\n",
    "\n",
    "The following program asks the name of the user and greets him/her."
   ]
  },
  {
   "cell_type": "code",
   "execution_count": null,
   "metadata": {},
   "outputs": [],
   "source": [
    "name = input(\"What is your name? \") \n",
    "print(\"Ciao \" + name + \"! Welcome to the CODING course!\")"
   ]
  },
  {
   "cell_type": "markdown",
   "metadata": {},
   "source": [
    "To better understand the previous code, we have to start discussing the fact that the `+` operator that we normally use for numbers works differently for strings. In particular, if we sum two strings, the result is a concatenation of the two.\n",
    "\n",
    "    i.e. \"Gian\" + \"luca\" => \"Gianluca\"\n",
    "\n",
    "Another example inspired by the previous one is the one following:"
   ]
  },
  {
   "cell_type": "code",
   "execution_count": null,
   "metadata": {},
   "outputs": [],
   "source": [
    "subject = input(\"What is your preferred school subject?\")\n",
    "print(subject + \" is nice. However, CONDING is much much better\")"
   ]
  },
  {
   "cell_type": "markdown",
   "metadata": {},
   "source": [
    "**Advanced Trick** For both the previous examples you noticed that if you don't write the first letter as capital letter, the program doesn't do it for you. It exists a simple function associated to a string variable that can be used to do it: `variable_name.title()`. When a function is associated to a variable (called *method*), it will be concatenated to the variable name using a dot."
   ]
  },
  {
   "cell_type": "code",
   "execution_count": null,
   "metadata": {},
   "outputs": [],
   "source": [
    "name = input(\"What is your name? \") \n",
    "print(\"Ciao \" + name.title() )"
   ]
  },
  {
   "cell_type": "markdown",
   "metadata": {},
   "source": [
    "We can now use the `input()` function to generalize the data in our Python area calculator. \n",
    "\n",
    "Before doing this, lets try to read two values in input and let's sum their values. Is the outcome expected? "
   ]
  },
  {
   "cell_type": "code",
   "execution_count": null,
   "metadata": {},
   "outputs": [],
   "source": [
    "a = input(\"Give me the value for 'a': \")\n",
    "b = input(\"Give me the value for 'b': \")\n",
    "s = a + b\n",
    "print(s)"
   ]
  },
  {
   "cell_type": "markdown",
   "metadata": {},
   "source": [
    "Really!?!? What's wrong? \n",
    "\n",
    "*Remember, a program always does what you wrote to do.* \n",
    "\n",
    "The error is that the program does not sum two numbers. It \"sums\" two strings. Thus, it concatenates the two variables received in input. Do you know why? Well, everything is due to the `input()` function. As written before, the `input()` function *reads a single line of text, as a String* (sequence of characters).\n",
    "\n",
    "Despite the string is actually composed by a number only, Python doesn't know it and uses it as a string and not as a number. Numbers and string variables are different in Python and the operators implements different data manipulation actions.\n",
    "\n",
    "In Python all the values are called objects. Each object is associated to a certain \"data type\". Some examples: the number 2 is associated to a type called *integer* (`int` in Python); The string \"CODING\" is associated to a data type called *string* (`str` in Python); A number with the decimal part (e.g. 7.58) is associate to a data type called *floating point* (`float` in Python).\n",
    "\n",
    "The type of object characterizes not only the value that is stored inside the variable, but also the possible data manipulations associated to operators (that somethime can also not be valid). As an example, `5+7=12` while `\"5\"+\"7\"=\"57\"` as we noticed already; or `4*3=12` while `\"4\"*\"3\"=???`, lets run the next program to better understand."
   ]
  },
  {
   "cell_type": "code",
   "execution_count": null,
   "metadata": {},
   "outputs": [],
   "source": [
    "a = \"5\"\n",
    "b = \"7\"\n",
    "print( a * b )"
   ]
  },
  {
   "cell_type": "markdown",
   "metadata": {},
   "source": [
    "**Advanced Trick** To rapresent a string we can use both `\"...\"` or `'...'`. This is due to the fact that in this way we can also use the two types of quotation marks (single and double) inside the string. Moreover, it can happen that both single and double quotation are used in a string. In this case, we can use a third option composed by a triplet of quotation marks `'''...'''`."
   ]
  },
  {
   "cell_type": "markdown",
   "metadata": {},
   "source": [
    "Given that the `input()` function takes a string as input, how can I acquire a numeric data inside my program?\n",
    "\n",
    "Python adopts type transformation functions to convert an object from one data type to another. This operation is usually called **cast**.\n",
    "\n",
    "To tranform a string including a number into an integer, we can use the Python function `int()`. The parameter of the function `int()` will be then converted in integer. As an example, `int(\"23\")` returns the value 23 starting from the string \"23\".\n",
    "\n",
    "Knowing this, we can calculate the previous sum, while receiving the data in input. To do so, the `input()` function will be wrapped by the `int()` function."
   ]
  },
  {
   "cell_type": "code",
   "execution_count": null,
   "metadata": {},
   "outputs": [],
   "source": [
    "a_str = input(\"Give me the value for 'a': \")\n",
    "a = int(a_str)\n",
    "# or more compacted\n",
    "b = int(input(\"Give me the value for 'b': \"))\n",
    "s = a + b\n",
    "print(s)"
   ]
  },
  {
   "cell_type": "markdown",
   "metadata": {},
   "source": [
    "It is now arrived the moment of taking the width and the lenght of the rectangle by using the `input()` function! Modifichiamo il seguente codice in modo da calcolare l'area di un rettangolo presi in ingresso i valori dei due lati."
   ]
  },
  {
   "cell_type": "code",
   "execution_count": null,
   "metadata": {},
   "outputs": [],
   "source": [
    "lenght = int(input(\"Lenght: \"))\n",
    "width = int(input(\"Width: \"))\n",
    "area = lenght * width\n",
    "print(area)"
   ]
  },
  {
   "cell_type": "markdown",
   "metadata": {},
   "source": [
    "Last step. Let's improve the output visualization. \n",
    "\n",
    "The golden rule mentioning that we cannot sum pears and apples is valid also in Python. Try the next example:"
   ]
  },
  {
   "cell_type": "code",
   "execution_count": null,
   "metadata": {},
   "outputs": [],
   "source": [
    "print(\"Gianluca\"+77)"
   ]
  },
  {
   "cell_type": "markdown",
   "metadata": {},
   "source": [
    "The problem is that here we are trying to sum a string and an integer value (77 is without the quotation mark). The `print()` function is able to print integers and to print strings. It cannot print a mix of the two, unless you *convert* part of the data in the other format.\n",
    "\n",
    "Also in this case, we can use the cast function on the opposite direction. Thus, to transform an integer type in a string type (i.e. 77 -> \"77\"). In this way, we can sum two strings and concatenate them. To transform a number in a string we have to use the related Python cust function  `str()`."
   ]
  },
  {
   "cell_type": "code",
   "execution_count": null,
   "metadata": {},
   "outputs": [],
   "source": [
    "print(\"Gianluca\"+str(77))"
   ]
  },
  {
   "cell_type": "markdown",
   "metadata": {},
   "source": [
    "Let's finalize the program calculating the area of a rectangle once received the width and lenght.\n",
    "What do you think about the following program?"
   ]
  },
  {
   "cell_type": "code",
   "execution_count": null,
   "metadata": {},
   "outputs": [],
   "source": [
    "print(\" *** This program calculates the area of a rectangle, while starting from the width and lenght values ***\")\n",
    "lenght = int(input(\"Rectangle lenght: \"))\n",
    "width = int(input(\"Rectangle width: \"))\n",
    "area = lenght * width\n",
    "print(\"The area of the rectangle is: \" + str(area))"
   ]
  },
  {
   "cell_type": "markdown",
   "metadata": {},
   "source": [
    "**WOW! This is the end of the first lesson... You have the minimum knowledge to make the related exercises!**"
   ]
  }
 ],
 "metadata": {
  "kernelspec": {
   "display_name": "Python 3",
   "language": "python",
   "name": "python3"
  },
  "language_info": {
   "codemirror_mode": {
    "name": "ipython",
    "version": 3
   },
   "file_extension": ".py",
   "mimetype": "text/x-python",
   "name": "python",
   "nbconvert_exporter": "python",
   "pygments_lexer": "ipython3",
   "version": "3.6.4"
  }
 },
 "nbformat": 4,
 "nbformat_minor": 2
}
