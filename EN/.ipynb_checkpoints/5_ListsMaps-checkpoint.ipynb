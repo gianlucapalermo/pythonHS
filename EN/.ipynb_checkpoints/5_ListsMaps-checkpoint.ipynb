{
 "cells": [
  {
   "cell_type": "markdown",
   "metadata": {},
   "source": [
    "# Lists\n",
    "In Python, the *list* is a data structures, which is used to store multiple data (typically of the same type) as a sequence of values. In other languages, this type of data structure is also called *array*.\n",
    "Each element in the sequence is assigned to a number - its position or index. The first index is zero, the second index is one, and so forth.\n",
    "\n",
    "The initializzation of a list can be done by writing a set of comma-separated values (items) between square brackets.\n"
   ]
  },
  {
   "cell_type": "code",
   "execution_count": null,
   "metadata": {},
   "outputs": [],
   "source": [
    "myList =[\"frog\", \"cat\", \"spider\"]\n",
    "print(myList)"
   ]
  },
  {
   "cell_type": "markdown",
   "metadata": {},
   "source": [
    "The list is also widely used togeter with the *for-loop*. \n",
    "The previous example shown as printing a list means printing the entire set of value, including the square brackets and commas.\n",
    "However, there is an easy way to print one-by-one all the element in a list by using the for-loop."
   ]
  },
  {
   "cell_type": "code",
   "execution_count": null,
   "metadata": {},
   "outputs": [],
   "source": [
    "myList =[\"frog\", \"cat\", \"spider\"]\n",
    "for i in myList:\n",
    "    print(i)"
   ]
  },
  {
   "cell_type": "markdown",
   "metadata": {},
   "source": [
    "To *access values in lists*, it is necessary to use the name of the list and the square brackets including the index/position of the value in the list. This is valid both for reading and writing one of the element in the list. \n",
    "\n",
    "*Pay attention that the first element of a list is in position 0, while the last element is in position \"number of elements\" -1*. \n",
    "\n",
    "For example:"
   ]
  },
  {
   "cell_type": "code",
   "execution_count": null,
   "metadata": {},
   "outputs": [],
   "source": [
    "myList =[\"frog\", \"cat\", \"spider\"]\n",
    "print(\"Position 0 (1st element): \" + myList[0])\n",
    "print(\"Position 1 (2nd element): \" + myList[1])\n",
    "print(\"Position 2 (3rd element): \" + myList[2])"
   ]
  },
  {
   "cell_type": "code",
   "execution_count": null,
   "metadata": {},
   "outputs": [],
   "source": [
    "myList =[\"frog\", \"cat\", \"spider\"]\n",
    "# The element in position 1 is modified\n",
    "myList[1] = \"dog\"\n",
    "print(\"Position 0 (1st element): \" + myList[0])\n",
    "print(\"Position 1 (2nd element): \" + myList[1])\n",
    "print(\"Position 2 (3rd element): \" + myList[2])"
   ]
  },
  {
   "cell_type": "markdown",
   "metadata": {},
   "source": [
    "Obviously a list can be composed also by numbers."
   ]
  },
  {
   "cell_type": "code",
   "execution_count": null,
   "metadata": {},
   "outputs": [],
   "source": [
    "my2ndList = [66, 32, 1, 5, 1092]\n",
    "print(my2ndList)\n",
    "print(\"The first element of the list is: \" + str(my2ndList[0]))"
   ]
  },
  {
   "cell_type": "markdown",
   "metadata": {},
   "source": [
    "Using the single element access is also possible to print all elements in the list using a different approach. In particular, the idea is to iterate over the positions/index instead of over the element. "
   ]
  },
  {
   "cell_type": "code",
   "execution_count": null,
   "metadata": {},
   "outputs": [],
   "source": [
    "myList =[\"frog\", \"cat\", \"spider\"]\n",
    "for i in range(3):\n",
    "    print(myList[i])"
   ]
  },
  {
   "cell_type": "markdown",
   "metadata": {},
   "source": [
    "In the previous example we had to explicitly mention the size of the list (3 elements) to tune the parameter of the range function. This can be also done more simply using a function that returns the size of a list: `len(myList)`. "
   ]
  },
  {
   "cell_type": "code",
   "execution_count": null,
   "metadata": {},
   "outputs": [],
   "source": [
    "myList =[\"frog\", \"cat\", \"spider\"]\n",
    "for i in range(len(myList)):\n",
    "    print(myList[i])"
   ]
  },
  {
   "cell_type": "markdown",
   "metadata": {},
   "source": [
    "**Advanced Trick** There is also the possibility to print a slice of the list and not only the entire list or one single element. The way is the same as accessing a single value, where instead of a single value inside a brackets there are two values separated by a colon sign. The two numbers represent the minimum and maximum (excluded) index number inside the list."
   ]
  },
  {
   "cell_type": "code",
   "execution_count": null,
   "metadata": {},
   "outputs": [],
   "source": [
    "my2ndList = [66, 32, 1, 5, 1092]\n",
    "print(my2ndList[2:4])"
   ]
  },
  {
   "cell_type": "markdown",
   "metadata": {},
   "source": [
    "The lists can be dynamically updated not only in the value of each element but also in the size. \n",
    "You can *add* an element in a list with the `append()` method. The new element will be added at the end of the list as the last element.\n",
    "The append method is a *particular function* associated to the list. To use it we have to specify the name of the list and the name of the method separated by a dot. i.e `myList.append(newElement)`."
   ]
  },
  {
   "cell_type": "code",
   "execution_count": null,
   "metadata": {},
   "outputs": [],
   "source": [
    "myList = [\"frog\", \"cat\", \"spider\"]\n",
    "newElement = \"dog\"\n",
    "myList.append(newElement)\n",
    "print(myList)"
   ]
  },
  {
   "cell_type": "markdown",
   "metadata": {},
   "source": [
    "To *remove* an element from a list we have 2 different possibilities:\n",
    "\n",
    "1. The first one is intuitive and requires to put before the element that you want to remove the keyword `del`: e.g. `del myList[2]` \n",
    "2. The second one is similar to the *append* method, and it is a method called `pop()`. This method that is associated to the particular list requires as parameter the position/index of the element to delete: e.g. `myList.pop(2)` "
   ]
  },
  {
   "cell_type": "code",
   "execution_count": null,
   "metadata": {},
   "outputs": [],
   "source": [
    "myList = [\"frog\", \"cat\", \"spider\", \"dog\"]\n",
    "print(myList)\n",
    "del myList[2]\n",
    "print(myList)"
   ]
  },
  {
   "cell_type": "code",
   "execution_count": null,
   "metadata": {},
   "outputs": [],
   "source": [
    "myList = [\"frog\", \"cat\", \"spider\", \"dog\"]\n",
    "print(myList)\n",
    "myList.pop(2)\n",
    "print(myList)"
   ]
  },
  {
   "cell_type": "markdown",
   "metadata": {},
   "source": [
    "**Advanced Trick** It is possible to add an element in a list in a whathever position you want using the method `insert(position,element)`. This method inserts a new *element* in a sepcified *position*, increasing the index of all the elements starting from *position* by one."
   ]
  },
  {
   "cell_type": "code",
   "execution_count": null,
   "metadata": {},
   "outputs": [],
   "source": [
    "myList = [\"frog\", \"cat\", \"spider\"]\n",
    "newElement = \"dog\"\n",
    "print(myList)\n",
    "print(\"Position 2 (3nd element): \" + myList[2])\n",
    "myList.insert(1, newElement)\n",
    "print(\"***\")\n",
    "print(myList)\n",
    "print(\"Position 2 (3nd element): \" + myList[2])"
   ]
  },
  {
   "cell_type": "markdown",
   "metadata": {},
   "source": [
    "Also on the lists it is defined a small \"arithmetic\" by using the classical operators, such as + or \\*. As examples, we can use the summ operator (`+`) to concatenate two lists and the multiplication (`*`) operator by a constant to replicate the content of a list."
   ]
  },
  {
   "cell_type": "code",
   "execution_count": null,
   "metadata": {},
   "outputs": [],
   "source": [
    "myList1 = ['a', 'b', 'c']\n",
    "myList2 = ['e', 'f', 'g']\n",
    "myList3 = myList1 + myList2\n",
    "print(myList3)\n",
    "myList4 = myList1*3\n",
    "print(myList4)"
   ]
  },
  {
   "cell_type": "markdown",
   "metadata": {},
   "source": [
    "To check if an element belongs to a list you can use the `in` or `not in` operations. The `in` operation checks whether an item in the list and returns True or False accordingly. While `not in` checks if an element there is not. Its answer is the opposite of `in`. Actually, `myElement not in myList` is equivalent to `not (myElement in myList)`."
   ]
  },
  {
   "cell_type": "code",
   "execution_count": null,
   "metadata": {},
   "outputs": [],
   "source": [
    "myList = [56, 76, 33, 56]\n",
    "print(56 in myList)\n",
    "print(14 in myList)\n",
    "print(14 not in myList)"
   ]
  },
  {
   "cell_type": "code",
   "execution_count": null,
   "metadata": {},
   "outputs": [],
   "source": [
    "myList = [56, 76, 33, 56]\n",
    "number = int(input(\"Give me a number: \"))\n",
    "if number in myList:\n",
    "    print(\"The number is in the list\")\n",
    "else:\n",
    "    print(\"The number is not in the list\")"
   ]
  },
  {
   "cell_type": "markdown",
   "metadata": {},
   "source": [
    "There are other methods that you can use on a list. To know them, you can type `help([])`. Some of them are here in the following code:"
   ]
  },
  {
   "cell_type": "code",
   "execution_count": null,
   "metadata": {},
   "outputs": [],
   "source": [
    "myList = [56, 76, 33, 56]\n",
    "\n",
    "#Duplicate the list\n",
    "newList=myList\n",
    "print(newList)"
   ]
  },
  {
   "cell_type": "code",
   "execution_count": null,
   "metadata": {},
   "outputs": [],
   "source": [
    "myList = [56, 76, 33, 56]\n",
    "\n",
    "#Sort of all the element in the list\n",
    "myList.sort()\n",
    "print(myList)"
   ]
  },
  {
   "cell_type": "code",
   "execution_count": null,
   "metadata": {},
   "outputs": [],
   "source": [
    "myList = [56, 76, 33, 56]\n",
    "\n",
    "#Reverse the elements in the list\n",
    "myList.reverse()\n",
    "print(myList)"
   ]
  },
  {
   "cell_type": "code",
   "execution_count": null,
   "metadata": {},
   "outputs": [],
   "source": [
    "myList = [56, 76, 33, 56]\n",
    "\n",
    "#Count how many time there is the element 56\n",
    "print(myList.count(56))"
   ]
  },
  {
   "cell_type": "code",
   "execution_count": null,
   "metadata": {},
   "outputs": [],
   "source": [
    "myList = [56, 76, 33, 56]\n",
    "\n",
    "#Remove the first instance of an element from the list\n",
    "myList.remove(76)\n",
    "print(myList)\n",
    "myList.remove(56)\n",
    "print(myList)"
   ]
  },
  {
   "cell_type": "markdown",
   "metadata": {},
   "source": [
    "**Advanced Trick** Despite a string is not a list, we can use the square brackets to access to each character of the string. i.e. to access to the first character of the variable `name`, we can use `name[0]`."
   ]
  },
  {
   "cell_type": "code",
   "execution_count": null,
   "metadata": {},
   "outputs": [],
   "source": [
    "name = \"Gianluca\"\n",
    "print(name[0])\n",
    "print(name[5])"
   ]
  },
  {
   "cell_type": "markdown",
   "metadata": {},
   "source": [
    "As for the lists, also the strings have methods that can be used to manipulate or analize the content of that type of variable. The list of methods can be obtained by typing `help(\"\")`. \n",
    "As an example take a look to the following program!"
   ]
  },
  {
   "cell_type": "code",
   "execution_count": null,
   "metadata": {},
   "outputs": [],
   "source": [
    "age=input(\"How old are you? \")\n",
    "if (age.isnumeric()):\n",
    "    if int(age)>30: \n",
    "        print(\"You are too old!\")\n",
    "    elif int(age)<15: \n",
    "        print(\"You are too young!\")\n",
    "    else: \n",
    "        print(\"You are ok!\")\n",
    "else: \n",
    "    print(\"Your age should be an integer number!\")"
   ]
  },
  {
   "cell_type": "markdown",
   "metadata": {},
   "source": [
    "The operation `in` or `not in` that we saw for the lists are valid also considering the characters in a string"
   ]
  },
  {
   "cell_type": "code",
   "execution_count": null,
   "metadata": {},
   "outputs": [],
   "source": [
    "name = \"Gianluca\"\n",
    "letter = input(\"Give me one letter: \")\n",
    "if letter in name:\n",
    "    print(\"The letter is in the hidden name!\")\n",
    "else:\n",
    "    print(\"The letter is NOT in the hidden name!\")"
   ]
  },
  {
   "cell_type": "markdown",
   "metadata": {},
   "source": [
    "# Maps\n",
    "The lists are a set of numbered elements. To refer to any item in the list, you have to specify its position/index. Using numbers to refer to the elements is a viable solution but it is not always the most convinient.\n",
    "\n",
    "A different approach is the one used by the Python *maps*. In Python, a map (also referred to as a dict, short for dictionary) is a collection of elements where each element is characterized by a *key* and the corresponding *value*. Some thime this structure is called associative array, because a specific value is accessed by using its key.\n",
    "\n",
    "To better understand the power of the maps, lets see the following example where I'm storing some of the information from my ID card. First of all, I'm going to use a classical list, then I'm going to use a *map*."
   ]
  },
  {
   "cell_type": "code",
   "execution_count": null,
   "metadata": {},
   "outputs": [],
   "source": [
    "GP_idCard=[\"Gianluca\", \"Palermo\", \"41\", \"Milano\" ]\n",
    "print(GP_idCard[0] + \" is born in \" + GP_idCard[3])"
   ]
  },
  {
   "cell_type": "markdown",
   "metadata": {},
   "source": [
    "Let's use now the *maps*. In maps, we use colons to separate each key from its value. Overall the items in a map are surrounded by braces `{ }`."
   ]
  },
  {
   "cell_type": "code",
   "execution_count": null,
   "metadata": {},
   "outputs": [],
   "source": [
    "GP_idCard = {\"name\":\"Gianluca\", \"surname\":\"Palermo\", \"age\":\"1977\", \"place\":\"Milano\" }\n",
    "print(GP_idCard[\"name\"] + \" is born in \" + GP_idCard[\"place\"])\n",
    "\n",
    "# age 1977 ?!?!?!\n",
    "GP_idCard[\"age\"]=41\n",
    "print(GP_idCard)"
   ]
  },
  {
   "cell_type": "markdown",
   "metadata": {},
   "source": [
    "What does it happen if the order of the element stored on both `GP_idCard` change? If we use the map, we do not need to modify the rest of the code since the order of the elements does not impact the *key-value* pairs.\n",
    "\n",
    "Similar to the lists, to check if there is an element with a specific *key* belongs to a dictionary, we can use the operations *in* and *not in*."
   ]
  },
  {
   "cell_type": "code",
   "execution_count": null,
   "metadata": {},
   "outputs": [],
   "source": [
    "GP_idCard = {\"name\":\"Gianluca\", \"surname\":\"Palermo\", \"age\":\"41\", \"place\":\"Milano\" }\n",
    "\n",
    "print(\"name\" in GP_idCard)\n",
    "print(\"street\" in GP_idCard)"
   ]
  },
  {
   "cell_type": "markdown",
   "metadata": {},
   "source": [
    "To add a new item to the dictionary you just need to assign it with a new *key* and its related value."
   ]
  },
  {
   "cell_type": "code",
   "execution_count": null,
   "metadata": {},
   "outputs": [],
   "source": [
    "GP_idCard = {\"name\":\"Gianluca\", \"surname\":\"Palermo\", \"age\":\"41\", \"place\":\"Milano\" }\n",
    "\n",
    "GP_idCard[\"color\"]=\"red\"\n",
    "print(GP_idCard)"
   ]
  },
  {
   "cell_type": "markdown",
   "metadata": {},
   "source": [
    "To remove an item from the dictionary you can use the `del` keyword before the item. \n",
    "As for the lists, another way to remove an item from the dictionary is by using the method pop."
   ]
  },
  {
   "cell_type": "code",
   "execution_count": null,
   "metadata": {},
   "outputs": [],
   "source": [
    "GP_idCard = {\"name\":\"Gianluca\", \"surname\":\"Palermo\", \"age\":\"41\", \"place\":\"Milano\" }\n",
    "print(GP_idCard)\n",
    "del GP_idCard[\"age\"]\n",
    "print(GP_idCard)\n",
    "GP_idCard.pop(\"surname\")\n",
    "print(GP_idCard)"
   ]
  },
  {
   "cell_type": "markdown",
   "metadata": {},
   "source": [
    "Finally, to iterate over all the element of a map/dictionary, the usual for loop can be used as follows"
   ]
  },
  {
   "cell_type": "code",
   "execution_count": null,
   "metadata": {},
   "outputs": [],
   "source": [
    "GP_idCard = {\"name\":\"Gianluca\", \"surname\":\"Palermo\", \"age\":\"41\", \"place\":\"Milano\" }\n",
    "\n",
    "for i in GP_idCard:\n",
    "    print(\"Key=\" + i + \" - Value=\" + GP_idCard[i])"
   ]
  }
 ],
 "metadata": {
  "kernelspec": {
   "display_name": "Python 3",
   "language": "python",
   "name": "python3"
  },
  "language_info": {
   "codemirror_mode": {
    "name": "ipython",
    "version": 3
   },
   "file_extension": ".py",
   "mimetype": "text/x-python",
   "name": "python",
   "nbconvert_exporter": "python",
   "pygments_lexer": "ipython3",
   "version": "3.6.4"
  }
 },
 "nbformat": 4,
 "nbformat_minor": 2
}
