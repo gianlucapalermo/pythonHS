{
 "cells": [
  {
   "cell_type": "markdown",
   "metadata": {},
   "source": [
    "# 1.1 - Esercizio: Somma di tre numeri\n",
    "Scrivi un programma che prende tre numeri e ne stampi la somma.\n",
    "    \n",
    "Ricorda: \n",
    "\n",
    "    Per leggere in ingresso puoi usare la funzione input() e per stampare il risultato la funzione print().\n",
    "  "
   ]
  },
  {
   "cell_type": "code",
   "execution_count": null,
   "metadata": {},
   "outputs": [],
   "source": [
    "# Inserisci qui la soluzione\n",
    "# Cambia questo programma per soddisfare la consegna\n",
    "\n",
    "a = int(input())\n",
    "b = int(input())\n",
    "c = int(input())\n",
    "print(a + b + c)\n"
   ]
  },
  {
   "cell_type": "markdown",
   "metadata": {},
   "source": [
    "# 1.2 - Esercizio: Quadrato di un numero\n",
    "Scrivi un programma che prende un numero e ne stampi il suo quadrato. Usa due modi diversi per fare la stessa cosa.\n",
    "\n",
    "Ricorda: \n",
    "\n",
    "    Il simbolo ** è usato per l'elevamento a potenza"
   ]
  },
  {
   "cell_type": "code",
   "execution_count": null,
   "metadata": {},
   "outputs": [],
   "source": [
    "# Inserisci qui la soluzione\n",
    "\n",
    "a = int(input())\n",
    "print(a*a)\n",
    "print(a**2)\n"
   ]
  },
  {
   "cell_type": "markdown",
   "metadata": {},
   "source": [
    "# 1.3 - Esercizio: Area di un triangolo rettangolo\n",
    "Scrivi un programma che legge in ingresso la lunghezza della base e dell'altezza di un triangolo rettangolo e ne calcoli l'area. "
   ]
  },
  {
   "cell_type": "code",
   "execution_count": null,
   "metadata": {},
   "outputs": [],
   "source": [
    "# Inserisci qui la soluzione\n",
    "\n",
    "base = int(input())\n",
    "altezza = int(input())\n",
    "print((base*altezza)/2)\n"
   ]
  },
  {
   "cell_type": "markdown",
   "metadata": {},
   "source": [
    "\n",
    "# 1.4 - Esercizio: Buongiorno Gianluca!"
   ]
  },
  {
   "cell_type": "markdown",
   "metadata": {},
   "source": [
    "Scrivi un programma che saluta una persona usando la parola \"Buongiorno\" e il nome della persona. Usa gli esempi qui sotto come esempi di ingresso uscita.\n",
    "\n",
    "Ricorda: \n",
    "    \n",
    "        L'operatore + è usato per concatenare 2 stringhe.\n",
    "\n",
    "Per esempi:\n",
    "\n",
    "    Input: Gianluca\n",
    "    Output: Buongiorno Gianluca\n",
    "    \n",
    "    Input: Angela\n",
    "    Output: Buongiorno Angela\n",
    "    \n",
    "    Input: Prof. DiPietro\n",
    "    Output: Buongiorno Prof. DiPietro\n"
   ]
  },
  {
   "cell_type": "code",
   "execution_count": null,
   "metadata": {},
   "outputs": [],
   "source": [
    "# Inserisci qui la soluzione\n",
    "\n",
    "print(\"Come ti chiami?\")\n",
    "nome = input()\n",
    "printf(\"Buongiorno \" + nome)\n"
   ]
  },
  {
   "cell_type": "markdown",
   "metadata": {},
   "source": [
    "Modifica la precedente versione dell'esercizio aggiungendo dopo il nome un punto esclamativo.\n",
    "\n",
    "Esempio:\n",
    "\n",
    "    Input: Gianluca\n",
    "    Output: Buongiorno Gianluca!"
   ]
  },
  {
   "cell_type": "code",
   "execution_count": null,
   "metadata": {},
   "outputs": [],
   "source": [
    "# Inserisci qui la soluzione\n",
    "\n",
    "print(\"Come ti chiami?\")\n",
    "nome = input()\n",
    "printf(\"Buongiorno \" + nome + \"!\")\n"
   ]
  },
  {
   "cell_type": "markdown",
   "metadata": {},
   "source": [
    "# 1.5 - Esercizio: Il cesto di mele\n",
    "N studenti prendono K mele da un cesto e se le distribuiscono in maniera uguale. Le mele rimnenti rimangono nel cesto. Quante mele ha ogni studente? Quante mele rimangono nel cesto?\n",
    "\n",
    "Si scriva un programma che legge i numeri N e K e stampi le risposte alle 2 domande poste qui sopra.\n",
    "\n",
    "Ricorda: \n",
    "\n",
    "    E' possibile convertire una stringa in intero usando la funzione int()\n",
    "    Il simbolo / è usato per la divisione\n",
    "    Il simbolo // è usato per la divisione intera\n",
    "    Il simbolo % è usato per ottenere il resto di una divisione intera"
   ]
  },
  {
   "cell_type": "code",
   "execution_count": null,
   "metadata": {},
   "outputs": [],
   "source": [
    "# Inserisci qui la soluzione\n",
    "\n",
    "N_studenti = int(input())\n",
    "K_mele = int(input())\n",
    "\n",
    "print(K_mele//N_studenti)\n",
    "print(K_mele%N_studenti)\n"
   ]
  },
  {
   "cell_type": "markdown",
   "metadata": {},
   "source": [
    "Usare Python come una calcolatrice è divertente ma è giunto anche il momento di incominciare a pensare all'interazione con la macchina in maniera più piacevole.\n",
    "\n",
    "Ad esempio, prima di inserire i numeri nel precedente esercizio per le mele o per gli studenti, all'utente viene posta la domanda relativa: \"Quante mele ci sono nel cesto?\", \"Quanti studenti ci sono in aula?\".\n",
    "\n",
    "Lo stesso vale per la soluzione al problema della divisione delle mele: \"Le mele per ogni studente sono X\", \"Le mele rimaste nel cesto sono Y\".\n",
    "\n",
    "Ricorda: \n",
    "    \n",
    "    E' possibile convertire un numero in stringa usando la funzione str()"
   ]
  },
  {
   "cell_type": "code",
   "execution_count": null,
   "metadata": {},
   "outputs": [],
   "source": [
    "# Inserisci qui la soluzione\n",
    "\n",
    "print(\"Quanti studenti ci sono?\")\n",
    "N_studenti = int(input())\n",
    "print(\"Quante mele ci sono?\")\n",
    "K_mele = int(input())\n",
    "\n",
    "print(\"Ogni studente avrà \" + str(K_mele//N_studenti) + \"mele\")\n",
    "print(\"Rimarranno \"+ str(K_mele%N_studenti) + \"mele nel cesto\")\n",
    "\n",
    "\n",
    "\n"
   ]
  },
  {
   "cell_type": "markdown",
   "metadata": {},
   "source": [
    "# 1.6 - Esercizio: Numero più numero meno\n",
    "Scrivere un programma che legge un numero intero e stampa il numero precedente e il numero successivo a quello dato.\n",
    "Considerando X il valore letto, il programma deve scrivere \"Il numero precedente a X è X-1\", \"Il numero successivo di X è X+1\"."
   ]
  },
  {
   "cell_type": "code",
   "execution_count": null,
   "metadata": {},
   "outputs": [],
   "source": [
    "# Inserisci qui la soluzione\n",
    "\n",
    "a= int(input())\n",
    "\n",
    "print(\"il numero precedente a \" + str(a) + \" è \" + str(a-1))\n",
    "print(\"il numero successivo a \" + str(a) + \" è \" + str(a+1))\n"
   ]
  },
  {
   "cell_type": "markdown",
   "metadata": {},
   "source": [
    "# Esercizio Riassuntivo: Banchi di scuola\n",
    "\n",
    "Una scuola ha deciso di sostituire i banchi in 3 classi. In ognuno dei banchi si possono sedere 2 studenti. Dato il numero di studenti in ogni classe, stampare il minor numero di banchi che la scuola deve comprare in tutto.\n",
    "\n",
    "Il programma deve leggere il nome della scuola e 3 numeri rappresentanti il numero di studenti per ogni classe e deve stampare in uscita il nome della scuola e quanti banchi in totale: \"La scuola YYY deve comprare ZZZ banchi nuovi\": \n",
    "\n",
    "Ad esempio: Se nelle tre classi del DonatelliPascal ci sono 20, 21 e 22 studenti, avrò bisogno rispettivamente di 10, 11 e 11 banchi, per un totale di 32 banchi. L'uscita dovrà essere:\n",
    "\n",
    "    La scuola DonatelliPascal deve comprare 32 banchi nuovi"
   ]
  },
  {
   "cell_type": "code",
   "execution_count": null,
   "metadata": {},
   "outputs": [],
   "source": [
    "# Inserisci qui la soluzione\n",
    "\n",
    "scuola = input(\"Come si chiama la scuoa? \")\n",
    "classe1 = int(input(\"Quanti studenti nella prima delle 3 classi?\"))\n",
    "classe2 = int(input(\"Quanti studenti nella seconda delle 3 classi?\"))\n",
    "classe3 = int(input(\"Quanti studenti nella terza delle 3 classi?\"))\n",
    "\n",
    "banchi1 = classe1//2 + classe1%2\n",
    "banchi2 = classe2//2 + classe2%2\n",
    "banchi3 = classe3//2 + classe3%2\n",
    "\n",
    "banchiTotali = banchi1 + banchi2 + banchi3\n",
    "\n",
    "print(\"la scuola \" + scuola + \" deve comprare \" + str(banchiTotali) + \" banchi nuovi\")\n"
   ]
  }
 ],
 "metadata": {
  "kernelspec": {
   "display_name": "Python 3",
   "language": "python",
   "name": "python3"
  },
  "language_info": {
   "codemirror_mode": {
    "name": "ipython",
    "version": 3
   },
   "file_extension": ".py",
   "mimetype": "text/x-python",
   "name": "python",
   "nbconvert_exporter": "python",
   "pygments_lexer": "ipython3",
   "version": "3.6.4"
  }
 },
 "nbformat": 4,
 "nbformat_minor": 2
}
