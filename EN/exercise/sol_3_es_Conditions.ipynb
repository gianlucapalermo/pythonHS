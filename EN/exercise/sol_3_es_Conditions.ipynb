{
 "cells": [
  {
   "cell_type": "markdown",
   "metadata": {},
   "source": [
    "# 3.1 - Exercise\n",
    "Write a program that takes as input an integer number and writes in output if the number ends (least significant digit) with 5.\n",
    "\n",
    "    E.g.\n",
    "        Input: 46 - Output: \"It does not end with 5\"\n",
    "        Input: 675 - Output: \"It ends with 5\"\n",
    "        Input: 52 - Output: \"It does not end with 5\"\n",
    "      "
   ]
  },
  {
   "cell_type": "code",
   "execution_count": null,
   "metadata": {},
   "outputs": [],
   "source": [
    "numero = int(input())\n",
    "if (numero%10==5):\n",
    "    print(\"Il numero TERMINA con il numero 5!\")\n",
    "else:\n",
    "    print(\"Il numero NON TERMINA con il numero 5\")"
   ]
  },
  {
   "cell_type": "markdown",
   "metadata": {},
   "source": [
    "# 3.2 - Exercise\n",
    "Write a program that takes as input an integer number and writes in output if it is EVEN or ODD\n",
    "\n",
    "    E.g. \n",
    "        Input: 46 - Output: \"It is EVEN\"\n",
    "        Input: 675 - Output: \"It is ODD\"\n"
   ]
  },
  {
   "cell_type": "code",
   "execution_count": null,
   "metadata": {},
   "outputs": [],
   "source": [
    "numero = int(input())\n",
    "if (numero%2==0):\n",
    "    print(\"Il numero e' PARI!\")\n",
    "else:\n",
    "    print(\"Il numero e' DISPARI!\")"
   ]
  },
  {
   "cell_type": "markdown",
   "metadata": {},
   "source": [
    "# 3.3 - Exercise\n",
    "Write a program that takes as input an integer number and writes in output if it is POSITIVE or NEGATIVE\n",
    "\n",
    "    E.g. \n",
    "        Input: 46 - Output: \"It is POSITIVE\"\n",
    "        Input: -675 - Output: \"It is NEGATIVE\"\n"
   ]
  },
  {
   "cell_type": "code",
   "execution_count": null,
   "metadata": {},
   "outputs": [],
   "source": [
    "# Inserisci qui la soluzione\n",
    "\n",
    "numero = int(input())\n",
    "if (numero>=0):\n",
    "    print(\"Il numero e' POSITIVO!\")\n",
    "else:\n",
    "    print(\"Il numero e' NEGATIVO!\")\n"
   ]
  },
  {
   "cell_type": "markdown",
   "metadata": {},
   "source": [
    "# 3.4 - Exercise (3.1 + 3.2 + 3.3)\n",
    "Write a program that takes as input an integer number and writes in output if it is POSITIVE or NEGATIVE, EVEN or ODD and if its least significant bit is 5. The output should be in a single line.\n",
    "\n",
    "    E.g: \n",
    "        Input: 46 - Output: \"It is EVEN, POSITIVE, and do NOT ENDS with 5\"\n",
    "        Input: -675 - Output: \"It is ODD, NEGATIVE, and ENDS with 5\"\n",
    "        Input: -52 - Output: \"It is EVEN, NEGATIVE, and do NOT ENDS with 5\""
   ]
  },
  {
   "cell_type": "code",
   "execution_count": null,
   "metadata": {},
   "outputs": [],
   "source": [
    "numero = int(input())\n",
    "\n",
    "if (numero%2==0):\n",
    "    pari=\"PARI\"\n",
    "else:\n",
    "    pari=\"DISPARI\"\n",
    "if (numero>=0):\n",
    "    positivo=\"POSITIVO\"\n",
    "else:\n",
    "    positivo=\"NEGATIVO\"\n",
    "if (numero%10==5):\n",
    "    cinque=\"TERMINA\"\n",
    "else:\n",
    "    cinque=\"NON TERMINA\"\n",
    "\n",
    "print(\"Il numero e' \" + pari + \", \" + positivo +\", e \" + cinque+ \" con il numero 5\")"
   ]
  },
  {
   "cell_type": "markdown",
   "metadata": {},
   "source": [
    "# 3.5 - Exercise\n",
    "Write a program that given two integer numbers in input, print which one is the smaller value and which one is the largest one."
   ]
  },
  {
   "cell_type": "code",
   "execution_count": null,
   "metadata": {},
   "outputs": [],
   "source": [
    "# Inserisci qui la soluzione\n",
    "\n",
    "a= int(input())\n",
    "b= int(input())\n",
    "if (a>b):\n",
    "    print(str(a) + \" è più grande di \" + str(b))\n",
    "else:\n",
    "    print(str(b) + \" è più grande di \" + str(a))\n",
    "    "
   ]
  },
  {
   "cell_type": "markdown",
   "metadata": {},
   "source": [
    "# 3.6 - Exercise\n",
    "Write a program that takes as input 2 integer numbers and writes in output how many of them are ODD: both odd, only one or no one."
   ]
  },
  {
   "cell_type": "code",
   "execution_count": null,
   "metadata": {},
   "outputs": [],
   "source": [
    "a= int(input())\n",
    "b= int(input())\n",
    "if (a%2==0) and (b%2==0):\n",
    "    print(\"Nessun dispari!\")\n",
    "elif (a%2==1) and (b%2==1):\n",
    "    print(\"Entrambi dispari!\")\n",
    "else:\n",
    "    print(\"Un solo dispari!\")"
   ]
  },
  {
   "cell_type": "markdown",
   "metadata": {},
   "source": [
    "\n",
    "# 3.7 - Exercise\n",
    "Write a program that takes in input 3 integer numbers, and prints them in increasing order."
   ]
  },
  {
   "cell_type": "code",
   "execution_count": null,
   "metadata": {},
   "outputs": [],
   "source": [
    "a=10\n",
    "b=10\n",
    "c=14\n",
    "\n",
    "if a>=b and a>=c:\n",
    "    if b>=c:\n",
    "        print(a,b,c)\n",
    "    else:\n",
    "        print(a,c,b)\n",
    "elif b>=a and b>=c:\n",
    "    if a>=c:\n",
    "        print(b,a,c)\n",
    "    else:\n",
    "        print(b,c,a)\n",
    "elif c>=a and c>=a:\n",
    "    if a>=b:\n",
    "        print(c,a,b)\n",
    "    else:\n",
    "        print(c,b,a)\n",
    "else:\n",
    "    print(\"strano...\")\n"
   ]
  },
  {
   "cell_type": "markdown",
   "metadata": {},
   "source": [
    "# 3.8 - Exercise\n",
    "Write a program that receives in input an integer number, and it determine if it is composed by exactly 3 digits.\n",
    "\n",
    "    E.g.\n",
    "        Input: 46 - Output: \"It is NOT a 3 digit number\"\n",
    "        Input: 675 - Output: \"It is a 3 digit number\"\n",
    "        Input: 1552 - Output: \"It is NOT a 3 digit number\""
   ]
  },
  {
   "cell_type": "code",
   "execution_count": null,
   "metadata": {},
   "outputs": [],
   "source": [
    "numero  = int(input())\n",
    "if (numero>99 and numero<1000):\n",
    "    print(\"Il numero e' di 3 cifre!\")\n",
    "else:\n",
    "    print(\"Il numero NON e' di 3 cifre!\")"
   ]
  },
  {
   "cell_type": "markdown",
   "metadata": {},
   "source": [
    "# 3.9 - Exercise\n",
    "Write a program that receives in input a 4 digit number and determine if it is palindromic.\n",
    "A number is a palindromic number if it remains the same when its digits are reversed. The program should check also if the provided number is composed by 4 digits.\n",
    "\n",
    "    E.g.:\n",
    "        Input: 4664 - Output: \"It is a palindromic number\"\n",
    "        Input: 6755 - Output: \"It is NOT a palindromic number\"\n",
    "        Input: 5225 - Output: \"It is a palindromic number\"\n",
    "        Input: 323 -  Output: \"The number is not composed by 4 digits\""
   ]
  },
  {
   "cell_type": "code",
   "execution_count": null,
   "metadata": {},
   "outputs": [],
   "source": [
    "numero  = int(input())\n",
    "if (numero>9999 or numero<1000):\n",
    "    print(\"Il numero NON e' di 4 cifre!\")\n",
    "else:\n",
    "    unita = numero%10\n",
    "    numero = numero//10\n",
    "    decine = numero%10\n",
    "    numero = numero//10\n",
    "    centinaia = numero%10\n",
    "    numero = numero//10\n",
    "    migliaia = numero%10\n",
    "    if ((migliaia == unita) and (decine == centinaia)):\n",
    "        print(\"Il numero e' Palindromo!\")\n",
    "    else:\n",
    "        print(\"Il numero NON e' Palindromo!\")"
   ]
  },
  {
   "cell_type": "markdown",
   "metadata": {},
   "source": [
    "# 3.10 - Exercise\n",
    "Write a program that given a present, past or future year number, define if it is a LEAP or COMMON year. In the Gregorian calendar the rules defining if a year is LEAP or COMMON are as follows: a year is a leap year if its number is divisible by 4 and is not by 100; a year is always a leap year if its number is divisible by 400.\n",
    "\n",
    "    E.g.:\n",
    "        1996 -> LEAP\n",
    "        2013 -> COMMON\n",
    "        2000 -> LEAP\n",
    "        2019 -> COMMON\n",
    "        2100 -> COMMON\n",
    "        500 -> COMMON\n",
    "        504 -> LEAP"
   ]
  },
  {
   "cell_type": "code",
   "execution_count": null,
   "metadata": {},
   "outputs": [],
   "source": [
    "anno = int(input())\n",
    "\n",
    "if ((anno%4!=0) or (anno%100==0 and anno%400!=0)):\n",
    "    print(\"NON Bisestile\")\n",
    "else:\n",
    "    print(\"Bisestile\")\n"
   ]
  },
  {
   "cell_type": "markdown",
   "metadata": {},
   "source": [
    "# 3.11 - Exercise\n",
    "Write a program that takes as input the number of the month (1-12) and prints in output the number of days of that months. Consider always a common (non LEAP) year."
   ]
  },
  {
   "cell_type": "code",
   "execution_count": null,
   "metadata": {},
   "outputs": [],
   "source": [
    "mese = int(input())\n",
    "\n",
    "if (mese==1 or mese==3 or mese==5 or mese==7 or mese==8 or mese==10 or mese==12):\n",
    "    print(31)\n",
    "elif (mese ==2):\n",
    "    print(28)\n",
    "else:\n",
    "    print(30)\n"
   ]
  },
  {
   "cell_type": "markdown",
   "metadata": {},
   "source": [
    "# 3.12 - Exercise\n",
    "Write a program that takes as input the size of the three edges (sides) of a triagle and determine what type of triangle is it (Scalen, Isosceles or Equilater)."
   ]
  },
  {
   "cell_type": "code",
   "execution_count": null,
   "metadata": {},
   "outputs": [],
   "source": [
    "# Inserisci qui la soluzione\n",
    "\n",
    "#Traccia... Verifica prima che sia un triangolo. la somma di 2 lati deve essere superiore al 3o (per ogni coppia di lati)\n",
    "#Equilatero L1==L2 and L2==L3\n",
    "#Scaleno L1!=L2 and L1!=L3 and L2!=L3\n",
    "#Isoscele altrimenti.\n"
   ]
  },
  {
   "cell_type": "markdown",
   "metadata": {},
   "source": [
    "# Final exercise\n",
    "\n",
    "A mobile operator decided to launch a new offer for young users. It includes unlimited calls and SMS. The only cost is on the data traffic with the following rules:\n",
    "\n",
    "    - The firsts 8 GigaBytes cost 5euro overall;\n",
    "    - The nexts 7 GigaBytes cost 3euro overall;\n",
    "    - The nexts GigaBytes cost 1 euro each.\n",
    "    \n",
    "Write a program that receives as input the ammount of GigaBytes it is expected to use and determine the expected cost for this offer."
   ]
  },
  {
   "cell_type": "code",
   "execution_count": null,
   "metadata": {},
   "outputs": [],
   "source": [
    "giga = int(input())\n",
    "costo=0\n",
    "\n",
    "if giga<=8:\n",
    "    costo=5\n",
    "elif giga<(8+7):\n",
    "    costo=5+3\n",
    "else:\n",
    "    costo= (giga-15)*1+8\n",
    "print(\"Al mese spenderai: \" +str(costo) + \" euro\")\n",
    "    "
   ]
  }
 ],
 "metadata": {
  "kernelspec": {
   "display_name": "Python 3",
   "language": "python",
   "name": "python3"
  },
  "language_info": {
   "codemirror_mode": {
    "name": "ipython",
    "version": 3
   },
   "file_extension": ".py",
   "mimetype": "text/x-python",
   "name": "python",
   "nbconvert_exporter": "python",
   "pygments_lexer": "ipython3",
   "version": "3.6.4"
  }
 },
 "nbformat": 4,
 "nbformat_minor": 2
}
