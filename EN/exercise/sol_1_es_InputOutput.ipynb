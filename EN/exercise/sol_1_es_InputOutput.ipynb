{
 "cells": [
  {
   "cell_type": "markdown",
   "metadata": {},
   "source": [
    "# 1.1 - Exercise\n",
    "Write a program that takes three integer numbers in input, and prints their sum.     \n",
    "\n",
    "- Remember: To read something in input you can use the function `input()` and to print something in output you can use the function `print()`."
   ]
  },
  {
   "cell_type": "code",
   "execution_count": null,
   "metadata": {},
   "outputs": [],
   "source": [
    "a = int(input())\n",
    "b = int(input())\n",
    "c = int(input())\n",
    "print(a + b + c)"
   ]
  },
  {
   "cell_type": "markdown",
   "metadata": {},
   "source": [
    "# 1.2 - Exercise\n",
    "Write a program that takes as input an integer number and print its square. Use two different way of calculating it.\n",
    "\n",
    "- Remember, You can use the symbol `**` for the power operator."
   ]
  },
  {
   "cell_type": "code",
   "execution_count": null,
   "metadata": {},
   "outputs": [],
   "source": [
    "a = int(input())\n",
    "print(a*a)\n",
    "print(a**2)"
   ]
  },
  {
   "cell_type": "markdown",
   "metadata": {},
   "source": [
    "# 1.3 - Exercise\n",
    "Write a program that reads two integer values representing the lenght of the base and the height of a triangle, and prints in output its area. "
   ]
  },
  {
   "cell_type": "code",
   "execution_count": null,
   "metadata": {},
   "outputs": [],
   "source": [
    "base = int(input())\n",
    "altezza = int(input())\n",
    "print((base*altezza)/2)"
   ]
  },
  {
   "cell_type": "markdown",
   "metadata": {},
   "source": [
    "# 1.4 - Exercise\n",
    "Write a program takes as input the name of a person and greets the person by printing the word \"Good morning\" and the name of the person.\n",
    "\n",
    "    E.g. Input: Gianluca - Output: Good morning Gianluca!\n",
    "         Input: Angela - Output: Good morning Angela!\n",
    "         Input: Prof. Palermo - Output: Good morning Prof. Palermo!\n",
    "\n",
    "- Remember, the `+` symbol is used to concatenate 2 strings"
   ]
  },
  {
   "cell_type": "code",
   "execution_count": null,
   "metadata": {},
   "outputs": [],
   "source": [
    "print(\"Come ti chiami?\")\n",
    "nome = input()\n",
    "printf(\"Buongiorno \" + nome  + \"!\")"
   ]
  },
  {
   "cell_type": "markdown",
   "metadata": {},
   "source": [
    "# 1.5 - Exercise\n",
    "Writes a program that, given a basket of K apples, and N person that are taking from the basket exactly the same ammount of apples (the maximum possible), determine how many apples are left in the basket. Write in output also how many apples are taken by each person.\n",
    "\n",
    "- Remember: It is possible to convert a string into an integer by using the function `int()`; The symbol `/` is used for the division; The symbol `//` is used for the integer division; the symbol `%` is used to obtain the remainder of an integer division."
   ]
  },
  {
   "cell_type": "code",
   "execution_count": null,
   "metadata": {},
   "outputs": [],
   "source": [
    "N_studenti = int(input())\n",
    "K_mele = int(input())\n",
    "print(K_mele//N_studenti)\n",
    "print(K_mele%N_studenti)"
   ]
  },
  {
   "cell_type": "markdown",
   "metadata": {},
   "source": [
    "*NOTE: Using Python as a calculator is fine, however, if not done yet, it is better to start thinking of the uman computer interaction. In particular it is important to have an interaction that explicitly ask to the user the data expected in output, and also describes better describes the content of the output. e.g. \"How many apples are in the basket?\" or \" The apples taken by each person are X\".*\n",
    "\n",
    "- Remember that it is possible to convert a number in string using the function `str()`."
   ]
  },
  {
   "cell_type": "code",
   "execution_count": null,
   "metadata": {},
   "outputs": [],
   "source": [
    "print(\"Quanti studenti ci sono?\")\n",
    "N_studenti = int(input())\n",
    "print(\"Quante mele ci sono?\")\n",
    "K_mele = int(input())\n",
    "\n",
    "print(\"Ogni studente avrà \" + str(K_mele//N_studenti) + \" mele\")\n",
    "print(\"Rimarranno \"+ str(K_mele%N_studenti) + \" mele nel cesto\")"
   ]
  },
  {
   "cell_type": "markdown",
   "metadata": {},
   "source": [
    "# 1.6 - Exercise\n",
    "Write a program that reads in input an integer number and prints in output its previous and next integer number. \n",
    "As an example the output can be formated as follows:\n",
    "`\"I received the number X; Its previous number is Y, while its next number is K\"`"
   ]
  },
  {
   "cell_type": "code",
   "execution_count": null,
   "metadata": {},
   "outputs": [],
   "source": [
    "a= int(input())\n",
    "print(\"il numero precedente a \" + str(a) + \" è \" + str(a-1))\n",
    "print(\"il numero successivo a \" + str(a) + \" è \" + str(a+1))"
   ]
  },
  {
   "cell_type": "markdown",
   "metadata": {},
   "source": [
    "# Final Exercise\n",
    "A famous Basketball team decided to buy a set of new balls for the training of its players. The team decided to buy the minimum number of balls to satisfy the constraint of having 1 new ball every two players. In case of an odd number of players, the team will buy one more ball.\n",
    "Write a program to determine the number of balls to buy.\n",
    "\n",
    "    e.g INPUT: 31 - OUTPUT 16\n",
    "        INPUT: 16 - OUTPUT 8\n",
    "        INPUT: 51 - OUTPUT 26\n",
    "        \n",
    "*Hint: An odd number is a number where the reminder of the integer division by 2 is 1*"
   ]
  },
  {
   "cell_type": "code",
   "execution_count": null,
   "metadata": {},
   "outputs": [],
   "source": [
    "team = int(input(\"How many players in the team?\"))\n",
    "balls = team//2 + team%2\n",
    "print(\"The basketball team needs \" + str(balls) + \" new balls!\")"
   ]
  }
 ],
 "metadata": {
  "kernelspec": {
   "display_name": "Python 3",
   "language": "python",
   "name": "python3"
  },
  "language_info": {
   "codemirror_mode": {
    "name": "ipython",
    "version": 3
   },
   "file_extension": ".py",
   "mimetype": "text/x-python",
   "name": "python",
   "nbconvert_exporter": "python",
   "pygments_lexer": "ipython3",
   "version": "3.6.4"
  }
 },
 "nbformat": 4,
 "nbformat_minor": 2
}
