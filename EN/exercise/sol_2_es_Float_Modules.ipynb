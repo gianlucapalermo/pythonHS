{
 "cells": [
  {
   "cell_type": "markdown",
   "metadata": {},
   "source": [
    "# 2.1 - Exercise\n",
    "Write a program that takes as input a 2-digit number, and prints in output the two digit separated by 5 \"a\" (\"aaaaa\").\n",
    "\n",
    "    e.g. INPUT: 57 - OUTPUT: 5aaaaa7\n",
    "      "
   ]
  },
  {
   "cell_type": "code",
   "execution_count": null,
   "metadata": {},
   "outputs": [],
   "source": [
    "a = int(input())\n",
    "print( str(a//10) + \"aaaaa\" + str(a%10) )"
   ]
  },
  {
   "cell_type": "markdown",
   "metadata": {},
   "source": [
    "# 2.2 - Exercise\n",
    "Write a program that takes as input a 2 digit number and prints the number where the two digit are inverted, and the same number +1.\n",
    "\n",
    "    e.g. INPUT: 57 - OUTPUT: 75 and 76"
   ]
  },
  {
   "cell_type": "code",
   "execution_count": null,
   "metadata": {},
   "outputs": [],
   "source": [
    "a = int(input())\n",
    "b = a%10*10 + a//10\n",
    "print(b)\n",
    "print(b+1)"
   ]
  },
  {
   "cell_type": "markdown",
   "metadata": {},
   "source": [
    "# 2.3 - Exercise\n",
    "Write a program that takes as input a number with more than 2 digits and prints in output only the two least significant digits."
   ]
  },
  {
   "cell_type": "code",
   "execution_count": null,
   "metadata": {},
   "outputs": [],
   "source": [
    "a = int(input())\n",
    "print(a%100)"
   ]
  },
  {
   "cell_type": "markdown",
   "metadata": {},
   "source": [
    "# 2.4 - Exercise\n",
    "Write a program that takes as input a float number and prints only the decima part.\n",
    "\n",
    "    e.g. INPUT 7.25 - OUTPUT 0.25"
   ]
  },
  {
   "cell_type": "code",
   "execution_count": null,
   "metadata": {},
   "outputs": [],
   "source": [
    "a = float(input())\n",
    "a_intera= int(a)\n",
    "print(a - a_intera)"
   ]
  },
  {
   "cell_type": "markdown",
   "metadata": {},
   "source": [
    "# 2.5 - Exercise\n",
    "Write a program that takes as input a float number and prints in output only the first digit of the decima part.\n",
    "\n",
    "    e.g. INPUT 7.25 - OUTPUT 2"
   ]
  },
  {
   "cell_type": "code",
   "execution_count": null,
   "metadata": {},
   "outputs": [],
   "source": [
    "a = float(input())\n",
    "a_intera= int(a)\n",
    "a_virgola = a - a_intera\n",
    "prima_cifra = int(a_virgola*10)\n",
    "print(prima_cifra)"
   ]
  },
  {
   "cell_type": "markdown",
   "metadata": {},
   "source": [
    "# 2.6 - Exercise\n",
    "I'm planning an holidaty in camper and I know from previous experiences that I will be able to drive between 300Km and  750Km per days. Write a program that takes as input the ammount of Km to drive during the entire holiday and determine in the best and worst cases how many nights do I have to sleep in the camper.\n",
    "\n",
    "    e.g INPUT: 1230 - OUTPUT: Best case = 1 ; Worst case = 4"
   ]
  },
  {
   "cell_type": "code",
   "execution_count": null,
   "metadata": {},
   "outputs": [],
   "source": [
    "Km = int(input())\n",
    "minimo = Km//750\n",
    "massimo = Km//300\n",
    "print(\"Best case = \" + str(minimo) + \" ; Worst case = \" + str(massimo))"
   ]
  },
  {
   "cell_type": "markdown",
   "metadata": {},
   "source": [
    "# 2.7 - Exercise\n",
    "Write a program that receives in input the number of minutes that have been passed from the last mid-night and determine what time is it.\n",
    "\n",
    "    E.g. INPUT: 150 - OUTPUT 2:30"
   ]
  },
  {
   "cell_type": "code",
   "execution_count": null,
   "metadata": {},
   "outputs": [],
   "source": [
    "minuti = int(input())\n",
    "hh=minuti//60\n",
    "mm=minuti%60\n",
    "print(str(hh) + \":\" + str(mm))"
   ]
  },
  {
   "cell_type": "markdown",
   "metadata": {},
   "source": [
    "# Final Exercise\n",
    "\n",
    "A snail want to climb on the wall of a building to reach the top. Knowing that during the day the snail climbs X meter, during the night slides back down Y meters, we are interested in knowing how many days it take to reach the top of an H meter building.\n",
    "\n",
    "Write a program that takes in input the three numbers (H, X and Y) and deterine how many days are needed.\n",
    "\n",
    "    e.g.: \n",
    "        H=20 X=7 Y=3  - 5 days\n",
    "        H=15 X=70 Y=3 - 1 day\n",
    "        H=10 X=3 Y=2  - 8 days\n",
    "        H=20 X=5 Y=1  - 5 days\n",
    "        H=30 X=10 Y=5 - 5 days\n",
    "        H=86 X=17 Y=8 - 9 days"
   ]
  },
  {
   "cell_type": "code",
   "execution_count": null,
   "metadata": {},
   "outputs": [],
   "source": [
    "# Inserisci qui la soluzione\n",
    "import math\n",
    "\n",
    "H = int(input(\"How tall is the building? \"))\n",
    "X = int(input(\"How many meters the snail climbs per day? \"))\n",
    "Y = int(input(\"How many meters the snail slides back down during the night? \"))\n",
    "\n",
    "giorni = 1+ math.ceil((H-X)/(X-Y))\n",
    "\n",
    "print(\"The snail takes \" + str(giorni) + \" days\")\n"
   ]
  }
 ],
 "metadata": {
  "kernelspec": {
   "display_name": "Python 3",
   "language": "python",
   "name": "python3"
  },
  "language_info": {
   "codemirror_mode": {
    "name": "ipython",
    "version": 3
   },
   "file_extension": ".py",
   "mimetype": "text/x-python",
   "name": "python",
   "nbconvert_exporter": "python",
   "pygments_lexer": "ipython3",
   "version": "3.6.4"
  }
 },
 "nbformat": 4,
 "nbformat_minor": 2
}
