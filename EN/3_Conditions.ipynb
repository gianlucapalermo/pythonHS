{
 "cells": [
  {
   "cell_type": "markdown",
   "metadata": {},
   "source": [
    "# Conditions: if, (then,) else\n",
    "All the programs that we wrote up to now are executed sequentially, one instruction after the other. All the instructions are executed and no one can be skipped for some reason.\n",
    "\n",
    "This schema doesn't work properly for all the type of programs since in most of the cases there is the need for differentiating the execution depending on a particular *condition*, e.g. the value of a variable.\n",
    "\n",
    "Let's make a simple program that, without using the `abs()` function, prints the absolute value of an integer number X received as input. The solution is very simple, however the program should print the input number *if* X>0, while it should print -X in case X<0. \n",
    "\n",
    "To implement this behaviour we have to define a new construct called *if-(then-)else*.\n",
    "\n",
    "The syntax of the *if-else statement* is shown here after while solving the previously described problem:"
   ]
  },
  {
   "cell_type": "code",
   "execution_count": null,
   "metadata": {},
   "outputs": [],
   "source": [
    "x = int(input())\n",
    "\n",
    "if x > 0:\n",
    "    print(x)\n",
    "else:\n",
    "    print(-x)"
   ]
  },
  {
   "cell_type": "markdown",
   "metadata": {},
   "source": [
    "The previous program uses a condition `(x > 0)` to determine which one of the two `print(.)` have to be executed.\n",
    "In case (*if*) the condition is true, *then* the code that will be executed is the one following the colon sign `:`, thus `print(x)`.\n",
    "Otherwise (*else*), the code that will be executed is the one following the statement `else:`, thus `print(-x)`. \n",
    "\n",
    "**Curiosity -** In some languages, the conditional construct is also called *if-then-else* since the True-block is initiated by the *then* keyword. The same as the *else* for the False-block.\n",
    "\n",
    "**It is important to note that the instructions that are *conditionally executed* are also indented (shifted right) by using a fixed number of spaces.**\n",
    "\n",
    "We can have more than one instruction that is conditionally executed. In this case, all the instructions that are conditionally executed together are called *block of code*.\n",
    "The indentation is the way that Python uses to differentiate the blocks of code. All the instructions that are within the same block of code (that means executed sequentially inside the block), should be indented in the same way. It is kindly suggested to use 4 spaces or 1 TAB for the indentation. \n",
    "\n",
    "**Curiosity -** The forced indentation is one of the main differences of Python with respect to most of the other languages. Indeed, for the other languages the indentation is not mandatory but is welcome for readability. Other languages use explicit separators for the block of code, e.g. `{...}`. \n",
    "\n",
    "Overall, the structure and syntax of the *if-else* statement in Python are the following: "
   ]
  },
  {
   "cell_type": "markdown",
   "metadata": {},
   "source": [
    "    if CONDITION:\n",
    "        True-block\n",
    "        one or more instructions to execute\n",
    "        if the condition is evaluated as True\n",
    "    else:\n",
    "        False-block\n",
    "        one or more instructions to execute\n",
    "        if the condition is evaluated as False\n"
   ]
  },
  {
   "cell_type": "markdown",
   "metadata": {},
   "source": [
    "While the *if* keyword is mandatory for a conditional statement, the *else* statement can be omitted together with the False-block if in the particular program the false condition is not needed.\n",
    "\n",
    "As an example, I can rewrite the previous problem using only the *if* statement as follows:"
   ]
  },
  {
   "cell_type": "code",
   "execution_count": null,
   "metadata": {},
   "outputs": [],
   "source": [
    "x = int(input())\n",
    "if x < 0:\n",
    "    x = -x\n",
    "print(x)"
   ]
  },
  {
   "cell_type": "markdown",
   "metadata": {},
   "source": [
    "In this simple example, the variable x changes its value (from x to -x) only if the value received as input is less than 0, `(x<0)`. With respect to the previous solution, the `print(x)` statement will be always executed.\n",
    "Note that, the `print(x)` statement is aligned with the `if` instruction. This means that the two instructions (actually three if we consider also the first instruction of the program) are executed sequentially. The *print* instruction will be executed after we resolve the *if* statement. Resolving the *if* statement means, evaluate the condition and eventually execute the right block of code."
   ]
  },
  {
   "cell_type": "markdown",
   "metadata": {},
   "source": [
    "**Conditions.** A *condition* is a program statement that compares things and evaluates whatever the result of the comparison is `True` or `False`. For example,`x>0` is a condition.\n",
    "\n",
    "In Python, the following symbols are used as *operators* in conditions with two operands:\n",
    "\n",
    "    ==     Equal to  \n",
    "           True if the LEFT value is equal to the RIGHT value;\n",
    "           \n",
    "    !=     Not equal to\n",
    "           True if the LEFT value is not equal to the RIGHT value;\n",
    "\n",
    "    <      Less than\n",
    "           True if the LEFT value is less than the RIGHT value;\n",
    "    \n",
    "    >      Greater than\n",
    "           True if the LEFT value is greater than the RIGHT value;\n",
    "    \n",
    "    <=     Less than or Equal to\n",
    "           True if the LEFT value is less then or equal to the RIGHT value;\n",
    "    \n",
    "    >=     Greater than or Equal to\n",
    "           True if the LEFT value is greater then or equal to the RIGHT value.\n",
    "\n",
    "As an example, the condition `x > 0` can be considered a way to ask *\"Is the value stored inside the variable x greater than 0\"*; or `name == \"Gianluca\"` means *\"Is the value of the variable called name equal to Gianluca“*.\n",
    "\n",
    "**Warning.** Pay attention to the usage of the *Equal to* operator. The comparison operator is a *double equal* symbol (`==`) and not a single one (`=`) that is used for assignment."
   ]
  },
  {
   "cell_type": "markdown",
   "metadata": {},
   "source": [
    "**Nested If.** In Python, we can have all the instructions included in the True-block or False-block. Thus, there is also the possibility to have an if-else construct inside another if-else construct. Such a situation is called *nested if*.\n",
    "As a programmer, this can be used to solve a situation when you want to check for another condition after you resolved the original condition. \n",
    "\n",
    "The syntax of a nested if is the same as for the single if statement. The code developer should take care only on the indentation. Indeed, the blocks of the nested if should be indented more than the previous one (actually the white spaces should be twice than before).\n",
    "\n",
    "Let's see a simple example. We want to write a simple program that takes as input the coordinate of a point in the Cartesian Plane and the program prints in output in which quadrant it is situated. "
   ]
  },
  {
   "cell_type": "code",
   "execution_count": null,
   "metadata": {},
   "outputs": [],
   "source": [
    "x = int(input(\"x-coordinate: \"))\n",
    "y = int(input(\"y-coordinate: \"))\n",
    "if x > 0:\n",
    "    if y > 0:\n",
    "        # x > 0, y > 0\n",
    "        print(\"Quadrant I\")\n",
    "    else:    \n",
    "        # x > 0, y < 0\n",
    "        print(\"Quadrant IV\")\n",
    "else:\n",
    "    if y > 0:\n",
    "        # x <= 0, y > 0\n",
    "        print(\"Quadrant II\")\n",
    "    else:    \n",
    "        # x <= 0, y <= 0\n",
    "        print(\"Quadrant III\")"
   ]
  },
  {
   "cell_type": "markdown",
   "metadata": {},
   "source": [
    "**More than 2 options: if-elif-else.** The if-else statement is capable to discriminate only between two options. However, sometime it is however necessary to do something more. \n",
    "\n",
    "Take a look at the following example:"
   ]
  },
  {
   "cell_type": "code",
   "execution_count": null,
   "metadata": {},
   "outputs": [],
   "source": [
    "age = int(input(\"How old are you? \"))\n",
    "if age < 12: \n",
    "    print(\"You are too young to be at the TECHCAMP!\")\n",
    "elif age > 19: \n",
    "    print(\"You are too old to be at the TECHCAMP!\")\n",
    "else:\n",
    "    print(\"Welcome to the TECHCAMP!\")"
   ]
  },
  {
   "cell_type": "markdown",
   "metadata": {},
   "source": [
    "In this case, the idea was to discriminate among 3 conditions. The `elif` statement gives the possibility to add one or more conditions to be verified one-by-one if the previous conditions are false. The `if-elif-else` construct is used to enter into the first *True-block* or, if none of the conditions are true, in the block associated to the `else:` statement (also called the *all-False-block*).\n",
    "\n",
    "Another example can be derived by the previous problem of determining the right quadrant once given the x,y coordinates of a point in the Cartesian Plane:"
   ]
  },
  {
   "cell_type": "code",
   "execution_count": null,
   "metadata": {},
   "outputs": [],
   "source": [
    "x = int(input(\"x-coordinate: \"))\n",
    "y = int(input(\"y-coordinate: \"))\n",
    "\n",
    "if (x > 0 and y > 0):\n",
    "    print(\"Quadrant I\")\n",
    "elif (x > 0 and y < 0):\n",
    "    print(\"Quadrant IV\")\n",
    "elif (x < 0 and y > 0):\n",
    "    print(\"Quadrant II\")\n",
    "else:\n",
    "    print(\"Quadrant III\")"
   ]
  },
  {
   "cell_type": "markdown",
   "metadata": {},
   "source": [
    "This example is interesting because give us the possibility to introduce the concept of **boolean data-type** complex conditions and logic operators.\n",
    "\n",
    "A *boolean data type* is a type of data having only 2 values: True and False. A boolean value is the result of a condition.\n",
    "\n",
    "Check the following examples:"
   ]
  },
  {
   "cell_type": "code",
   "execution_count": null,
   "metadata": {},
   "outputs": [],
   "source": [
    "print(2 < 5)"
   ]
  },
  {
   "cell_type": "code",
   "execution_count": null,
   "metadata": {},
   "outputs": [],
   "source": [
    "print(2 > 5)"
   ]
  },
  {
   "cell_type": "markdown",
   "metadata": {},
   "source": [
    "As for the other data-types (e.g. int or float), also the boolean data-type has a cast operator that transform a data into a boolean value: `bool()`. The number zero and the empty string are the only values that are converted as False. In all the other cases we have True.\n",
    "\n",
    "Let's see the following examples:"
   ]
  },
  {
   "cell_type": "code",
   "execution_count": null,
   "metadata": {},
   "outputs": [],
   "source": [
    "print(bool(-10))"
   ]
  },
  {
   "cell_type": "code",
   "execution_count": null,
   "metadata": {},
   "outputs": [],
   "source": [
    "print(bool(0))      "
   ]
  },
  {
   "cell_type": "code",
   "execution_count": null,
   "metadata": {},
   "outputs": [],
   "source": [
    "print(bool(10))     "
   ]
  },
  {
   "cell_type": "code",
   "execution_count": null,
   "metadata": {},
   "outputs": [],
   "source": [
    "print(bool(''))   "
   ]
  },
  {
   "cell_type": "code",
   "execution_count": null,
   "metadata": {},
   "outputs": [],
   "source": [
    "print(bool('abc'))  "
   ]
  },
  {
   "cell_type": "markdown",
   "metadata": {},
   "source": [
    "The boolean values can be combined together. In particular, it is interesting when the results of simple conditions are combined to obtain a more complicated one. An example was inside the last version of the Cartesian Plan quadrant identification problem, e.g. `(x > 0 and y > 0)`. In this case, the AND boolean operator has been used.\n",
    "\n",
    "Python includes 2 binary operators for boolean values (`and` e `or`) and one unary operator (`not`):\n",
    "\n",
    "* *and* -   The result of the AND operator is True if both values are True. False otherwise;\n",
    "* *or* -    The result of the OR operator is True if at least one of the 2 values is True. False otherwise;\n",
    "* *not* -   The result of the NOT operator is True if the original value is was False, and vice-versa."
   ]
  },
  {
   "cell_type": "markdown",
   "metadata": {},
   "source": [
    "The following example determines if at least one of the age received in input is greater then or equal to 18:"
   ]
  },
  {
   "cell_type": "code",
   "execution_count": null,
   "metadata": {},
   "outputs": [],
   "source": [
    "age1 = int(input())\n",
    "age2 = int(input())\n",
    "if (age1 >= 18) or (age2 >= 18):\n",
    "    print('YES')\n",
    "else:\n",
    "    print('NO')"
   ]
  },
  {
   "cell_type": "markdown",
   "metadata": {},
   "source": [
    "Manipulating the operators, the same condition can be written in a different way. As an example, instead of verifying that *at least one is >=18*, I can invert the True and False blocks, and verify that *both are less than 18*."
   ]
  },
  {
   "cell_type": "code",
   "execution_count": null,
   "metadata": {},
   "outputs": [],
   "source": [
    "age1 = int(input())\n",
    "age2 = int(input())\n",
    "if ((age1 < 18) and (age2 < 18)):\n",
    "    print('NO')\n",
    "else:\n",
    "    print('YES')"
   ]
  }
 ],
 "metadata": {
  "kernelspec": {
   "display_name": "Python 3",
   "language": "python",
   "name": "python3"
  },
  "language_info": {
   "codemirror_mode": {
    "name": "ipython",
    "version": 3
   },
   "file_extension": ".py",
   "mimetype": "text/x-python",
   "name": "python",
   "nbconvert_exporter": "python",
   "pygments_lexer": "ipython3",
   "version": "3.6.4"
  }
 },
 "nbformat": 4,
 "nbformat_minor": 2
}
