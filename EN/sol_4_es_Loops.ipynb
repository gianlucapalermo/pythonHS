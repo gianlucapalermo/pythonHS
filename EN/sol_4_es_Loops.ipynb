{
 "cells": [
  {
   "cell_type": "markdown",
   "metadata": {},
   "source": [
    "# 4.1 - Exercise\n",
    "Write a program that use the input to define which multiplocation table to print."
   ]
  },
  {
   "cell_type": "code",
   "execution_count": null,
   "metadata": {},
   "outputs": [],
   "source": [
    "numero = int(input(\"Which multiplication table do you want to print? \"))\n",
    "tabellina=[]\n",
    "for i in range(10):\n",
    "    tabellina.append(numero*(i+1))\n",
    "\n",
    "print(tabellina)"
   ]
  },
  {
   "cell_type": "markdown",
   "metadata": {},
   "source": [
    "# 4.2 - Exercise\n",
    "Write a program that takes as input a number N and prints in output all the numbers from 0 up to N (included).\n"
   ]
  },
  {
   "cell_type": "code",
   "execution_count": null,
   "metadata": {},
   "outputs": [],
   "source": [
    "numero = int(input(\"Give me N: \"))\n",
    "for i in range(numero+1):\n",
    "    print(i)"
   ]
  },
  {
   "cell_type": "markdown",
   "metadata": {},
   "source": [
    "# 4.3 - Exercise\n",
    "Write a program that takes in input a number and determine if the number is Prime or not."
   ]
  },
  {
   "cell_type": "code",
   "execution_count": null,
   "metadata": {},
   "outputs": [],
   "source": [
    "numero = int(input(\"Give me N: \"))\n",
    "\n",
    "numeroPrimo=True\n",
    "for i in range(2,numero):\n",
    "    if (numero%i==0):\n",
    "        numeroPrimo=False\n",
    "        \n",
    "if numeroPrimo==True:\n",
    "    print(\"Prime Number!\")\n",
    "else: \n",
    "    print(\"N is NOT prime!\")\n"
   ]
  },
  {
   "cell_type": "markdown",
   "metadata": {},
   "source": [
    "\n",
    "# 4.4 - Exercise\n",
    "Write a program that takes in input a number and determine what are the prime numbers less than N"
   ]
  },
  {
   "cell_type": "code",
   "execution_count": null,
   "metadata": {},
   "outputs": [],
   "source": [
    "#HINT, reuse the exercise 4.3 and increase the value \n",
    "#      of the number you are evaluating from 0 to N\n"
   ]
  },
  {
   "cell_type": "markdown",
   "metadata": {},
   "source": [
    "# 4.5 - Exercise\n",
    "Write a program that receives in input two numbers A and B and counts from A to B in increasing order if A less than B or in decreasing order if A is larger than B. "
   ]
  },
  {
   "cell_type": "code",
   "execution_count": null,
   "metadata": {},
   "outputs": [],
   "source": [
    "A = int(input())\n",
    "B = int(input())\n",
    "\n",
    "if A>B: \n",
    "    step =-1\n",
    "    B=B-1\n",
    "else:\n",
    "    step=1\n",
    "    B=B+1\n",
    "    \n",
    "for i in range(A,B,step):\n",
    "    print(i)"
   ]
  },
  {
   "cell_type": "markdown",
   "metadata": {},
   "source": [
    "# 4.6 - Exercise\n",
    "Write a proram that receives in input a number N, and prints the sum of the first N numbers."
   ]
  },
  {
   "cell_type": "code",
   "execution_count": null,
   "metadata": {},
   "outputs": [],
   "source": [
    "numero = int(input(\"Give me N: \"))\n",
    "\n",
    "somma=0\n",
    "for i in range(numero+1):\n",
    "    somma = somma + i\n",
    "\n",
    "print(\"The sum of the first N numbers is : \"+ str(somma))"
   ]
  },
  {
   "cell_type": "markdown",
   "metadata": {},
   "source": [
    "# 4.7 - Exercise\n",
    "Write a program that takes in input a string and a character, couts how many time that character is in the string."
   ]
  },
  {
   "cell_type": "code",
   "execution_count": 1,
   "metadata": {},
   "outputs": [
    {
     "name": "stdout",
     "output_type": "stream",
     "text": [
      "Give me a sentence: kuyrkdkvt\n",
      "Give me a character: h\n",
      "We have the character 0 times in the sentence\n"
     ]
    }
   ],
   "source": [
    "frase = input(\"Give me a sentence: \")\n",
    "lettera = input(\"Give me a character: \")\n",
    "\n",
    "ripetizioni = 0\n",
    "for i in frase:\n",
    "    if i==lettera:\n",
    "        ripetizioni=ripetizioni+1\n",
    "\n",
    "print(\"We have the character \"+ str(ripetizioni)+\" times in the sentence\")"
   ]
  },
  {
   "cell_type": "markdown",
   "metadata": {},
   "source": [
    "# 4.8 - Exercise\n",
    "Write a program that determine how many time there is a number taken as input inside a predetermined list. \n",
    "\n",
    "    Do not use the function already provided by the lists!"
   ]
  },
  {
   "cell_type": "code",
   "execution_count": null,
   "metadata": {},
   "outputs": [],
   "source": [
    "# Insert here the solution\n",
    "listaNum = [55, 66, 77, 33, 33, 8943, 1, 6, 6, 6, 321]\n",
    "print(\"This is the list of number:\")\n",
    "print(listaNum)\n",
    "numero = int(input(\"Give me a number: \"))\n",
    "\n",
    "ripetizioni = 0\n",
    "for x in listaNum:\n",
    "    if x==numero:\n",
    "        ripetizioni=ripetizioni+1\n",
    "\n",
    "print(\"In the list there is \"+ str(ripetizioni)+\" times the given number\")"
   ]
  },
  {
   "cell_type": "markdown",
   "metadata": {},
   "source": [
    "# 4.9 - Exercise\n",
    "Write a program that takes in input 10 numbers, and prints in output the largest one."
   ]
  },
  {
   "cell_type": "code",
   "execution_count": null,
   "metadata": {},
   "outputs": [],
   "source": [
    "# Insert here the solution\n",
    "massimo=0\n",
    "print(\"Dammi 10 numeri ti dirò quale è il più grande\")\n",
    "for i in range(10):\n",
    "    numero = int(input())\n",
    "    if massimo<numero:\n",
    "        massimo=numero\n",
    "print(\"il più grande numero inserito è: \"+ str(massimo))\n"
   ]
  },
  {
   "cell_type": "markdown",
   "metadata": {},
   "source": [
    "# 4.10 - Exercise\n",
    "Write a program that given a list of 10 numbers, it duplicates their value."
   ]
  },
  {
   "cell_type": "code",
   "execution_count": null,
   "metadata": {},
   "outputs": [],
   "source": [
    "listaNum = [55, 66, 77, 33, 33, 8943, 1, 6, 6, 321]\n",
    "listaNum2=[]\n",
    "for i in range(len(listaNum)):\n",
    "    listaNum2.append(listaNum[i]*2)\n",
    "\n",
    "print(listaNum2)"
   ]
  },
  {
   "cell_type": "markdown",
   "metadata": {},
   "source": [
    "# Final Exercise\n",
    "\n",
    "Write a program that takes in input a number between 1 and 365, and determine the which day of the year it is (number and month). Consider that it is not a leap year (i.e. Feb 28 days).\n",
    "\n",
    "    E.g.: \n",
    "        INPUT 12 - OUTUPUT 12-1\n",
    "        INPUT 100 - OUTPUT 10-4\n",
    "        INPUT 365 - OUTPUT 31-12\n"
   ]
  },
  {
   "cell_type": "code",
   "execution_count": null,
   "metadata": {},
   "outputs": [],
   "source": [
    "numero = int(input(\"Dammi un giorno dell'anno (da 1 a 365) ti dirò che giorno è: \"))\n",
    "\n",
    "giorniDeiMesi = [31, 28, 31, 30, 31, 30, 31, 31, 30, 31, 30, 31]\n",
    "\n",
    "for i in range(12):\n",
    "    if numero <= giorniDeiMesi[i]:\n",
    "        mese=i+1;\n",
    "        giorno=numero;\n",
    "        break\n",
    "    else: \n",
    "        numero=numero-giorniDeiMesi[i]\n",
    "\n",
    "print(str(giorno) + \"-\" + str(mese))\n",
    "    "
   ]
  }
 ],
 "metadata": {
  "kernelspec": {
   "display_name": "Python 3",
   "language": "python",
   "name": "python3"
  },
  "language_info": {
   "codemirror_mode": {
    "name": "ipython",
    "version": 3
   },
   "file_extension": ".py",
   "mimetype": "text/x-python",
   "name": "python",
   "nbconvert_exporter": "python",
   "pygments_lexer": "ipython3",
   "version": "3.6.4"
  }
 },
 "nbformat": 4,
 "nbformat_minor": 2
}
