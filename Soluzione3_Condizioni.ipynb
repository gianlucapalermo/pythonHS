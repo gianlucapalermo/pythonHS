{
 "cells": [
  {
   "cell_type": "markdown",
   "metadata": {},
   "source": [
    "# 3.1 - Esercizio: Termina con 5?\n",
    "Scrivi un programma che prende un numero e stampa se il numero inserito ha come ultima cifra (unità) un 5.\n",
    "\n",
    "Ad esempio\n",
    "\n",
    "    Input: 46 - Output: \"Il numero NON TERMINA con il numero 5\"\n",
    "    Input: 675 - Output: \"Il numero TERMINA con il numero 5!\"\n",
    "    Input: 52 - Output: \"Il numero NON TERMINA con il numero 5\"\n",
    "      "
   ]
  },
  {
   "cell_type": "code",
   "execution_count": null,
   "metadata": {},
   "outputs": [],
   "source": [
    "# Inserisci qui la soluzione\n",
    "\n",
    "numero = int(input())\n",
    "if (numero%10==5):\n",
    "    print(\"Il numero TERMINA con il numero 5!\")\n",
    "else:\n",
    "    print(\"Il numero NON TERMINA con il numero 5\")\n"
   ]
  },
  {
   "cell_type": "markdown",
   "metadata": {},
   "source": [
    "# 3.2 - Esercizio: Pari o Dispari\n",
    "Scrivi un programma che prende un numero e determina se è pari o dispari.\n",
    "\n",
    "Ad esempio\n",
    "\n",
    "    Input: 46 - Output: \"Il numero e' PARI!\"\n",
    "    Input: 675 - Output: \"Il numero e' DISPARI!\"\n"
   ]
  },
  {
   "cell_type": "code",
   "execution_count": null,
   "metadata": {},
   "outputs": [],
   "source": [
    "# Inserisci qui la soluzione\n",
    "\n",
    "numero = int(input())\n",
    "if (numero%2==0):\n",
    "    print(\"Il numero e' PARI!\")\n",
    "else:\n",
    "    print(\"Il numero e' DISPARI!\")\n"
   ]
  },
  {
   "cell_type": "markdown",
   "metadata": {},
   "source": [
    "# 3.3 - Esercizio: Positivo o Negativo\n",
    "Scrivi un programma che prende un numero e determina se è positivo o negativo.\n",
    "\n",
    "Ad esempio\n",
    "\n",
    "    Input: 46 - Output: \"Il numero e' POSiTiVO!\"\n",
    "    Input: -675 - Output: \"Il numero e' NEGATIVO!\"\n"
   ]
  },
  {
   "cell_type": "code",
   "execution_count": null,
   "metadata": {},
   "outputs": [],
   "source": [
    "# Inserisci qui la soluzione\n",
    "\n",
    "numero = int(input())\n",
    "if (numero>=0):\n",
    "    print(\"Il numero e' POSITIVO!\")\n",
    "else:\n",
    "    print(\"Il numero e' NEGATIVO!\")\n"
   ]
  },
  {
   "cell_type": "markdown",
   "metadata": {},
   "source": [
    "# 3.4 - Esercizio: 3.1 + 3.2 + 3.3\n",
    "Scrivi un programma che prende in ingresso un numero e determini se è positivo o negativo, pari o dispari, e se termina con 5. Attenzione che la stampa di uscita deve essere una unica riga.\n",
    "\n",
    "Ad esempio:\n",
    "\n",
    "    Input: 46 - Output: \"Il numero è PARI, POSITIVO, e NON TERMINA con il numero 5\"\n",
    "    Input: -675 - Output: \"Il numero è DISPARI, NEGATIVO, e TERMINA con il numero 5\"\n",
    "    Input: -52 - Output: \"Il numero è PARI, NEGATIVO, e NON TERMINA con il numero 5\""
   ]
  },
  {
   "cell_type": "code",
   "execution_count": null,
   "metadata": {},
   "outputs": [],
   "source": [
    "# Inserisci qui la soluzione\n",
    "\n",
    "\n",
    "numero = int(input())\n",
    "\n",
    "if (numero%2==0):\n",
    "    pari=\"PARI\"\n",
    "else:\n",
    "    pari=\"DISPARI\"\n",
    "if (numero>=0):\n",
    "    positivo=\"POSITIVO\"\n",
    "else:\n",
    "    positivo=\"NEGATIVO\"\n",
    "if (numero%10==5):\n",
    "    cinque=\"TERMINA\"\n",
    "else:\n",
    "    cinque=\"NON TERMINA\"\n",
    "\n",
    "\n",
    "print(\"Il numero e' \" + pari + \", \" + positivo +\", e \" + cinque+ \" con il numero 5\")\n"
   ]
  },
  {
   "cell_type": "markdown",
   "metadata": {},
   "source": [
    "# 3.5 - Esercizio: Minimo tra 2 numeri\n",
    "Scrivi un programma che prende in ingresso 2 numeri e determini quale dei due è più piccolo."
   ]
  },
  {
   "cell_type": "code",
   "execution_count": null,
   "metadata": {},
   "outputs": [],
   "source": [
    "# Inserisci qui la soluzione\n",
    "\n",
    "a= int(input())\n",
    "b= int(input())\n",
    "if (a>b):\n",
    "    print(str(a) + \" è più grande di \" + str(b))\n",
    "else:\n",
    "    print(str(b) + \" è più grande di \" + str(a))\n",
    "    "
   ]
  },
  {
   "cell_type": "markdown",
   "metadata": {},
   "source": [
    "# 3.6 - Esercizio: Quanti Dispari\n",
    "Scrivi un programma che prende in ingresso 2 numeri e determini se entrambi sono dispari, se solo uno è dispari o se nessuno dei due è dispari."
   ]
  },
  {
   "cell_type": "code",
   "execution_count": null,
   "metadata": {},
   "outputs": [],
   "source": [
    "# Inserisci qui la soluzione\n",
    "\n",
    "a= int(input())\n",
    "b= int(input())\n",
    "if (a%2==0) and (b%2==0):\n",
    "    print(\"Nessun dispari!\")\n",
    "elif (a%2==1) and (b%2==1):\n",
    "    print(\"Entrambi dispari!\")\n",
    "else:\n",
    "    print(\"Un solo dispari!\")\n",
    "\n"
   ]
  },
  {
   "cell_type": "markdown",
   "metadata": {},
   "source": [
    "\n",
    "# 3.7 - Esercizio: 3 Numeri in ordine\n",
    "Scrivi un programma che dati 3 numeri in ingresso li stampi in uscita in ordine crescente.\n"
   ]
  },
  {
   "cell_type": "code",
   "execution_count": null,
   "metadata": {},
   "outputs": [],
   "source": [
    "# Inserisci qui la soluzione\n",
    "\n",
    "a=10\n",
    "b=10\n",
    "c=14\n",
    "\n",
    "if a>=b and a>=c:\n",
    "    if b>=c:\n",
    "        print(a,b,c)\n",
    "    else:\n",
    "        print(a,c,b)\n",
    "elif b>=a and b>=c:\n",
    "    if a>=c:\n",
    "        print(b,a,c)\n",
    "    else:\n",
    "        print(b,c,a)\n",
    "elif c>=a and c>=a:\n",
    "    if a>=b:\n",
    "        print(c,a,b)\n",
    "    else:\n",
    "        print(c,b,a)\n",
    "else:\n",
    "    print(\"strano...\")\n"
   ]
  },
  {
   "cell_type": "markdown",
   "metadata": {},
   "source": [
    "# 3.8 - Esercizio: E' composto da 3 cifre?\n",
    "Scrivi un programma che dato un numero positivo, di qualsiasi numero di cifre, determini se è composto da sole 3 cifre.\n",
    "\n",
    "Ad esempio:\n",
    "\n",
    "    Input: 46 - Output: \"Il numero NON e' di 3 cifre!\"\n",
    "    Input: 675 - Output: \"Il numero e' di 3 cifre!\"\n",
    "    Input: 52 - Output: \"Il numero NON e' di 3 cifre!\""
   ]
  },
  {
   "cell_type": "code",
   "execution_count": null,
   "metadata": {},
   "outputs": [],
   "source": [
    "# Inserisci qui la soluzione\n",
    "\n",
    "numero  = int(input())\n",
    "if (numero>99 and numero<1000):\n",
    "    print(\"Il numero e' di 3 cifre!\")\n",
    "else:\n",
    "    print(\"Il numero NON e' di 3 cifre!\")\n"
   ]
  },
  {
   "cell_type": "markdown",
   "metadata": {},
   "source": [
    "# 3.9 - Esercizio: Numero palindromo a 4 cifre\n",
    "Scrivi un programma che dato un numero positivo a 4 cifre, determini se il numero è palindromo o no.\n",
    "\n",
    "Un numero palindromo è un numero che si legge allo stesso modo sia da sinistra a destra, che da destra a sinistra.\n",
    "\n",
    "Ad esempio:\n",
    "\n",
    "    Input: 4664 - Output: \"Il numero e' palindromo!\"\n",
    "    Input: 6755 - Output: \"Il numero NON e' palindromo!\"\n",
    "    Input: 5225 - Output: \"\"Il numero e' palindromo!\""
   ]
  },
  {
   "cell_type": "code",
   "execution_count": null,
   "metadata": {},
   "outputs": [],
   "source": [
    "# Inserisci qui la soluzione\n",
    "\n",
    "numero = int(input())\n",
    "\n",
    "unita = numero%10\n",
    "numero = numero//10\n",
    "decine = numero%10\n",
    "numero = numero//10\n",
    "centinaia = numero%10\n",
    "numero = numero//10\n",
    "migliaia = numero%10\n",
    "\n",
    "if ((migliaia == unita) and (decine == centinaia)):\n",
    "    print(\"Il numero e' Palindromo!\")\n",
    "else:\n",
    "    print(\"Il numero NON e' Palindromo!\")\n",
    "\n"
   ]
  },
  {
   "cell_type": "markdown",
   "metadata": {},
   "source": [
    "# 3.10 - Esercizio: 3.9 plus (+3.8)\n",
    "Modifica il precedente programma riconoscendo quando il numero inserito non è di 4 cifre. \n",
    "\n",
    "Ad esempio:\n",
    "\n",
    "    Input: 4664 - Output: \"Il numero e' palindromo!\"\n",
    "    Input: 52256 - Output: \"\"Il numero NON è composto da 4 cifre!\"\n",
    "    Input: 6755 - Output: \"Il numero NON e' palindromo!\"\n",
    "    Input: 522 - Output: \"\"Il numero NON è composto da 4 cifre!\""
   ]
  },
  {
   "cell_type": "code",
   "execution_count": null,
   "metadata": {},
   "outputs": [],
   "source": [
    "# Inserisci qui la soluzione\n",
    "\n",
    "numero  = int(input())\n",
    "if (numero>9999 or numero<1000):\n",
    "    print(\"Il numero NON e' di 4 cifre!\")\n",
    "else:\n",
    "    unita = numero%10\n",
    "    numero = numero//10\n",
    "    decine = numero%10\n",
    "    numero = numero//10\n",
    "    centinaia = numero%10\n",
    "    numero = numero//10\n",
    "    migliaia = numero%10\n",
    "    if ((migliaia == unita) and (decine == centinaia)):\n",
    "        print(\"Il numero e' Palindromo!\")\n",
    "    else:\n",
    "        print(\"Il numero NON e' Palindromo!\")\n"
   ]
  },
  {
   "cell_type": "markdown",
   "metadata": {},
   "source": [
    "# 3.11 - Esercizio: Anno Bisestile\n",
    "Scrivere un programma che prendendo in ingresso un anno (passato o futuro), determini se tale anno è bisestile o no.\n",
    "\n",
    "Le regole che determinano se un anno è bisestile o no nel calendario Gregoriano sono le seguenti: Un anno è bisestile se è divisibile per 4 ma non per 100, Un anno è bisestile però se è divisibile per 400.\n",
    "\n",
    "Ad Esempio:\n",
    "\n",
    "    1996 -> Bisestile\n",
    "    2013 -> Non Bisestile\n",
    "    2000 -> Bisestile\n",
    "    2019 -> Non Bisestile\n",
    "    2100 -> Non Bisestile\n",
    "    500 -> Non Bisestile\n",
    "    504 -> Bisestile"
   ]
  },
  {
   "cell_type": "code",
   "execution_count": null,
   "metadata": {},
   "outputs": [],
   "source": [
    "# Inserisci qui la soluzione\n",
    "\n",
    "anno = int(input())\n",
    "\n",
    "if ((anno%4!=0) or (anno%100==0 and anno%400!=0)):\n",
    "    print(\"NON Bisestile\")\n",
    "else:\n",
    "    print(\"Bisestile\")\n"
   ]
  },
  {
   "cell_type": "markdown",
   "metadata": {},
   "source": [
    "# 3.12 - Esercizio: Giorni del Mese\n",
    "Scrivere un programma che prendendo in ingresso un mese come numero (1-12) e ne stampi a video il numero di giorni di cui è composto. Si consideri sempre e solo anni non bisestili."
   ]
  },
  {
   "cell_type": "code",
   "execution_count": null,
   "metadata": {},
   "outputs": [],
   "source": [
    "# Inserisci qui la soluzione\n",
    "\n",
    "mese = int(input())\n",
    "\n",
    "if (mese==1 or mese==3 or mese==5 or mese==7 or mese==8 or mese==10 or mese==12):\n",
    "    print(31)\n",
    "elif (mese ==2):\n",
    "    print(28)\n",
    "else:\n",
    "    print(30)\n"
   ]
  },
  {
   "cell_type": "markdown",
   "metadata": {},
   "source": [
    "**Come cambierebbe il precedente esercizio nel caso in cui il mese venga preso in ingresso come stringa?**"
   ]
  },
  {
   "cell_type": "markdown",
   "metadata": {},
   "source": [
    "# 3.13 - Esercizio: I triangoli\n",
    "Scrivere un programma che prendendo in ingresso la dimensione di 3 lati di un triangolo, determini se il triangolo è Equilatero, Isoscele o Scaleno."
   ]
  },
  {
   "cell_type": "code",
   "execution_count": null,
   "metadata": {},
   "outputs": [],
   "source": [
    "# Inserisci qui la soluzione\n",
    "\n",
    "#Traccia... Verifica prima che sia un triangolo. la somma di 2 lati deve essere superiore al 3o (per ogni coppia di lati)\n",
    "#Equilatero L1==L2 and L2==L3\n",
    "#Scaleno L1!=L2 and L1!=L3 and L2!=L3\n",
    "#Isoscele altrimenti.\n"
   ]
  },
  {
   "cell_type": "markdown",
   "metadata": {},
   "source": [
    "# Esercizio Riassuntivo: Cellulare, quanto mi costi?\n",
    "\n",
    "Un operatore telefonico ha deciso di lanciare una nuova tariffa che ha chiamate e SMS illimitati ma ha un costo sul traffico dati (\"I Giga\") come segue:\n",
    "\n",
    "    Ha un valore fisso di 5euro per i primi 8 GigaByte;\n",
    "    Costa 3 euro per tutti i successivi 7 GigaByte;\n",
    "    Costa 1 euro per ognuno dei successivi GigaByte.\n",
    "    \n",
    "Prendendo in ingresso la quantità di GigaByte che ci si aspetta di consumare nel mese, determinare quanto si verrebbe a spendere in tutto."
   ]
  },
  {
   "cell_type": "code",
   "execution_count": null,
   "metadata": {},
   "outputs": [],
   "source": [
    "# Inserisci qui la soluzione\n",
    "\n",
    "giga = int(input())\n",
    "costo=0\n",
    "\n",
    "if giga<=8:\n",
    "    costo=5\n",
    "elif giga<(8+7):\n",
    "    costo=5+3\n",
    "else:\n",
    "    costo= (giga-15)*1+8\n",
    "print(\"Al mese spenderai: \" +str(costo)\n",
    "    "
   ]
  },
  {
   "cell_type": "code",
   "execution_count": null,
   "metadata": {},
   "outputs": [],
   "source": []
  }
 ],
 "metadata": {
  "kernelspec": {
   "display_name": "Python 3",
   "language": "python",
   "name": "python3"
  },
  "language_info": {
   "codemirror_mode": {
    "name": "ipython",
    "version": 3
   },
   "file_extension": ".py",
   "mimetype": "text/x-python",
   "name": "python",
   "nbconvert_exporter": "python",
   "pygments_lexer": "ipython3",
   "version": "3.6.4"
  }
 },
 "nbformat": 4,
 "nbformat_minor": 2
}
