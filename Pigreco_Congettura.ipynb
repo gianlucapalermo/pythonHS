{
 "cells": [
  {
   "cell_type": "markdown",
   "metadata": {},
   "source": [
    "# Lo calcolo io il valore del PIGRECO!\n",
    "Si vuole scrivere un programma che calcoli il valore del pigreco in maniera più precisa di \"3.14\", simulando usando ancora il metodo montecarlo la situazione di una persona dispersa nel deserto che come ultimo desiderio abbia quello di conoscere il valore del pigreco in maniera più precisa. La persona nel deserto ha a disposizione solo una stringa per le scarpe e un bastone (spezzabile) lungo quanto quanto la stringa."
   ]
  },
  {
   "cell_type": "code",
   "execution_count": null,
   "metadata": {},
   "outputs": [],
   "source": [
    "\n",
    "\n",
    "\n",
    "\n",
    "\n",
    "\n"
   ]
  },
  {
   "cell_type": "markdown",
   "metadata": {},
   "source": [
    "# La congettura di Goldbach\n",
    "In matematica, la congettura di Goldbach è uno dei più vecchi problemi irrisolti nella teoria dei numeri. Essa afferma che ogni numero pari maggiore di 2 può essere scritto come somma di due numeri primi (che possono essere anche uguali)."
   ]
  },
  {
   "cell_type": "markdown",
   "metadata": {},
   "source": [
    "Si scriva un programma che preso in ingresso un numero che rispetti la condizione <2 e pari, stampi a video tutte le coppie di numeri primi che sommate lo generano."
   ]
  },
  {
   "cell_type": "code",
   "execution_count": null,
   "metadata": {},
   "outputs": [],
   "source": [
    "#Per risolverlo si faccia uso di una funzione da implementare che verifichi dato un numero che il numero è primo.\n",
    "\n",
    "\n",
    "\n",
    "\n",
    "\n"
   ]
  },
  {
   "cell_type": "markdown",
   "metadata": {},
   "source": [
    "Si scriva un programma che preso in ingresso un numero, verifichi se la congettura di Goldbach è vera per tutti i numeri inferiori a quello dato. (Attenzione a non dare numeri troppo grandi)."
   ]
  },
  {
   "cell_type": "code",
   "execution_count": null,
   "metadata": {},
   "outputs": [],
   "source": [
    "\n",
    "\n",
    "\n",
    "\n",
    "\n",
    "\n",
    "\n"
   ]
  }
 ],
 "metadata": {
  "kernelspec": {
   "display_name": "Python 3",
   "language": "python",
   "name": "python3"
  },
  "language_info": {
   "codemirror_mode": {
    "name": "ipython",
    "version": 3
   },
   "file_extension": ".py",
   "mimetype": "text/x-python",
   "name": "python",
   "nbconvert_exporter": "python",
   "pygments_lexer": "ipython3",
   "version": "3.6.4"
  }
 },
 "nbformat": 4,
 "nbformat_minor": 2
}
