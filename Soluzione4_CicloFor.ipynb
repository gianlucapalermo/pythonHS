{
 "cells": [
  {
   "cell_type": "markdown",
   "metadata": {},
   "source": [
    "# 4.1 - Esercizio: Tabelline\n",
    "Scrivi un programma che prende un numero a ne scriva la tabellina.\n",
    "      "
   ]
  },
  {
   "cell_type": "code",
   "execution_count": null,
   "metadata": {},
   "outputs": [],
   "source": [
    "# Inserisci qui la soluzione\n",
    "\n",
    "numero = int(input(\"Dammi un numero, ti calclolerò la sua tabellina:\"))\n",
    "tabellina=[]\n",
    "for i in range(10):\n",
    "    tabellina.append(numero*(i+1))\n",
    "\n",
    "print(tabellina)\n"
   ]
  },
  {
   "cell_type": "markdown",
   "metadata": {},
   "source": [
    "# 4.2 - Esercizio: Conta fino a N\n",
    "Scrivi un programma che prende un numero N in ingresso e stampi a video tutti i numeri fino N compreso.\n"
   ]
  },
  {
   "cell_type": "code",
   "execution_count": null,
   "metadata": {},
   "outputs": [],
   "source": [
    "# Inserisci qui la soluzione\n",
    "\n",
    "numero = int(input(\"Ti stamperò a video i numeri da 0 a N. Dammi N: \"))\n",
    "\n",
    "for i in range(numero+1):\n",
    "    print(i)\n"
   ]
  },
  {
   "cell_type": "markdown",
   "metadata": {},
   "source": [
    "# 4.3 - Esercizio: Numero Primo\n",
    "Scrivi un programma che prende un numero N in ingresso determini se questo è primo o no."
   ]
  },
  {
   "cell_type": "code",
   "execution_count": null,
   "metadata": {},
   "outputs": [],
   "source": [
    "# Inserisci qui la soluzione\n",
    "\n",
    "numero = int(input(\"Dammi un numero, ti dirò se è primo:\"))\n",
    "\n",
    "numeroPrimo=True\n",
    "for i in range(2,numero):\n",
    "    if (numero%i==0):\n",
    "        numeroPrimo=False\n",
    "        break\n",
    "if numeroPrimo==True:\n",
    "    print(\"Numero Primo!\")\n",
    "else: \n",
    "    print(\"Numero NON primo!\")\n"
   ]
  },
  {
   "cell_type": "markdown",
   "metadata": {},
   "source": [
    "\n",
    "# 4.4 - Esercizio: Numeri Primi <N\n",
    "Scrivi un programma che dato un numero N stampi tutti i numeri primi <N."
   ]
  },
  {
   "cell_type": "code",
   "execution_count": null,
   "metadata": {},
   "outputs": [],
   "source": [
    "# Inserisci qui la soluzione\n",
    "\n",
    "#SUGGERIMENTO, usa l'esercizio 4.3 facendo aumentare mano a \n",
    "#mano il valore da controllare fino ad N\n",
    "\n",
    "\n",
    "\n"
   ]
  },
  {
   "cell_type": "markdown",
   "metadata": {},
   "source": [
    "# 4.5 - Esercizio: Su o Giù\n",
    "Scrivi un programma che dati due numeri A e B, conti da A a B in ordine crescente se A è minore di B o in ordine decrescente se A è maggiore di B."
   ]
  },
  {
   "cell_type": "code",
   "execution_count": null,
   "metadata": {},
   "outputs": [],
   "source": [
    "# Inserisci qui la soluzione\n",
    "\n",
    "A = int(input())\n",
    "B = int(input())\n",
    "\n",
    "if A>B: \n",
    "    step =-1\n",
    "    B=B-1\n",
    "else:\n",
    "    step=1\n",
    "    B=B+1\n",
    "    \n",
    "for i in range(A,B,step):\n",
    "    print(i)"
   ]
  },
  {
   "cell_type": "markdown",
   "metadata": {},
   "source": [
    "# 4.6 - Esercizio: Somma dei primi N numeri\n",
    "Scrivere un programma che dato un numero N, stampi a video la somma dei primi N numeri."
   ]
  },
  {
   "cell_type": "code",
   "execution_count": null,
   "metadata": {},
   "outputs": [],
   "source": [
    "# Inserisci qui la soluzione\n",
    "\n",
    "numero = int(input(\"Dammi N, ti calcolerò la somma dei primi N numeri: \"))\n",
    "\n",
    "somma=0\n",
    "for i in range(numero+1):\n",
    "    somma = somma + i\n",
    "\n",
    "print(somma)"
   ]
  },
  {
   "cell_type": "markdown",
   "metadata": {},
   "source": [
    "# 4.7 - Esercizio: Ripetizioni di una lettera\n",
    "Scrivere un programma che data una stringa conti quante volte una determinata lettera presa in ingresso è presente nella stringa stessa."
   ]
  },
  {
   "cell_type": "code",
   "execution_count": null,
   "metadata": {},
   "outputs": [],
   "source": [
    "# Inserisci qui la soluzione\n",
    "frase = input(\"Dammi una Frase: \")\n",
    "lettera = input(\"Dammi una lettera e ti dirò quante volte c'è: \")\n",
    "\n",
    "ripetizioni = 0\n",
    "for i in frase:\n",
    "    if i==lettera:\n",
    "        ripetizioni=ripetizioni+1\n",
    "\n",
    "print(\"La lettera è presente \"+ str(ripetizioni)+\" votle\")"
   ]
  },
  {
   "cell_type": "markdown",
   "metadata": {},
   "source": [
    "# 4.8 - Esercizio: Ripetizioni di un numero\n",
    "Scrivi un programma che data una lista di numeri, determini quanti istanze di un numero preso in ingresso ci siano. \n",
    "\n",
    "    Non si faccia uso delle funzioni sulle liste!"
   ]
  },
  {
   "cell_type": "code",
   "execution_count": null,
   "metadata": {},
   "outputs": [],
   "source": [
    "# Inserisci qui la soluzione\n",
    "listaNum = [55, 66, 77, 33, 33, 8943, 1, 6, 6, 6, 321]\n",
    "print(\"Data la seguente lista di numeri\")\n",
    "print(listaNum)\n",
    "numero = int(input(\"Dammi un numero è ti dirò quante volte c'è: \"))\n",
    "\n",
    "ripetizioni = 0\n",
    "for x in listaNum:\n",
    "    if x==numero:\n",
    "        ripetizioni=ripetizioni+1\n",
    "\n",
    "print(\"il numero è presente \"+ str(ripetizioni)+\" votle\")"
   ]
  },
  {
   "cell_type": "markdown",
   "metadata": {},
   "source": [
    "# 4.9 - Esercizio : Il più grande\n",
    "\n",
    "Si scriva un programma che presi in ingresso 10 numeri, ne stampi a video il più grande."
   ]
  },
  {
   "cell_type": "code",
   "execution_count": null,
   "metadata": {},
   "outputs": [],
   "source": [
    "# Inserisci qui la soluzione\n",
    "massimo=0\n",
    "print(\"Dammi 10 numeri ti dirò quale è il più grande\")\n",
    "for i in range(10):\n",
    "    numero = int(input())\n",
    "    if massimo<numero:\n",
    "        massimo=numero\n",
    "print(\"il più grande numero inserito è: \"+ str(massimo))\n"
   ]
  },
  {
   "cell_type": "markdown",
   "metadata": {},
   "source": [
    "# 4.10 - Esercizio: Raddoppia contenuto lista\n",
    "Scrivi un programma che data una lista di 10 numeri, ne raddoppi i valori. "
   ]
  },
  {
   "cell_type": "code",
   "execution_count": null,
   "metadata": {},
   "outputs": [],
   "source": [
    "# Inserisci qui la soluzione\n",
    "listaNum = [55, 66, 77, 33, 33, 8943, 1, 6, 6, 321]\n",
    "listaNum2=[]\n",
    "for i in range(len(listaNum)):\n",
    "    listaNum2.append(listaNum[i]*2)\n",
    "\n",
    "print(listaNum2)"
   ]
  },
  {
   "cell_type": "markdown",
   "metadata": {},
   "source": [
    "# Esercizio Riassuntivo: Giorno dell'anno\n",
    "\n",
    "Si scriva un programma che preso in ingresso un numero tra 1 e 365, determini che giorno e che mese è all'interno dell'anno. Si consideri sempre un anno non bisestile.\n",
    "\n",
    "    Esempi: \n",
    "        Input 12, la risposta è 12 Gennaio (o 12-1)\n",
    "        Input 100, la risposta è il 10 Aprile (o 10-4)\n"
   ]
  },
  {
   "cell_type": "code",
   "execution_count": null,
   "metadata": {},
   "outputs": [],
   "source": [
    "# Inserisci qui la soluzione\n",
    "\n",
    "numero = int(input(\"Dammi un giorno dell'anno (da 1 a 365) ti dirò che giorno è: \"))\n",
    "\n",
    "giorniDeiMesi = [31, 28, 31, 30, 31, 30, 31, 31, 30, 31, 30, 31]\n",
    "\n",
    "for i in range(12):\n",
    "    if numero <= giorniDeiMesi[i]:\n",
    "        mese=i+1;\n",
    "        giorno=numero;\n",
    "        break\n",
    "    else: \n",
    "        numero=numero-giorniDeiMesi[i]\n",
    "\n",
    "print(str(giorno) + \"-\" + str(mese))\n",
    "    "
   ]
  },
  {
   "cell_type": "code",
   "execution_count": null,
   "metadata": {},
   "outputs": [],
   "source": []
  }
 ],
 "metadata": {
  "kernelspec": {
   "display_name": "Python 3",
   "language": "python",
   "name": "python3"
  },
  "language_info": {
   "codemirror_mode": {
    "name": "ipython",
    "version": 3
   },
   "file_extension": ".py",
   "mimetype": "text/x-python",
   "name": "python",
   "nbconvert_exporter": "python",
   "pygments_lexer": "ipython3",
   "version": "3.6.4"
  }
 },
 "nbformat": 4,
 "nbformat_minor": 2
}
