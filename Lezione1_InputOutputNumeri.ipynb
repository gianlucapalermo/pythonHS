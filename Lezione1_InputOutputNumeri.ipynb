{
 "cells": [
  {
   "cell_type": "markdown",
   "metadata": {},
   "source": [
    "# Come leggere e scrivere in Python\n",
    "\n",
    "Ogni programma può essere visto come un oggetto che elabora dei dati (o in generale delle informazioni). Prima di fare qualsiasi cosa dobbiamo imparare come possiamo dare in ingresso e ricevere in uscita rispettivamente i dati da elaborare e il risultato della elaborazione. \n",
    "In Python esiste una funzione chiamata guardacaso print() che è usata per comunicarte qualcosa in uscita da un programma Python. Per usarla dobbiamo passare il contenuto che vogliamo stampare alla funzione print, ponendolo all'interno delle parentesi. Se vogliamo stampare più cose possiamo o richiamare più volte la funzione print o separare gli argomenti da stampare con una virgola.\n",
    "\n",
    "Guarda gli esempi qui sotto e premi \"run\" per vedere l'effetto degli esempi qui sotto riportati. "
   ]
  },
  {
   "cell_type": "markdown",
   "metadata": {},
   "source": [
    "Cosa ti aspetti di ottenere in uscita?"
   ]
  },
  {
   "cell_type": "code",
   "execution_count": null,
   "metadata": {},
   "outputs": [],
   "source": [
    "print(\"CIAO\")"
   ]
  },
  {
   "cell_type": "markdown",
   "metadata": {},
   "source": [
    "Cosa ti aspetti di ottenere in uscita?"
   ]
  },
  {
   "cell_type": "code",
   "execution_count": null,
   "metadata": {},
   "outputs": [],
   "source": [
    "print(5)"
   ]
  },
  {
   "cell_type": "markdown",
   "metadata": {},
   "source": [
    "Ora più difficile, Cosa ti aspetti di ottenere in uscita?"
   ]
  },
  {
   "cell_type": "code",
   "execution_count": null,
   "metadata": {},
   "outputs": [],
   "source": [
    "print(5 + 10)"
   ]
  },
  {
   "cell_type": "markdown",
   "metadata": {},
   "source": [
    "... e ora?!?!     :'("
   ]
  },
  {
   "cell_type": "code",
   "execution_count": null,
   "metadata": {},
   "outputs": [],
   "source": [
    "print(3 * 7, (17 - 2) * 8)\n",
    "\n",
    "print(2 ** 16) \n",
    "\n",
    "print(37 / 3)  \n",
    "\n",
    "print(37 // 3)  \n",
    "\n",
    "print(37 % 3) "
   ]
  },
  {
   "cell_type": "markdown",
   "metadata": {},
   "source": [
    "Quello che abbiamo appena visto è oltre, a qualche esempio di uso della funzione print(), è l'uso di Python come una semplice calcolatrice.\n",
    "\n",
    "Infatti in Python in aggiunta agli operatori semplici sono implementati anche quelli \"meno tradizionali\". Ad esempio le due \"stelline\" (\\*\\*) sono usate per l'elevamento a potenza, la \"doppia barra\" (\\\\\\\\) è usata per la divisione intera e il percento (%) è usato per recuparare il resto della divisione intera.\n"
   ]
  },
  {
   "cell_type": "markdown",
   "metadata": {},
   "source": [
    "Prima di proseguire vediamo come sia possibile usare una variabile. Il segno uguale (=) è usato per assegnare un valore ad una variabile.\n",
    "Sul lato sinistro dell'operatore di assegnamento si trova il nome della variabile al quale vogliamo assegnare un valore. Il nome può essere una stringa di caratteri (A-Z, a-z, 0-9, _) ma deve iniziare per forza con una lettera maiuscola o minuscola (A-Z o a-z). \n",
    "Sul lato destro dell'operatore di assegnamento possiamo inserire una qualisasi espressione che Python può valutare. \n",
    "A seguire di questo assegnamento, il nome della variabile sarà associata al risultato della valutazione.\n",
    "\n",
    "Facciamo un semplice esempio calcolando l'area di un rettangolo con 2 lati di valore assegnato."
   ]
  },
  {
   "cell_type": "code",
   "execution_count": null,
   "metadata": {},
   "outputs": [],
   "source": [
    "latoMaggiore = 4\n",
    "latoMinore = 3\n",
    "areaRettangolo = 4*3 # ma anche areaRettangolo = latoMaggiore * latoMinore\n",
    "print(areaRettangolo)"
   ]
  },
  {
   "cell_type": "markdown",
   "metadata": {},
   "source": [
    "Facciamo ora un altro passo in avanti. Possiamo non solo scrivere qualcosa in output ma possiamo anche dare in ingresso dei valori ad un programma in modo da poterlo riusare con dati diversi. Ad esempio potrei essere interessato a calcolare l'area di un rettangolo di dimensioni diverse da 4 * 3.\n",
    "Prima di implementare il nostro programma che calcola l'area di un rettangolo di dimensioni qualunque lette in ingresso, facciamo prima un piccolo passo intermedio.\n",
    "\n",
    "Per dare dati in ingresso ad un programma posso usare la funzione input(). Questa funzione legge una linea di testo data in ingresso come una Stringa (sequenza di caratteri).\n",
    "\n",
    "Vediamo qui un semplice programma:"
   ]
  },
  {
   "cell_type": "code",
   "execution_count": null,
   "metadata": {},
   "outputs": [],
   "source": [
    "name = input() \n",
    "print(name)"
   ]
  },
  {
   "cell_type": "markdown",
   "metadata": {},
   "source": [
    "Ok, quessto ci piace. Possiamo rendere il tutto pià interessante con quello che abbiamo imparato fino ad ora?\n",
    "Ovviamente la risposta è si. Qui di seguito è un programma che legge il nome dell'utente e lo saluta:"
   ]
  },
  {
   "cell_type": "code",
   "execution_count": null,
   "metadata": {},
   "outputs": [],
   "source": [
    "print(\"Come ti chiami?\")\n",
    "name = input() \n",
    "print(\"Ciao \" + name + \"! Benvenuto al corso di CODING!\")"
   ]
  },
  {
   "cell_type": "markdown",
   "metadata": {},
   "source": [
    "Per capire bene l'esempio precedente dobbiamo capire che la somma di due stringhe in Python ha come effetto la concatenazione delle stesse. \n",
    "\n",
    "\"Gian\" + \"luca\" => \"Gianluca\"\n",
    "\n",
    "Prendi ispirazione dal precedente esempio e prova a generare un piccolo programmino che usi una stringa presa in ingresso con la funzione input()."
   ]
  },
  {
   "cell_type": "code",
   "execution_count": null,
   "metadata": {},
   "outputs": [],
   "source": [
    "print(\"Quale è la tua materia preferita?\")\n",
    "name = input()\n",
    "print(name + \" è bella, ma CONDING molto di più\")"
   ]
  },
  {
   "cell_type": "markdown",
   "metadata": {},
   "source": [
    "Ritornando all'esercizio del calcolo dell'area di un rettangolo, potrei usando la stessa tecnica prendere in ingresso i valori del lato maggiore e lato minore, e calcolarne il valore. \n",
    "\n",
    "Ottima intuizione! Prima di farlo però proviamo a fare qualcosa di più semplice.\n",
    "\n",
    "Scriviamo un programma che presi due numeri in ingresso ne stampi la somma."
   ]
  },
  {
   "cell_type": "code",
   "execution_count": null,
   "metadata": {},
   "outputs": [],
   "source": [
    "a = 5\n",
    "b = 7\n",
    "s = a + b\n",
    "print(s)"
   ]
  },
  {
   "cell_type": "markdown",
   "metadata": {},
   "source": [
    "Perfetto, ma proviamo a prendere i due valori in ingresso usando la funzione input().\n",
    "Leggiamo i due valori e salviamoli temporaneamente in due variabili a e b usando l'operatore di assegnamento, facciamone la somma e stampiamone il risultato.  \n",
    "\n",
    "Guardate il seguente esempio, assegnate 5 e 7 ai due valori e analizzatene l'uscita. Era quello che vi aspettavate?"
   ]
  },
  {
   "cell_type": "code",
   "execution_count": null,
   "metadata": {},
   "outputs": [],
   "source": [
    "a = input()\n",
    "b = input()\n",
    "s = a + b\n",
    "print(s)"
   ]
  },
  {
   "cell_type": "markdown",
   "metadata": {},
   "source": [
    "Dopo aver eseguito l'esempio possiamo vedere che il risultato stampato è 57! A scuola mi hanno insegnato invece che il risultato doveva essere qualcos'altro. Questo significa che il programma ha qualcosa di sbagliato al suo interno, ed è importante capire il perchè è sbagliato.\n",
    "\n",
    "\n",
    "\n",
    "\n",
    "Il problema è che la terza linea di codice \"s = a + b\" dice di \"sommare\" due stringe e non due numeri. Vi state chiedendo del perchè? \n",
    "Per capirlo dobbiamo andare a rileggere cosa fa la funzione input() qualche passo indietro.\n",
    "\n",
    "**Per dare dati in ingresso ad un programma posso usare la funzione input(). Questa funzione legge una linea di testo data in ingresso come una Stringa (sequenza di caratteri).**\n",
    "\n",
    "Inoltre ci ricordiamo anche che la somma di due stringhe in Python rappresenta l'operazione di concatenazione.\n",
    "\n",
    "Questo significa che stringhe e numeri in Python sono trattati in maniera differente. Inoltre, nonostante una stringa contenga un numero, Python \"non lo capisce\" e continua a trattarlo come stringa.\n",
    "\n",
    "Tutti i valori in Python sono chiamati oggetti. Ogni oggetto è associato ad un certo \"tipo\". Ad esempio il numero 2 p associato ad un oggetto di tipo numero intero (int), cioè un numero intero. La stringa \"CODING\" è associata ad un oggetto di tipo stringa (str). Un numero con la virgola è rappresentato da un oggetto di tipo numero floating point (float). \n",
    "\n",
    "Il tipo di un oggetto non sola ne caratterizza il contenuto ma anche quali operazioni possono esserne applicate.\n",
    "Per esempio se ho due variabilil \"prima\" e \"seconda\" di tipo intero (int), con Python posso facilmente moltiplicarli:"
   ]
  },
  {
   "cell_type": "code",
   "execution_count": null,
   "metadata": {},
   "outputs": [],
   "source": [
    "prima = 5\n",
    "seconda = 7\n",
    "print(prima * seconda)"
   ]
  },
  {
   "cell_type": "markdown",
   "metadata": {},
   "source": [
    "Diverso è se ho due variabili di tipo stringa (str). In questo caso, Python non definisce nessuna operazione di moltiplicazione tra stringhe e quindi non può farlo."
   ]
  },
  {
   "cell_type": "code",
   "execution_count": null,
   "metadata": {},
   "outputs": [],
   "source": [
    "# posso usare sia il singolo che il doppio apice per definire una stringa\n",
    "first = '5'\n",
    "second = \"7\"\n",
    "print(first * second)"
   ]
  },
  {
   "cell_type": "markdown",
   "metadata": {},
   "source": [
    "Come faccio allora a prendere in ingresso 2 valori con la funzione input() dato che legge tutto come stringa?\n",
    "\n",
    "Per farlo devo usare una funzionalità di Python chiamata \"cast\" (trasformazione di tipo). Questa funzionalità serve per convertire un tipo in un altro. Ad esempio, per trasformare una stringa in un intero posso usare la funzionalità di conversione chiamando la funzione int().  int(\"23\") resituisce il valore 23 a partire dalla stringa \"23\".\n",
    "\n",
    "Ora possiamo finalmente sommare due numeri presi in ingresso e averne il risultato corretto modificando semplicemente le due righe iniziali. Dando in ingresso 5 e 7, fortunatamente ora il risultato è quello atteso!"
   ]
  },
  {
   "cell_type": "code",
   "execution_count": null,
   "metadata": {},
   "outputs": [],
   "source": [
    "a = int(input())\n",
    "b = int(input())\n",
    "s = a + b\n",
    "print(s)"
   ]
  },
  {
   "cell_type": "markdown",
   "metadata": {},
   "source": [
    "Ora abbiamo tutto in mano! Modifichiamo il seguente codice in modo da calcolare l'area di un rettangolo presi in ingresso i valori dei due lati."
   ]
  },
  {
   "cell_type": "code",
   "execution_count": null,
   "metadata": {},
   "outputs": [],
   "source": [
    "latoMaggiore = 4\n",
    "latoMinore = 3\n",
    "areaRettangolo = latoMaggiore * latoMinore\n",
    "print(areaRettangolo)"
   ]
  },
  {
   "cell_type": "markdown",
   "metadata": {},
   "source": [
    "Ultimo passaggio per completare la lezione numero 1!!!!\n",
    "La regola d'oro che non si possono sommare \"pere e mele\" vale anche in Python! \n",
    "Proviamo ad eseguire il seguente comando e vediamo se il risultato è quello che ci si aspetta."
   ]
  },
  {
   "cell_type": "code",
   "execution_count": null,
   "metadata": {},
   "outputs": [],
   "source": [
    "print(\"Gianluca\"+77)"
   ]
  },
  {
   "cell_type": "markdown",
   "metadata": {},
   "source": [
    "Per risolvere il problema mi basta ricordarmi che Python permette la conversione di tipo usando l'operazione di cast. In questo caso voglio concatenare la stringa \"Gianluca\" al numero 77. In realtà quello che voglio fare non è proprio questo, ma vorrei concatenare \"Gianluca\" alla stringa \"77\". Per farlo devo convertire il numero 77 nella stringa \"77\". Per farlo mi basta usare la funzione str()."
   ]
  },
  {
   "cell_type": "code",
   "execution_count": null,
   "metadata": {},
   "outputs": [],
   "source": [
    "print(\"Gianluca\"+str(77))"
   ]
  },
  {
   "cell_type": "markdown",
   "metadata": {},
   "source": [
    "Rendiamo ora più interessante il programma che calcola l'area del rettangolo prendendo in ingresso i due valori di lato maggiore e lato minore... Cosa ne pensate? E' ora qualcosa di più intuitivo?"
   ]
  },
  {
   "cell_type": "code",
   "execution_count": null,
   "metadata": {},
   "outputs": [],
   "source": [
    "print(\" *** Questo programma calcola l'area del rettangolo a partire dai due lati\")\n",
    "print(\" Quale è il valore del lato maggiore?\")\n",
    "latoMaggiore = int(input())\n",
    "print(\" Quale è il valore del lato minore?\")\n",
    "latoMinore = int(input())\n",
    "areaRettangolo = latoMaggiore * latoMinore\n",
    "print(\" L'area del rettangolo è \" + str(areaRettangolo))\n"
   ]
  },
  {
   "cell_type": "markdown",
   "metadata": {},
   "source": [
    "**WOW! Abbiamo finito la lezione 1.. è ora di passare a qualche esercizio!**"
   ]
  }
 ],
 "metadata": {
  "kernelspec": {
   "display_name": "Python 3",
   "language": "python",
   "name": "python3"
  },
  "language_info": {
   "codemirror_mode": {
    "name": "ipython",
    "version": 3
   },
   "file_extension": ".py",
   "mimetype": "text/x-python",
   "name": "python",
   "nbconvert_exporter": "python",
   "pygments_lexer": "ipython3",
   "version": "3.6.4"
  }
 },
 "nbformat": 4,
 "nbformat_minor": 2
}
