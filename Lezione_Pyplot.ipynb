{
 "cells": [
  {
   "cell_type": "markdown",
   "metadata": {},
   "source": [
    "# Python per disegnare grafici: Alcuni cenni\n",
    "Uno dei motivi principali dell'uso del calcolatore è l'elaborazione dati. A questa fase segue spesso quella che ci permette di visualizzare i dati eleaborati. In questa lezione vedremo come sia possibile con poche righe fare qualche grafico \"carino\".\n",
    "\n",
    "Per farlo dobbiamo usare un modulo/libreria chiamato `matplotlib.pyplot` che contiene molte delle funzioni che ci serviranno. Per farlo basta includere come al solito la libreria con `import matplotlib.pyplot` ... ma dato che il suo nome da anteporre a tutte le funzioni diventerebbe lungo e noioso lo accorceremo come `pplot`.\n",
    "\n",
    "    import matplotlib.pyplot as pplot\n",
    "\n",
    "Vediamo ora come poter creare un grafico lineare per punti di y = 2x, con x tra 0 e 3. Per farlo mi basta dichiarare i valori delle x e delle y dei punti presi in considerazione e metterli in due vettori (liste) separati ed infine chiamare la funzione `pplot.plot(x,y)`. Per poter visualizzare il grafico devo usare `pplot.show()`"
   ]
  },
  {
   "cell_type": "code",
   "execution_count": null,
   "metadata": {},
   "outputs": [],
   "source": [
    "import matplotlib.pyplot as pplot\n",
    "\n",
    "#CREO I DATI\n",
    "x = [0, 1, 2, 3]\n",
    "y = [0, 2, 4, 6]\n",
    "\n",
    "#CREO IL GRAFICO\n",
    "pplot.plot(x, y)\n",
    "\n",
    "#VISUALIZZO IL GRAFICO\n",
    "pplot.show()"
   ]
  },
  {
   "cell_type": "markdown",
   "metadata": {},
   "source": [
    "Fantastico! ... beh, diciamo che questo grafico è un pò scarno. Per poterlo \"decorare\" con etichette sugli assi o una griglia, ad esempio per vedere meglio i valori, sufficiente aggiungere qualche chiamata di nome \"intuitivo\"."
   ]
  },
  {
   "cell_type": "code",
   "execution_count": null,
   "metadata": {},
   "outputs": [],
   "source": [
    "import matplotlib.pyplot as pplot\n",
    "\n",
    "#CREO I DATI\n",
    "x = [0, 1, 2, 3]\n",
    "y = [0, 2, 4, 6]\n",
    "\n",
    "#CREO IL GRAFICO\n",
    "pplot.plot(x, y)\n",
    "\n",
    "#METTO LE ETICHETTE AGLI ASSI\n",
    "pplot.ylabel('La mia Y-etichetta')\n",
    "pplot.xlabel('La mia X-etichetta')\n",
    "\n",
    "#AGGIUNGO ANCHE IL TITOLO DEL GRAFICO\n",
    "pplot.title(\"IL MIO PRIMO GRAFICO\")\n",
    "\n",
    "#AGGIUNGO LA GRIGLIA\n",
    "pplot.grid()\n",
    "\n",
    "#VISUALIZZO IL GRAFICO\n",
    "pplot.show()"
   ]
  },
  {
   "cell_type": "markdown",
   "metadata": {},
   "source": [
    "Ora si che mi piace! Hey, ma se volessi visualizzare più di una serie di dati? Nulla di più semplice, basta chiamare nuovamente la funzione `plot` con una nuova serie di dati! Posso anche creare la legenda e dare un nome alle due serie. Vediamo come:"
   ]
  },
  {
   "cell_type": "code",
   "execution_count": null,
   "metadata": {},
   "outputs": [],
   "source": [
    "import matplotlib.pyplot as pplot\n",
    "\n",
    "#CREO I DATI\n",
    "x = [0, 1, 2, 3]\n",
    "y = [0, 2, 4, 6] # y=x*2\n",
    "y2 = [0, 1, 4, 9] # y=x**2\n",
    "\n",
    "#CREO IL GRAFICO con una etichetta\n",
    "pplot.plot(x, y, label=\"y=x*2\")\n",
    "#CREO IL GRAFICO2 con una etichetta\n",
    "pplot.plot(x, y2, label=\"y=x**2\")\n",
    "# Aggiungo la legenda\n",
    "pplot.legend()\n",
    "\n",
    "#METTO LE ETICHETTE AGLI ASSI\n",
    "pplot.ylabel('La mia Y-etichetta')\n",
    "pplot.xlabel('La mia X-etichetta')\n",
    "\n",
    "#AGGIUNGO ANCHE IL TITOLO DEL GRAFICO\n",
    "pplot.title(\"IL MIO PRIMO GRAFICO\")\n",
    "\n",
    "#AGGIUNGO LA GRIGLIA\n",
    "pplot.grid()\n",
    "\n",
    "#VISUALIZZO IL GRAFICO\n",
    "pplot.show()"
   ]
  },
  {
   "cell_type": "markdown",
   "metadata": {},
   "source": [
    "Come possiamo vedere, il grafico è costruito \"a pezzi\" perchè non è altro che una interpolazione dei punti presenti ni vettori che lo costituiscono. E' possibile migliorarne l'accuratezza aumentando la densità di punti nei vettori stessi. Per farlo proviamo a costruire lo stesso grafico usando 30 punti equidistanziati per l'intevallo 0-3, cioè avere un punto ogni 0.1 sull'asse X. Per farlo non posso scrivere tutte le coppie perchè sarebbe troppo dispendioso e soprattutto non sarebbe scalabile nel caso volessi portare l'asse x fino a 100. \n",
    "\n",
    "Per farlo, genero il vettore automaticamente, facendo attenzione che la funzione range genera solo valori interi."
   ]
  },
  {
   "cell_type": "code",
   "execution_count": null,
   "metadata": {},
   "outputs": [],
   "source": [
    "import matplotlib.pyplot as pplot\n",
    "\n",
    "#CREO I DATI\n",
    "x=[]\n",
    "y=[]\n",
    "y2=[]\n",
    "for x_per_10 in range(0,30,1):\n",
    "    x_vero=x_per_10/10\n",
    "    x.append(x_vero)\n",
    "    y.append(x_vero*2)\n",
    "    y2.append(x_vero**2) \n",
    "    \n",
    "######### DA QUI COME PRIMA ########################    \n",
    "\n",
    "#CREO IL GRAFICO con una etichetta\n",
    "pplot.plot(x, y, label=\"y=x*2\")\n",
    "#CREO IL GRAFICO2 con una etichetta\n",
    "pplot.plot(x, y2, label=\"y=x**2\")\n",
    "# Aggiungo la legenda\n",
    "pplot.legend()\n",
    "\n",
    "#METTO LE ETICHETTE AGLI ASSI\n",
    "pplot.ylabel('La mia Y-etichetta')\n",
    "pplot.xlabel('La mia X-etichetta')\n",
    "\n",
    "#AGGIUNGO ANCHE IL TITOLO DEL GRAFICO\n",
    "pplot.title(\"IL MIO PRIMO GRAFICO\")\n",
    "\n",
    "#AGGIUNGO LA GRIGLIA\n",
    "pplot.grid()\n",
    "\n",
    "#VISUALIZZO IL GRAFICO\n",
    "pplot.show()\n"
   ]
  },
  {
   "cell_type": "markdown",
   "metadata": {},
   "source": [
    "Ora si che ci siamo! I punti sono molto più fitti. Per vedere i punti che generano il grafico posso usare la funzione `pplot.scatter(x,y)` all posto della già vista `pplot.plot(x,y)`.\n",
    "\n",
    "Prima di vedere come stampo i \"puntini\", vediamo anche come poter salvare l'immagine create con il grafico. Per farlo devo usare la funzione `pplot.savefig(nomefile)`, prima della chiamata `pplot.show()`. Vediamo subito il nuovo grafico!\n"
   ]
  },
  {
   "cell_type": "code",
   "execution_count": null,
   "metadata": {},
   "outputs": [],
   "source": [
    "import matplotlib.pyplot as pplot\n",
    "\n",
    "#CREO I DATI\n",
    "x=[]\n",
    "y=[]\n",
    "y2=[]\n",
    "for x_per_10 in range(0,30,1):\n",
    "    x_vero=x_per_10/10\n",
    "    x.append(x_vero)\n",
    "    y.append(x_vero*2)\n",
    "    y2.append(x_vero**2) \n",
    "\n",
    "#CREO IL GRAFICO con una etichetta e visualizzo solo i punti\n",
    "pplot.scatter(x, y, label=\"y=x*2\") \n",
    "\n",
    "#CREO IL GRAFICO2 con una etichetta e visualizzo solo i punti\n",
    "pplot.scatter(x, y2, label=\"y=x**2\")\n",
    "\n",
    "# Aggiungo la legenda\n",
    "pplot.legend()\n",
    "\n",
    "#METTO LE ETICHETTE AGLI ASSI\n",
    "pplot.ylabel('La mia Y-etichetta')\n",
    "pplot.xlabel('La mia X-etichetta')\n",
    "\n",
    "#AGGIUNGO ANCHE IL TITOLO DEL GRAFICO\n",
    "pplot.title(\"IL MIO PRIMO GRAFICO\")\n",
    "\n",
    "#AGGIUNGO LA GRIGLIA\n",
    "pplot.grid()\n",
    "\n",
    "pplot.savefig(\"2test_ggg.png\")\n",
    "\n",
    "#VISUALIZZO IL GRAFICO\n",
    "pplot.show()\n",
    "\n"
   ]
  },
  {
   "cell_type": "markdown",
   "metadata": {},
   "source": [
    "Allo stesso modo posso semplicemente creare un **GRAFICO A BARRE** usando la funzione `pplot.bar(x,y)` facendo attenzione che usando variabili categoriche (etichette e non numeri) non sempre ottengo ciò che mi apsettavo.\n",
    "Ad esempio dopo aver visto come creare il grafico a barre, prova ad osservare l'asse x e prova ora a usare la funzione `pplot.plot(x,y)`... "
   ]
  },
  {
   "cell_type": "code",
   "execution_count": null,
   "metadata": {},
   "outputs": [],
   "source": [
    "import matplotlib.pyplot as pplot\n",
    "\n",
    "#CREO I DATI\n",
    "x = ['Simona', 'Carla', 'Roberto', 'Marco']\n",
    "y = [30, 24, 45, 16] # y=x*2\n",
    "\n",
    "#CREO IL GRAFICO con una etichetta\n",
    "pplot.bar(x,y)\n",
    "\n",
    "#METTO LE ETICHETTE AGLI ASSI\n",
    "pplot.ylabel('La mia Y-etichetta')\n",
    "pplot.xlabel('La mia X-etichetta')\n",
    "\n",
    "#AGGIUNGO ANCHE IL TITOLO DEL GRAFICO\n",
    "pplot.title(\"GRAFICO A BARRE\")\n",
    "\n",
    "#VISUALIZZO IL GRAFICO\n",
    "pplot.show()"
   ]
  },
  {
   "cell_type": "markdown",
   "metadata": {},
   "source": [
    "Ultimo grafico che vedremo è quello a torta. Anche in questo caso per crearlo in formato base è molto semplice. In questo caso vediamo l'uso di alcuni parametri sepciali all'interno della chiamata alla funzione di creazione del grafico `pplot.pie(...)`.\n"
   ]
  },
  {
   "cell_type": "code",
   "execution_count": null,
   "metadata": {},
   "outputs": [],
   "source": [
    "import matplotlib.pyplot as pplot\n",
    "\n",
    "#CREO I DATI\n",
    "x = ['Simona', 'Carla', 'Roberto', 'Marco']\n",
    "y = [30, 25, 43, 12] # y=x*2\n",
    "\n",
    "# only \"explode\" the 2nd slice (i.e. 'H')\n",
    "espandi = [0, 0.1, 0, 0]  \n",
    "\n",
    "\n",
    "#CREO IL GRAFICO con una etichetta\n",
    "pplot.pie(y, labels = x, explode = espandi)\n",
    "\n",
    "#AGGIUNGO ANCHE IL TITOLO DEL GRAFICO\n",
    "pplot.title(\"GRAFICO A TORTA\")\n",
    "\n",
    "#VISUALIZZO IL GRAFICO\n",
    "pplot.show()\n"
   ]
  },
  {
   "cell_type": "markdown",
   "metadata": {},
   "source": [
    "Lo scopo di questa lezione è stata quella di mostrare esempi semplici e le funzioni base per la creazione di grafici con Python e in particolare con pyplot."
   ]
  }
 ],
 "metadata": {
  "kernelspec": {
   "display_name": "Python 3",
   "language": "python",
   "name": "python3"
  },
  "language_info": {
   "codemirror_mode": {
    "name": "ipython",
    "version": 3
   },
   "file_extension": ".py",
   "mimetype": "text/x-python",
   "name": "python",
   "nbconvert_exporter": "python",
   "pygments_lexer": "ipython3",
   "version": "3.6.4"
  }
 },
 "nbformat": 4,
 "nbformat_minor": 2
}
