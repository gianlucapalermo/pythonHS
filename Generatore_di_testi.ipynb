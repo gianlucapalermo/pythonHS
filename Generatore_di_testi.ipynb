{
 "cells": [
  {
   "cell_type": "markdown",
   "metadata": {},
   "source": [
    "# Generatore Automatico di Tweet/Post \n",
    "# Poeta Meccanico \n",
    "# Generatore automatico di canzoni Trep ...\n",
    "Viene proposto di realizzare un sistema che, a partire da un testo (es: tutti i tweet di un politico o di un influencer, oppire la Divina Commedia, oppure tutta la produzione di un cantante Trep), provi a generane uno nuovo, in qualche modo *imitando* lo stile in ingresso. \n",
    "\n",
    "Cercheremo di usare un modo semplice di *addestrare* il nostro generatore automatico. Il risultato è spesso divertente, sorprendente... ma a volte non si capisce. ... non che i testi delle canzoni Trep siano più chiari ;-)"
   ]
  },
  {
   "cell_type": "markdown",
   "metadata": {},
   "source": [
    "Per farlo la prima cosa che dobbiamo fare è leggere un file di testo. "
   ]
  },
  {
   "cell_type": "code",
   "execution_count": null,
   "metadata": {},
   "outputs": [],
   "source": [
    "def leggiFile(testo):\n",
    "    with open(testo) as file:\n",
    "        file_contents = file.read()\n",
    "        file_spezzettato=file_contents.split()\n",
    "    return file_spezzettato\n"
   ]
  },
  {
   "cell_type": "markdown",
   "metadata": {},
   "source": [
    "Ora cerchiamo di prendere una parola da quale iniziare a construire la nostra frase."
   ]
  },
  {
   "cell_type": "code",
   "execution_count": null,
   "metadata": {},
   "outputs": [],
   "source": [
    "import random\n",
    "\n",
    "testo=\"dc.txt\"\n",
    "testo=\"af.txt\"\n",
    "\n",
    "a= leggiFile(testo)\n",
    "x = input(\"Con quale parola vuoi iniziare?\")\n"
   ]
  },
  {
   "cell_type": "markdown",
   "metadata": {},
   "source": [
    "Ora il nostro generatore dovrà cercare nel testo iniziale tutte le parole che seguono quella data e sceglierne a caso 1. Poi questa sarà la nuova parola da ricercare, e così via."
   ]
  },
  {
   "cell_type": "code",
   "execution_count": null,
   "metadata": {},
   "outputs": [],
   "source": [
    "#inserisci qui la soluzione\n",
    "\n",
    "\n",
    "\n",
    "    "
   ]
  }
 ],
 "metadata": {
  "kernelspec": {
   "display_name": "Python 3",
   "language": "python",
   "name": "python3"
  },
  "language_info": {
   "codemirror_mode": {
    "name": "ipython",
    "version": 3
   },
   "file_extension": ".py",
   "mimetype": "text/x-python",
   "name": "python",
   "nbconvert_exporter": "python",
   "pygments_lexer": "ipython3",
   "version": "3.6.4"
  }
 },
 "nbformat": 4,
 "nbformat_minor": 2
}
